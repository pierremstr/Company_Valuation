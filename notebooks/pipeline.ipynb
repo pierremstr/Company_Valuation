{
 "cells": [
  {
   "cell_type": "code",
   "execution_count": 79,
   "id": "subtle-ukraine",
   "metadata": {},
   "outputs": [],
   "source": [
    "import pandas as pd\n",
    "import numpy as np\n",
    "# Visualizing pipelines in HTML\n",
    "from sklearn import set_config; set_config()\n",
    "# Pipelines\n",
    "from sklearn.pipeline import Pipeline\n",
    "from sklearn.compose import ColumnTransformer\n",
    "# NLP\n",
    "from nltk.corpus import stopwords\n",
    "from nltk.tokenize import word_tokenize\n",
    "import string\n",
    "from sklearn.feature_extraction.text import CountVectorizer\n",
    "# Suppress warning\n",
    "pd.options.mode.chained_assignment = None"
   ]
  },
  {
   "cell_type": "code",
   "execution_count": 19,
   "id": "coated-translator",
   "metadata": {},
   "outputs": [],
   "source": [
    "df = pd.read_excel('../raw_data/10k_company_info.xlsx')"
   ]
  },
  {
   "cell_type": "code",
   "execution_count": 52,
   "id": "royal-fiber",
   "metadata": {},
   "outputs": [],
   "source": [
    "selected_cols = df[['companyName','symbol','country', 'industry', 'sector', 'tags']]"
   ]
  },
  {
   "cell_type": "code",
   "execution_count": 27,
   "id": "informational-transfer",
   "metadata": {},
   "outputs": [
    {
     "data": {
      "text/html": [
       "<div>\n",
       "<style scoped>\n",
       "    .dataframe tbody tr th:only-of-type {\n",
       "        vertical-align: middle;\n",
       "    }\n",
       "\n",
       "    .dataframe tbody tr th {\n",
       "        vertical-align: top;\n",
       "    }\n",
       "\n",
       "    .dataframe thead th {\n",
       "        text-align: right;\n",
       "    }\n",
       "</style>\n",
       "<table border=\"1\" class=\"dataframe\">\n",
       "  <thead>\n",
       "    <tr style=\"text-align: right;\">\n",
       "      <th></th>\n",
       "      <th>companyName</th>\n",
       "      <th>symbol</th>\n",
       "      <th>country</th>\n",
       "      <th>industry</th>\n",
       "      <th>sector</th>\n",
       "      <th>tags</th>\n",
       "    </tr>\n",
       "  </thead>\n",
       "  <tbody>\n",
       "    <tr>\n",
       "      <th>0</th>\n",
       "      <td>Arlington Asset Investment Corp</td>\n",
       "      <td>AAIC-B</td>\n",
       "      <td>US</td>\n",
       "      <td>Securities and Commodity Exchanges</td>\n",
       "      <td>Finance and Insurance</td>\n",
       "      <td>['Finance', 'Real Estate Investment Trusts', '...</td>\n",
       "    </tr>\n",
       "    <tr>\n",
       "      <th>1</th>\n",
       "      <td>Arlington Asset Investment Corp</td>\n",
       "      <td>AAIC-C</td>\n",
       "      <td>US</td>\n",
       "      <td>Securities and Commodity Exchanges</td>\n",
       "      <td>Finance and Insurance</td>\n",
       "      <td>['Finance', 'Real Estate Investment Trusts', '...</td>\n",
       "    </tr>\n",
       "  </tbody>\n",
       "</table>\n",
       "</div>"
      ],
      "text/plain": [
       "                       companyName  symbol country  \\\n",
       "0  Arlington Asset Investment Corp  AAIC-B      US   \n",
       "1  Arlington Asset Investment Corp  AAIC-C      US   \n",
       "\n",
       "                             industry                 sector  \\\n",
       "0  Securities and Commodity Exchanges  Finance and Insurance   \n",
       "1  Securities and Commodity Exchanges  Finance and Insurance   \n",
       "\n",
       "                                                tags  \n",
       "0  ['Finance', 'Real Estate Investment Trusts', '...  \n",
       "1  ['Finance', 'Real Estate Investment Trusts', '...  "
      ]
     },
     "execution_count": 27,
     "metadata": {},
     "output_type": "execute_result"
    }
   ],
   "source": [
    "selected_cols.head(2)"
   ]
  },
  {
   "cell_type": "code",
   "execution_count": 58,
   "id": "amber-grave",
   "metadata": {
    "scrolled": true
   },
   "outputs": [
    {
     "name": "stdout",
     "output_type": "stream",
     "text": [
      "<class 'pandas.core.frame.DataFrame'>\n",
      "RangeIndex: 9876 entries, 0 to 9875\n",
      "Data columns (total 7 columns):\n",
      " #   Column       Non-Null Count  Dtype \n",
      "---  ------       --------------  ----- \n",
      " 0   companyName  9855 non-null   object\n",
      " 1   symbol       9876 non-null   object\n",
      " 2   country      5015 non-null   object\n",
      " 3   industry     5962 non-null   object\n",
      " 4   sector       5962 non-null   object\n",
      " 5   tags         9876 non-null   object\n",
      " 6   info         5962 non-null   object\n",
      "dtypes: object(7)\n",
      "memory usage: 540.2+ KB\n"
     ]
    }
   ],
   "source": [
    "selected_cols.info()"
   ]
  },
  {
   "cell_type": "code",
   "execution_count": 61,
   "id": "vanilla-plumbing",
   "metadata": {
    "scrolled": true
   },
   "outputs": [],
   "source": [
    "selected_cols = selected_cols.dropna().drop_duplicates()"
   ]
  },
  {
   "cell_type": "code",
   "execution_count": 76,
   "id": "controversial-hughes",
   "metadata": {},
   "outputs": [],
   "source": [
    "def clean_info(info):\n",
    "    # Remove punctuation\n",
    "    for p in string.punctuation:\n",
    "        info = info.replace(p, '')   \n",
    "    # Lower case\n",
    "    info = info.lower()\n",
    "    # Remove numbers\n",
    "    info = ''.join(word for word in info if not word.isdigit())\n",
    "    # Remove stop words\n",
    "    stop_words = set(stopwords.words('english'))\n",
    "    word_tokens = word_tokenize(info)\n",
    "    info = [w for w in word_tokens if not w in stop_words]\n",
    "    info = ' '.join(info)\n",
    "    return info"
   ]
  },
  {
   "cell_type": "code",
   "execution_count": 62,
   "id": "passive-invention",
   "metadata": {
    "scrolled": true
   },
   "outputs": [],
   "source": [
    "selected_cols['info'] = selected_cols['industry'] + ' ' + selected_cols['sector'] + ' ' + selected_cols['tags']"
   ]
  },
  {
   "cell_type": "code",
   "execution_count": 63,
   "id": "illegal-designer",
   "metadata": {},
   "outputs": [
    {
     "name": "stdout",
     "output_type": "stream",
     "text": [
      "<class 'pandas.core.frame.DataFrame'>\n",
      "Int64Index: 4407 entries, 0 to 9856\n",
      "Data columns (total 7 columns):\n",
      " #   Column       Non-Null Count  Dtype \n",
      "---  ------       --------------  ----- \n",
      " 0   companyName  4407 non-null   object\n",
      " 1   symbol       4407 non-null   object\n",
      " 2   country      4407 non-null   object\n",
      " 3   industry     4407 non-null   object\n",
      " 4   sector       4407 non-null   object\n",
      " 5   tags         4407 non-null   object\n",
      " 6   info         4407 non-null   object\n",
      "dtypes: object(7)\n",
      "memory usage: 275.4+ KB\n"
     ]
    }
   ],
   "source": [
    "selected_cols.info()"
   ]
  },
  {
   "cell_type": "code",
   "execution_count": 78,
   "id": "latin-object",
   "metadata": {
    "scrolled": false
   },
   "outputs": [],
   "source": [
    "selected_cols['clean_info'] = selected_cols['info'].apply(clean_info)"
   ]
  },
  {
   "cell_type": "code",
   "execution_count": 87,
   "id": "victorian-muslim",
   "metadata": {},
   "outputs": [
    {
     "data": {
      "text/plain": [
       "array([[0, 0, 0, ..., 0, 0, 0],\n",
       "       [0, 0, 0, ..., 0, 0, 0],\n",
       "       [0, 0, 0, ..., 0, 0, 0],\n",
       "       ...,\n",
       "       [0, 0, 0, ..., 0, 0, 0],\n",
       "       [0, 0, 0, ..., 0, 0, 0],\n",
       "       [0, 0, 0, ..., 0, 0, 0]])"
      ]
     },
     "execution_count": 87,
     "metadata": {},
     "output_type": "execute_result"
    }
   ],
   "source": [
    "vectorizer = CountVectorizer(ngram_range=(1,3), max_df=0.95, min_df=0.05)\n",
    "\n",
    "X = vectorizer.fit_transform(selected_cols['clean_info'])\n",
    "\n",
    "X.toarray()"
   ]
  },
  {
   "cell_type": "code",
   "execution_count": 88,
   "id": "empty-underground",
   "metadata": {},
   "outputs": [
    {
     "data": {
      "text/plain": [
       "(array([0, 1, 2, 3, 4, 5, 6, 7, 8]),\n",
       " array([396702,  26062,   9819,   1576,   1562,    447,    120,      2,\n",
       "             3]))"
      ]
     },
     "execution_count": 88,
     "metadata": {},
     "output_type": "execute_result"
    }
   ],
   "source": [
    "np.unique(X.toarray(),return_counts=True)"
   ]
  },
  {
   "cell_type": "code",
   "execution_count": 90,
   "id": "future-alarm",
   "metadata": {},
   "outputs": [
    {
     "data": {
      "text/html": [
       "<div>\n",
       "<style scoped>\n",
       "    .dataframe tbody tr th:only-of-type {\n",
       "        vertical-align: middle;\n",
       "    }\n",
       "\n",
       "    .dataframe tbody tr th {\n",
       "        vertical-align: top;\n",
       "    }\n",
       "\n",
       "    .dataframe thead th {\n",
       "        text-align: right;\n",
       "    }\n",
       "</style>\n",
       "<table border=\"1\" class=\"dataframe\">\n",
       "  <thead>\n",
       "    <tr style=\"text-align: right;\">\n",
       "      <th></th>\n",
       "      <th>companyName</th>\n",
       "      <th>symbol</th>\n",
       "      <th>country</th>\n",
       "      <th>banking</th>\n",
       "      <th>banking finance</th>\n",
       "      <th>banking finance insurance</th>\n",
       "      <th>banks</th>\n",
       "      <th>banks finance</th>\n",
       "      <th>banks finance insurance</th>\n",
       "      <th>biotechnology</th>\n",
       "      <th>...</th>\n",
       "      <th>technology</th>\n",
       "      <th>technology biotechnology</th>\n",
       "      <th>technology biotechnology manufacturing</th>\n",
       "      <th>technology services</th>\n",
       "      <th>trusts</th>\n",
       "      <th>trusts finance</th>\n",
       "      <th>trusts finance insurance</th>\n",
       "      <th>vehicles</th>\n",
       "      <th>vehicles finance</th>\n",
       "      <th>vehicles finance insurance</th>\n",
       "    </tr>\n",
       "  </thead>\n",
       "  <tbody>\n",
       "    <tr>\n",
       "      <th>0</th>\n",
       "      <td>Arlington Asset Investment Corp</td>\n",
       "      <td>AAIC-B</td>\n",
       "      <td>US</td>\n",
       "      <td>0</td>\n",
       "      <td>0</td>\n",
       "      <td>0</td>\n",
       "      <td>0</td>\n",
       "      <td>0</td>\n",
       "      <td>0</td>\n",
       "      <td>0</td>\n",
       "      <td>...</td>\n",
       "      <td>0</td>\n",
       "      <td>0</td>\n",
       "      <td>0</td>\n",
       "      <td>0</td>\n",
       "      <td>1</td>\n",
       "      <td>1</td>\n",
       "      <td>1</td>\n",
       "      <td>0</td>\n",
       "      <td>0</td>\n",
       "      <td>0</td>\n",
       "    </tr>\n",
       "    <tr>\n",
       "      <th>1</th>\n",
       "      <td>Arlington Asset Investment Corp</td>\n",
       "      <td>AAIC-C</td>\n",
       "      <td>US</td>\n",
       "      <td>0</td>\n",
       "      <td>0</td>\n",
       "      <td>0</td>\n",
       "      <td>0</td>\n",
       "      <td>0</td>\n",
       "      <td>0</td>\n",
       "      <td>0</td>\n",
       "      <td>...</td>\n",
       "      <td>0</td>\n",
       "      <td>0</td>\n",
       "      <td>0</td>\n",
       "      <td>0</td>\n",
       "      <td>1</td>\n",
       "      <td>1</td>\n",
       "      <td>1</td>\n",
       "      <td>0</td>\n",
       "      <td>0</td>\n",
       "      <td>0</td>\n",
       "    </tr>\n",
       "    <tr>\n",
       "      <th>2</th>\n",
       "      <td>American Airlines Group Inc</td>\n",
       "      <td>AAL</td>\n",
       "      <td>US</td>\n",
       "      <td>0</td>\n",
       "      <td>0</td>\n",
       "      <td>0</td>\n",
       "      <td>0</td>\n",
       "      <td>0</td>\n",
       "      <td>0</td>\n",
       "      <td>0</td>\n",
       "      <td>...</td>\n",
       "      <td>0</td>\n",
       "      <td>0</td>\n",
       "      <td>0</td>\n",
       "      <td>0</td>\n",
       "      <td>0</td>\n",
       "      <td>0</td>\n",
       "      <td>0</td>\n",
       "      <td>0</td>\n",
       "      <td>0</td>\n",
       "      <td>0</td>\n",
       "    </tr>\n",
       "    <tr>\n",
       "      <th>6</th>\n",
       "      <td>Applied Optoelectronics Inc</td>\n",
       "      <td>AAOI</td>\n",
       "      <td>US</td>\n",
       "      <td>0</td>\n",
       "      <td>0</td>\n",
       "      <td>0</td>\n",
       "      <td>0</td>\n",
       "      <td>0</td>\n",
       "      <td>0</td>\n",
       "      <td>0</td>\n",
       "      <td>...</td>\n",
       "      <td>1</td>\n",
       "      <td>0</td>\n",
       "      <td>0</td>\n",
       "      <td>0</td>\n",
       "      <td>0</td>\n",
       "      <td>0</td>\n",
       "      <td>0</td>\n",
       "      <td>0</td>\n",
       "      <td>0</td>\n",
       "      <td>0</td>\n",
       "    </tr>\n",
       "    <tr>\n",
       "      <th>8</th>\n",
       "      <td>Advance Auto Parts Inc</td>\n",
       "      <td>AAP</td>\n",
       "      <td>US</td>\n",
       "      <td>0</td>\n",
       "      <td>0</td>\n",
       "      <td>0</td>\n",
       "      <td>0</td>\n",
       "      <td>0</td>\n",
       "      <td>0</td>\n",
       "      <td>0</td>\n",
       "      <td>...</td>\n",
       "      <td>0</td>\n",
       "      <td>0</td>\n",
       "      <td>0</td>\n",
       "      <td>0</td>\n",
       "      <td>0</td>\n",
       "      <td>0</td>\n",
       "      <td>0</td>\n",
       "      <td>0</td>\n",
       "      <td>0</td>\n",
       "      <td>0</td>\n",
       "    </tr>\n",
       "  </tbody>\n",
       "</table>\n",
       "<p>5 rows × 102 columns</p>\n",
       "</div>"
      ],
      "text/plain": [
       "                       companyName  symbol country  banking  banking finance  \\\n",
       "0  Arlington Asset Investment Corp  AAIC-B      US        0                0   \n",
       "1  Arlington Asset Investment Corp  AAIC-C      US        0                0   \n",
       "2      American Airlines Group Inc     AAL      US        0                0   \n",
       "6      Applied Optoelectronics Inc    AAOI      US        0                0   \n",
       "8           Advance Auto Parts Inc     AAP      US        0                0   \n",
       "\n",
       "   banking finance insurance  banks  banks finance  banks finance insurance  \\\n",
       "0                          0      0              0                        0   \n",
       "1                          0      0              0                        0   \n",
       "2                          0      0              0                        0   \n",
       "6                          0      0              0                        0   \n",
       "8                          0      0              0                        0   \n",
       "\n",
       "   biotechnology  ...  technology  technology biotechnology  \\\n",
       "0              0  ...           0                         0   \n",
       "1              0  ...           0                         0   \n",
       "2              0  ...           0                         0   \n",
       "6              0  ...           1                         0   \n",
       "8              0  ...           0                         0   \n",
       "\n",
       "   technology biotechnology manufacturing  technology services  trusts  \\\n",
       "0                                       0                    0       1   \n",
       "1                                       0                    0       1   \n",
       "2                                       0                    0       0   \n",
       "6                                       0                    0       0   \n",
       "8                                       0                    0       0   \n",
       "\n",
       "   trusts finance  trusts finance insurance  vehicles  vehicles finance  \\\n",
       "0               1                         1         0                 0   \n",
       "1               1                         1         0                 0   \n",
       "2               0                         0         0                 0   \n",
       "6               0                         0         0                 0   \n",
       "8               0                         0         0                 0   \n",
       "\n",
       "   vehicles finance insurance  \n",
       "0                           0  \n",
       "1                           0  \n",
       "2                           0  \n",
       "6                           0  \n",
       "8                           0  \n",
       "\n",
       "[5 rows x 102 columns]"
      ]
     },
     "execution_count": 90,
     "metadata": {},
     "output_type": "execute_result"
    }
   ],
   "source": [
    "vect_df = pd.DataFrame(X.toarray(), columns=vectorizer.get_feature_names(), index= selected_cols.index)\n",
    "\n",
    "merged_df = selected_cols.merge(vect_df, left_index=True, right_index=True, how='left')\n",
    "\n",
    "merged_df.drop(columns=['industry', 'sector', 'tags', 'info', 'clean_info'], inplace=True)\n",
    "\n",
    "merged_df.head()"
   ]
  }
 ],
 "metadata": {
  "kernelspec": {
   "display_name": "Python 3",
   "language": "python",
   "name": "python3"
  },
  "language_info": {
   "codemirror_mode": {
    "name": "ipython",
    "version": 3
   },
   "file_extension": ".py",
   "mimetype": "text/x-python",
   "name": "python",
   "nbconvert_exporter": "python",
   "pygments_lexer": "ipython3",
   "version": "3.8.6"
  },
  "toc": {
   "base_numbering": 1,
   "nav_menu": {},
   "number_sections": true,
   "sideBar": true,
   "skip_h1_title": false,
   "title_cell": "Table of Contents",
   "title_sidebar": "Contents",
   "toc_cell": false,
   "toc_position": {},
   "toc_section_display": true,
   "toc_window_display": false
  }
 },
 "nbformat": 4,
 "nbformat_minor": 5
}
