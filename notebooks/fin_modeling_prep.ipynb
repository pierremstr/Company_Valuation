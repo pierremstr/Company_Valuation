{
 "cells": [
  {
   "cell_type": "code",
   "execution_count": 1,
   "metadata": {},
   "outputs": [
    {
     "ename": "SyntaxError",
     "evalue": "invalid syntax (<ipython-input-1-191795538e8c>, line 6)",
     "output_type": "error",
     "traceback": [
      "\u001b[0;36m  File \u001b[0;32m\"<ipython-input-1-191795538e8c>\"\u001b[0;36m, line \u001b[0;32m6\u001b[0m\n\u001b[0;31m    token = <YOUR_TOKEN>\u001b[0m\n\u001b[0m            ^\u001b[0m\n\u001b[0;31mSyntaxError\u001b[0m\u001b[0;31m:\u001b[0m invalid syntax\n"
     ]
    }
   ],
   "source": [
    "import requests\n",
    "import pandas as pd\n",
    "\n",
    "# Get company profiles\n",
    "def get_company_info(symbol):\n",
    "    token = <YOUR_TOKEN>\n",
    "    url = f'https://financialmodelingprep.com/api/v3/profile/{symbol}?apikey={token}'\n",
    "    response = requests.get(url).json()\n",
    "    return pd.DataFrame(response)\n",
    "\n",
    "# Get balance shet\n",
    "def get_balance_sheet(symbol, period='annual', limit=5):\n",
    "    # period = annual or quarter\n",
    "    # limit = number of period\n",
    "    token = <YOUR_TOKEN>\n",
    "    url = f'https://financialmodelingprep.com/api/v3/balance-sheet-statement/{symbol}?period={period}&limit={limit}&apikey={token}'\n",
    "    response = requests.get(url).json()\n",
    "    return pd.DataFrame(response)\n",
    "\n",
    "# Get annual income statement\n",
    "def get_income_statement(symbol, period='annual', limit=5):\n",
    "    # period = annual or quarter\n",
    "    # limit = number of period\n",
    "    token = <YOUR_TOKEN>\n",
    "    url = f'https://financialmodelingprep.com/api/v3/income-statement/{symbol}?period={period}&limit={limit}&apikey={token}'\n",
    "    response = requests.get(url).json()\n",
    "    return pd.DataFrame(response)\n",
    "\n",
    "# Get company ratios\n",
    "def get_ratio(symbol, period='annual'):\n",
    "    # period = annual or quarter\n",
    "    # limit = number of period\n",
    "    token = <YOUR_TOKEN>\n",
    "    url = f'https://financialmodelingprep.com/api/v3/ratios/{symbol}?period={period}&apikey={token}'\n",
    "    response = requests.get(url).json()\n",
    "    return pd.DataFrame(response)\n",
    "\n",
    "# Get enterprise value\n",
    "def get_ev(symbol, period='annual'):\n",
    "    # period = annual or quarter\n",
    "    # limit = number of period\n",
    "    token = <YOUR_TOKEN>\n",
    "    url = f'https://financialmodelingprep.com/api/v3/enterprise-value/{symbol}?period={period}&apikey={token}'\n",
    "    response = requests.get(url).json()\n",
    "    df = pd.DataFrame(response['enterpriseValues'])\n",
    "    df['symbol'] = response['symbol']\n",
    "    return df"
   ]
  },
  {
   "cell_type": "code",
   "execution_count": null,
   "metadata": {},
   "outputs": [],
   "source": []
  }
 ],
 "metadata": {
  "kernelspec": {
   "display_name": "Python 3",
   "language": "python",
   "name": "python3"
  },
  "language_info": {
   "codemirror_mode": {
    "name": "ipython",
    "version": 3
   },
   "file_extension": ".py",
   "mimetype": "text/x-python",
   "name": "python",
   "nbconvert_exporter": "python",
   "pygments_lexer": "ipython3",
   "version": "3.8.6"
  },
  "toc": {
   "base_numbering": 1,
   "nav_menu": {},
   "number_sections": true,
   "sideBar": true,
   "skip_h1_title": false,
   "title_cell": "Table of Contents",
   "title_sidebar": "Contents",
   "toc_cell": false,
   "toc_position": {},
   "toc_section_display": true,
   "toc_window_display": false
  },
  "varInspector": {
   "cols": {
    "lenName": 16,
    "lenType": 16,
    "lenVar": 40
   },
   "kernels_config": {
    "python": {
     "delete_cmd_postfix": "",
     "delete_cmd_prefix": "del ",
     "library": "var_list.py",
     "varRefreshCmd": "print(var_dic_list())"
    },
    "r": {
     "delete_cmd_postfix": ") ",
     "delete_cmd_prefix": "rm(",
     "library": "var_list.r",
     "varRefreshCmd": "cat(var_dic_list()) "
    }
   },
   "types_to_exclude": [
    "module",
    "function",
    "builtin_function_or_method",
    "instance",
    "_Feature"
   ],
   "window_display": false
  }
 },
 "nbformat": 4,
 "nbformat_minor": 4
}
