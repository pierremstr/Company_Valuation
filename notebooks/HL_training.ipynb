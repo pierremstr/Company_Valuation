{
 "cells": [
  {
   "cell_type": "code",
   "execution_count": 1,
   "id": "enabling-transparency",
   "metadata": {},
   "outputs": [],
   "source": [
    "%load_ext autoreload\n",
    "%autoreload 2"
   ]
  },
  {
   "cell_type": "code",
   "execution_count": 100,
   "id": "efficient-terrorism",
   "metadata": {},
   "outputs": [],
   "source": [
    "import pandas as pd\n",
    "import numpy as np"
   ]
  },
  {
   "cell_type": "code",
   "execution_count": 58,
   "id": "insured-diversity",
   "metadata": {},
   "outputs": [],
   "source": [
    "from Company_Valuation.trainer import Trainer"
   ]
  },
  {
   "cell_type": "code",
   "execution_count": 102,
   "id": "angry-tournament",
   "metadata": {},
   "outputs": [],
   "source": [
    "df = pd.read_csv('../Company_Valuation/clean_data/clean_clean_data.csv')"
   ]
  },
  {
   "cell_type": "code",
   "execution_count": 146,
   "id": "minimal-beverage",
   "metadata": {},
   "outputs": [],
   "source": [
    "sector_map = {'Industrials': 'Industrials', 'Technology': 'Information Technology', 'Consumer Cyclical': 'Consumer',\n",
    "              'Energy': 'Energy', 'Healthcare': 'Healthcare', 'Basic Materials': 'Materials', 'Utilities': 'Utilities',\n",
    "              'Consumer Defensive': 'Consumer', 'Communication Services': 'Communication Services', 'Metals & Mining': 'Materials',\n",
    "              'Chemicals': 'Industrials', 'Construction': 'Industrials', 'Textiles, Apparel & Luxury Goods': 'Consumer',\n",
    "              'Machinery': 'Industrials', 'Electrical Equipment': 'Industrials', 'Media': 'Communication Services',\n",
    "              'Food Products': 'Consumer', 'Auto Components': 'Industrials', 'Pharmaceuticals': 'Healthcare',\n",
    "              'Retail': 'Consumer', 'Hotels, Restaurants & Leisure': 'Consumer', 'Consumer products': 'Consumer',\n",
    "              'Commercial Services & Supplies': 'Materials', 'Trading Companies & Distributors': 'Communication Services',\n",
    "              'Telecommunication':'Communication Services','Paper & Forest': 'Materials','Industrial Conglomerates': 'Industrials',\n",
    "              'Transportation Infrastructure': 'Utilities', 'Packaging': 'Industrials',\n",
    "              'Professional Services': 'Information Technology', 'Beverages': 'Consumer','Semiconductors': 'Materials'}"
   ]
  },
  {
   "cell_type": "code",
   "execution_count": 145,
   "id": "unnecessary-indie",
   "metadata": {
    "scrolled": true
   },
   "outputs": [
    {
     "data": {
      "text/plain": [
       "array(['Industrials', 'Utilities', 'Communication Services', 'Technology',\n",
       "       'Consumer Cyclical', 'Consumer Defensive', 'Basic Materials',\n",
       "       'Energy', 'Healthcare', 'Trading Companies & Distributors',\n",
       "       'Pharmaceuticals', 'Textiles, Apparel & Luxury Goods',\n",
       "       'Metals & Mining', 'Telecommunication', 'Electrical Equipment',\n",
       "       'Transportation Infrastructure', 'Paper & Forest',\n",
       "       'Consumer products', 'Food Products', 'Auto Components', 'Retail',\n",
       "       'Hotels, Restaurants & Leisure', 'Packaging', 'Construction',\n",
       "       'Media', 'Semiconductors', 'Chemicals',\n",
       "       'Commercial Services & Supplies', 'Machinery',\n",
       "       'Industrial Conglomerates', 'Professional Services', 'Beverages'],\n",
       "      dtype=object)"
      ]
     },
     "execution_count": 145,
     "metadata": {},
     "output_type": "execute_result"
    }
   ],
   "source": [
    "df['sector'].unique()"
   ]
  },
  {
   "cell_type": "code",
   "execution_count": 147,
   "id": "above-running",
   "metadata": {},
   "outputs": [
    {
     "data": {
      "text/plain": [
       "array(['Industrials', 'Utilities', 'Communication Services',\n",
       "       'Information Technology', 'Consumer', 'Materials', 'Energy',\n",
       "       'Healthcare'], dtype=object)"
      ]
     },
     "execution_count": 147,
     "metadata": {},
     "output_type": "execute_result"
    }
   ],
   "source": [
    "df['sector'].map(sector_map).unique()"
   ]
  },
  {
   "cell_type": "code",
   "execution_count": 140,
   "id": "rental-ordinance",
   "metadata": {},
   "outputs": [],
   "source": [
    "country_map = {'US': 'US', 'CA': 'US', 'IN': 'EM', 'DE': 'EU', 'HK': 'ROW', 'FR': 'EU', 'GB': 'EU', 'CN':'EM', 'AU': 'ROW',\n",
    "               'RU': 'EM','CH':'EU','NL':'EU', 'IE':'EU', 'BE':'EU', 'IL':'EM', 'PT':'EU','BM':'ROW', 'LU':'EU'}"
   ]
  },
  {
   "cell_type": "code",
   "execution_count": null,
   "id": "institutional-testing",
   "metadata": {},
   "outputs": [],
   "source": [
    "# Scalers\n",
    "from sklearn.preprocessing import RobustScaler\n",
    "# Models\n",
    "from sklearn.neighbors import KNeighborsRegressor\n",
    "from sklearn.ensemble import RandomForestRegressor\n",
    "from sklearn.linear_model import Ridge, Lasso, LinearRegression"
   ]
  },
  {
   "cell_type": "code",
   "execution_count": 60,
   "id": "forbidden-mexican",
   "metadata": {},
   "outputs": [],
   "source": [
    "# Scalers\n",
    "r_scaler = RobustScaler()\n",
    "# Models\n",
    "lin_reg = LinearRegression()\n",
    "knn_reg = KNeighborsRegressor()"
   ]
  },
  {
   "cell_type": "code",
   "execution_count": 83,
   "id": "inclusive-fossil",
   "metadata": {},
   "outputs": [],
   "source": [
    "trainer = Trainer()"
   ]
  },
  {
   "cell_type": "code",
   "execution_count": 110,
   "id": "federal-policy",
   "metadata": {},
   "outputs": [
    {
     "name": "stdout",
     "output_type": "stream",
     "text": [
      "Cross Validated RMSE = 19525.846380856212\n"
     ]
    }
   ],
   "source": [
    "pipe = trainer.train(knn_reg)"
   ]
  },
  {
   "cell_type": "code",
   "execution_count": 97,
   "id": "public-liability",
   "metadata": {},
   "outputs": [
    {
     "data": {
      "text/plain": [
       "{'mae': 6792.146337040669,\n",
       " 'mse': 341479490.0709237,\n",
       " 'rmse': 18479.163673470823}"
      ]
     },
     "execution_count": 97,
     "metadata": {},
     "output_type": "execute_result"
    }
   ],
   "source": [
    "trainer.evaluate(pipe)"
   ]
  }
 ],
 "metadata": {
  "kernelspec": {
   "display_name": "Python 3",
   "language": "python",
   "name": "python3"
  },
  "language_info": {
   "codemirror_mode": {
    "name": "ipython",
    "version": 3
   },
   "file_extension": ".py",
   "mimetype": "text/x-python",
   "name": "python",
   "nbconvert_exporter": "python",
   "pygments_lexer": "ipython3",
   "version": "3.8.6"
  },
  "toc": {
   "base_numbering": 1,
   "nav_menu": {},
   "number_sections": true,
   "sideBar": true,
   "skip_h1_title": false,
   "title_cell": "Table of Contents",
   "title_sidebar": "Contents",
   "toc_cell": false,
   "toc_position": {},
   "toc_section_display": true,
   "toc_window_display": false
  }
 },
 "nbformat": 4,
 "nbformat_minor": 5
}
