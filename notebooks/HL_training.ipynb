{
 "cells": [
  {
   "cell_type": "code",
   "execution_count": 1,
   "id": "enabling-transparency",
   "metadata": {},
   "outputs": [],
   "source": [
    "%load_ext autoreload\n",
    "%autoreload 2"
   ]
  },
  {
   "cell_type": "code",
   "execution_count": 100,
   "id": "efficient-terrorism",
   "metadata": {},
   "outputs": [],
   "source": [
    "import pandas as pd\n",
    "import numpy as np"
   ]
  },
  {
   "cell_type": "code",
   "execution_count": 167,
   "id": "insured-diversity",
   "metadata": {},
   "outputs": [],
   "source": [
    "from Company_Valuation.trainer import Trainer\n",
    "from Company_Valuation.data import get_data, clean_data, holdout\n",
    "from Company_Valuation.utils import vectorize"
   ]
  },
  {
   "cell_type": "code",
   "execution_count": null,
   "id": "institutional-testing",
   "metadata": {},
   "outputs": [],
   "source": [
    "# Scalers\n",
    "from sklearn.preprocessing import RobustScaler\n",
    "# Models\n",
    "from sklearn.neighbors import KNeighborsRegressor\n",
    "from sklearn.ensemble import RandomForestRegressor, GradientBoostingRegressor, AdaBoostRegressor\n",
    "from sklearn.linear_model import Ridge, Lasso, LinearRegression\n",
    "from sklearn.svm import SVR\n",
    "from xgboost import XGBRegressor\n",
    "# Optimisation\n",
    "from sklearn.inspection import permutation_importance\n",
    "from sklearn.model_selection import GridSearchCV"
   ]
  },
  {
   "cell_type": "markdown",
   "id": "amended-prediction",
   "metadata": {},
   "source": [
    "# Basic Models"
   ]
  },
  {
   "cell_type": "code",
   "execution_count": 156,
   "id": "forbidden-mexican",
   "metadata": {},
   "outputs": [],
   "source": [
    "# Scalers\n",
    "r_scaler = RobustScaler()\n",
    "# Models\n",
    "lin_reg = LinearRegression()\n",
    "ridge = Ridge()\n",
    "lasso = Lasso()\n",
    "knn = KNeighborsRegressor()\n",
    "rf = RandomForestRegressor()\n",
    "gb = GradientBoostingRegressor()\n",
    "ada = AdaBoostRegressor()\n",
    "svr = SVR()\n",
    "xgb = XGBRegressor()"
   ]
  },
  {
   "cell_type": "code",
   "execution_count": 150,
   "id": "inclusive-fossil",
   "metadata": {},
   "outputs": [],
   "source": [
    "trainer = Trainer()"
   ]
  },
  {
   "cell_type": "code",
   "execution_count": 159,
   "id": "electronic-throw",
   "metadata": {},
   "outputs": [
    {
     "name": "stdout",
     "output_type": "stream",
     "text": [
      "Score for lin_reg:\n",
      "Cross Validated RMSE = 1111729.5496765822\n",
      "Score for ridge:\n",
      "Cross Validated RMSE = 15735.881244311855\n",
      "Score for lasso:\n",
      "Cross Validated RMSE = 15790.265524798926\n",
      "Score for knn:\n",
      "Cross Validated RMSE = 19526.807692390863\n",
      "Score for rf:\n",
      "Cross Validated RMSE = 11389.349961603324\n",
      "Score for gb:\n",
      "Cross Validated RMSE = 11151.68627058389\n",
      "Score for ada:\n",
      "Cross Validated RMSE = 22761.25973370383\n",
      "Score for svr:\n",
      "Cross Validated RMSE = 24423.765822392415\n",
      "Score for xgb:\n",
      "Cross Validated RMSE = 11410.67027239213\n"
     ]
    }
   ],
   "source": [
    "models = [lin_reg, ridge, lasso, knn, rf, gb, ada, svr, xgb]\n",
    "model_names = ['lin_reg', 'ridge', 'lasso', 'knn', 'rf', 'gb', 'ada', 'svr', 'xgb']\n",
    "for i in range(len(models)):\n",
    "    print(f'Score for {model_names[i]}:')\n",
    "    pipe = trainer.train(models[i])"
   ]
  },
  {
   "cell_type": "code",
   "execution_count": 161,
   "id": "federal-policy",
   "metadata": {
    "collapsed": true
   },
   "outputs": [
    {
     "name": "stdout",
     "output_type": "stream",
     "text": [
      "Score for lin_reg:\n",
      "Training without ['description']\n",
      "Cross Validated RMSE = 15727.942948490663\n",
      "Score for ridge:\n",
      "Training without ['description']\n",
      "Cross Validated RMSE = 15727.906407395392\n",
      "Score for lasso:\n",
      "Training without ['description']\n",
      "Cross Validated RMSE = 15727.981347507857\n",
      "Score for knn:\n",
      "Training without ['description']\n",
      "Cross Validated RMSE = 19526.35193766989\n",
      "Score for rf:\n",
      "Training without ['description']\n",
      "Cross Validated RMSE = 11162.445910476881\n",
      "Score for gb:\n",
      "Training without ['description']\n",
      "Cross Validated RMSE = 11203.229262009605\n",
      "Score for ada:\n",
      "Training without ['description']\n",
      "Cross Validated RMSE = 19304.239963543343\n",
      "Score for svr:\n",
      "Training without ['description']\n",
      "Cross Validated RMSE = 24423.640963518574\n",
      "Score for xgb:\n",
      "Training without ['description']\n",
      "Cross Validated RMSE = 12142.33597680596\n"
     ]
    }
   ],
   "source": [
    "models = [lin_reg, ridge, lasso, knn, rf, gb, ada, svr, xgb]\n",
    "model_names = ['lin_reg', 'ridge', 'lasso', 'knn', 'rf', 'gb', 'ada', 'svr', 'xgb']\n",
    "for i in range(len(models)):\n",
    "    print(f'Score for {model_names[i]}:')\n",
    "    pipe = trainer.train(models[i], remove_features=['description'])"
   ]
  },
  {
   "cell_type": "code",
   "execution_count": 190,
   "id": "champion-audience",
   "metadata": {},
   "outputs": [
    {
     "name": "stdout",
     "output_type": "stream",
     "text": [
      "Score for lin_reg:\n",
      "Training without ['description', 'grossProfit', 'revenue', 'returnOnCapitalEmployed', 'ebitda_margin']\n",
      "Cross Validated RMSE = 16002.277463601045\n",
      "Score for ridge:\n",
      "Training without ['description', 'grossProfit', 'revenue', 'returnOnCapitalEmployed', 'ebitda_margin']\n",
      "Cross Validated RMSE = 16003.542321440667\n",
      "Score for lasso:\n",
      "Training without ['description', 'grossProfit', 'revenue', 'returnOnCapitalEmployed', 'ebitda_margin']\n",
      "Cross Validated RMSE = 16002.240532749185\n",
      "Score for knn:\n",
      "Training without ['description', 'grossProfit', 'revenue', 'returnOnCapitalEmployed', 'ebitda_margin']\n",
      "Cross Validated RMSE = 13624.940251653208\n",
      "Score for rf:\n",
      "Training without ['description', 'grossProfit', 'revenue', 'returnOnCapitalEmployed', 'ebitda_margin']\n",
      "Cross Validated RMSE = 12295.867641870376\n",
      "Score for gb:\n",
      "Training without ['description', 'grossProfit', 'revenue', 'returnOnCapitalEmployed', 'ebitda_margin']\n",
      "Cross Validated RMSE = 12043.516597378684\n",
      "Score for ada:\n",
      "Training without ['description', 'grossProfit', 'revenue', 'returnOnCapitalEmployed', 'ebitda_margin']\n",
      "Cross Validated RMSE = 14846.726609408688\n",
      "Score for svr:\n",
      "Training without ['description', 'grossProfit', 'revenue', 'returnOnCapitalEmployed', 'ebitda_margin']\n",
      "Cross Validated RMSE = 24418.655985108977\n",
      "Score for xgb:\n",
      "Training without ['description', 'grossProfit', 'revenue', 'returnOnCapitalEmployed', 'ebitda_margin']\n",
      "Cross Validated RMSE = 13489.510536922679\n"
     ]
    }
   ],
   "source": [
    "models = [lin_reg, ridge, lasso, knn, rf, gb, ada, svr, xgb]\n",
    "model_names = ['lin_reg', 'ridge', 'lasso', 'knn', 'rf', 'gb', 'ada', 'svr', 'xgb']\n",
    "for i in range(len(models)):\n",
    "    print(f'Score for {model_names[i]}:')\n",
    "    pipe = trainer.train(models[i], remove_features=['description', 'grossProfit', 'revenue', 'returnOnCapitalEmployed', 'ebitda_margin'])"
   ]
  },
  {
   "cell_type": "code",
   "execution_count": 192,
   "id": "noble-fight",
   "metadata": {},
   "outputs": [
    {
     "name": "stdout",
     "output_type": "stream",
     "text": [
      "Score for lin_reg:\n",
      "Training without ['description', 'grossProfit', 'revenue', 'returnOnCapitalEmployed', 'ebitda_margin', 'growth_rate', 'sector', 'country']\n",
      "Cross Validated RMSE = 16655.317676883544\n",
      "Score for ridge:\n",
      "Training without ['description', 'grossProfit', 'revenue', 'returnOnCapitalEmployed', 'ebitda_margin', 'growth_rate', 'sector', 'country']\n",
      "Cross Validated RMSE = 16655.313618252098\n",
      "Score for lasso:\n",
      "Training without ['description', 'grossProfit', 'revenue', 'returnOnCapitalEmployed', 'ebitda_margin', 'growth_rate', 'sector', 'country']\n",
      "Cross Validated RMSE = 16655.314538332546\n",
      "Score for knn:\n",
      "Training without ['description', 'grossProfit', 'revenue', 'returnOnCapitalEmployed', 'ebitda_margin', 'growth_rate', 'sector', 'country']\n",
      "Cross Validated RMSE = 15707.549697284006\n",
      "Score for rf:\n",
      "Training without ['description', 'grossProfit', 'revenue', 'returnOnCapitalEmployed', 'ebitda_margin', 'growth_rate', 'sector', 'country']\n",
      "Cross Validated RMSE = 16691.331688020437\n",
      "Score for gb:\n",
      "Training without ['description', 'grossProfit', 'revenue', 'returnOnCapitalEmployed', 'ebitda_margin', 'growth_rate', 'sector', 'country']\n",
      "Cross Validated RMSE = 15355.735904876321\n",
      "Score for ada:\n",
      "Training without ['description', 'grossProfit', 'revenue', 'returnOnCapitalEmployed', 'ebitda_margin', 'growth_rate', 'sector', 'country']\n",
      "Cross Validated RMSE = 15476.47739730468\n",
      "Score for svr:\n",
      "Training without ['description', 'grossProfit', 'revenue', 'returnOnCapitalEmployed', 'ebitda_margin', 'growth_rate', 'sector', 'country']\n",
      "Cross Validated RMSE = 24404.751009534124\n",
      "Score for xgb:\n",
      "Training without ['description', 'grossProfit', 'revenue', 'returnOnCapitalEmployed', 'ebitda_margin', 'growth_rate', 'sector', 'country']\n",
      "Cross Validated RMSE = 17457.315791655976\n"
     ]
    }
   ],
   "source": [
    "models = [lin_reg, ridge, lasso, knn, rf, gb, ada, svr, xgb]\n",
    "model_names = ['lin_reg', 'ridge', 'lasso', 'knn', 'rf', 'gb', 'ada', 'svr', 'xgb']\n",
    "for i in range(len(models)):\n",
    "    print(f'Score for {model_names[i]}:')\n",
    "    pipe = trainer.train(models[i], remove_features=['description', 'grossProfit', 'revenue', 'returnOnCapitalEmployed', 'ebitda_margin','growth_rate', 'sector', 'country'])"
   ]
  },
  {
   "cell_type": "code",
   "execution_count": 256,
   "id": "automatic-agenda",
   "metadata": {},
   "outputs": [
    {
     "name": "stdout",
     "output_type": "stream",
     "text": [
      "Score for lin_reg:\n",
      "Training without ['description', 'grossProfit']\n",
      "Cross Validated RMSE = 9330.134888177196\n",
      "Score for ridge:\n",
      "Training without ['description', 'grossProfit']\n",
      "Cross Validated RMSE = 9330.00128106263\n",
      "Score for lasso:\n",
      "Training without ['description', 'grossProfit']\n",
      "Cross Validated RMSE = 9329.972124995858\n",
      "Score for knn:\n",
      "Training without ['description', 'grossProfit']\n",
      "Cross Validated RMSE = 8946.76281831195\n",
      "Score for rf:\n",
      "Training without ['description', 'grossProfit']\n",
      "Cross Validated RMSE = 8211.170380240173\n",
      "Score for gb:\n",
      "Training without ['description', 'grossProfit']\n",
      "Cross Validated RMSE = 8440.4524408996\n",
      "Score for ada:\n",
      "Training without ['description', 'grossProfit']\n",
      "Cross Validated RMSE = 9028.711180882021\n",
      "Score for svr:\n",
      "Training without ['description', 'grossProfit']\n",
      "Cross Validated RMSE = 22670.8977794362\n",
      "Score for xgb:\n",
      "Training without ['description', 'grossProfit']\n",
      "Cross Validated RMSE = 9023.73871891947\n"
     ]
    }
   ],
   "source": [
    "models = [lin_reg, ridge, lasso, knn, rf, gb, ada, svr, xgb]\n",
    "model_names = ['lin_reg', 'ridge', 'lasso', 'knn', 'rf', 'gb', 'ada', 'svr', 'xgb']\n",
    "for i in range(len(models)):\n",
    "    print(f'Score for {model_names[i]}:')\n",
    "    pipe = trainer.train(models[i], remove_features=['description', 'grossProfit'])"
   ]
  },
  {
   "cell_type": "markdown",
   "id": "gorgeous-validity",
   "metadata": {},
   "source": [
    "# Error Analysis"
   ]
  },
  {
   "cell_type": "code",
   "execution_count": 195,
   "id": "threatened-samba",
   "metadata": {
    "scrolled": true
   },
   "outputs": [
    {
     "name": "stdout",
     "output_type": "stream",
     "text": [
      "Training without ['description', 'grossProfit']\n",
      "Cross Validated RMSE = 11119.515730983934\n"
     ]
    }
   ],
   "source": [
    "rf_pipe, X_test, y_test = trainer.train(rf, remove_features=['description', 'grossProfit'])"
   ]
  },
  {
   "cell_type": "code",
   "execution_count": 196,
   "id": "amended-wages",
   "metadata": {},
   "outputs": [],
   "source": [
    "y_pred = rf_pipe.predict(X_test)"
   ]
  },
  {
   "cell_type": "code",
   "execution_count": 198,
   "id": "willing-emergency",
   "metadata": {
    "scrolled": true
   },
   "outputs": [
    {
     "data": {
      "text/plain": [
       "(array([647.,  48.,  23.,   7.,  10.,   1.,   8.,   1.,   2.,   4.]),\n",
       " array([5.65630390e+00, 1.74442613e+04, 3.48828663e+04, 5.23214713e+04,\n",
       "        6.97600763e+04, 8.71986813e+04, 1.04637286e+05, 1.22075891e+05,\n",
       "        1.39514496e+05, 1.56953101e+05, 1.74391706e+05]),\n",
       " <BarContainer object of 10 artists>)"
      ]
     },
     "execution_count": 198,
     "metadata": {},
     "output_type": "execute_result"
    },
    {
     "data": {
      "image/png": "[encoded data removed]",
      "text/plain": [
       "<Figure size 432x288 with 1 Axes>"
      ]
     },
     "metadata": {
      "needs_background": "light"
     },
     "output_type": "display_data"
    }
   ],
   "source": [
    "import matplotlib.pyplot as plt\n",
    "\n",
    "plt.hist(y_pred);"
   ]
  },
  {
   "cell_type": "code",
   "execution_count": 199,
   "id": "arranged-seeker",
   "metadata": {
    "scrolled": true
   },
   "outputs": [
    {
     "data": {
      "image/png": "[encoded data removed]",
      "text/plain": [
       "<Figure size 432x288 with 1 Axes>"
      ]
     },
     "metadata": {
      "needs_background": "light"
     },
     "output_type": "display_data"
    }
   ],
   "source": [
    "plt.hist(y_test);"
   ]
  },
  {
   "cell_type": "code",
   "execution_count": 201,
   "id": "wrapped-signal",
   "metadata": {},
   "outputs": [],
   "source": [
    "errors = (y_pred - y_test)"
   ]
  },
  {
   "cell_type": "code",
   "execution_count": 212,
   "id": "descending-planner",
   "metadata": {
    "scrolled": true
   },
   "outputs": [
    {
     "data": {
      "text/plain": [
       "Text(0, 0.5, 'errors')"
      ]
     },
     "execution_count": 212,
     "metadata": {},
     "output_type": "execute_result"
    },
    {
     "data": {
      "image/png": "[encoded data removed]",
      "text/plain": [
       "<Figure size 432x288 with 1 Axes>"
      ]
     },
     "metadata": {
      "needs_background": "light"
     },
     "output_type": "display_data"
    }
   ],
   "source": [
    "import seaborn as sns\n",
    "sns.scatterplot(x=X_test['ebitda'], y=errors, hue=X_test['country'])\n",
    "plt.ylabel('errors')"
   ]
  },
  {
   "cell_type": "markdown",
   "id": "instant-might",
   "metadata": {},
   "source": [
    "## US Only"
   ]
  },
  {
   "cell_type": "code",
   "execution_count": 213,
   "id": "romance-federal",
   "metadata": {},
   "outputs": [
    {
     "name": "stdout",
     "output_type": "stream",
     "text": [
      "Training without ['description', 'grossProfit']\n",
      "Cross Validated RMSE = 13274.469420730713\n"
     ]
    }
   ],
   "source": [
    "rf_pipe, X_test, y_test = trainer.train(rf, remove_features=['description', 'grossProfit'])"
   ]
  },
  {
   "cell_type": "code",
   "execution_count": 214,
   "id": "solar-honduras",
   "metadata": {},
   "outputs": [],
   "source": [
    "y_pred = rf_pipe.predict(X_test)"
   ]
  },
  {
   "cell_type": "code",
   "execution_count": 215,
   "id": "after-thriller",
   "metadata": {},
   "outputs": [],
   "source": [
    "errors = (y_pred - y_test)"
   ]
  },
  {
   "cell_type": "code",
   "execution_count": 225,
   "id": "proprietary-inventory",
   "metadata": {},
   "outputs": [
    {
     "data": {
      "text/plain": [
       "Text(0, 0.5, 'errors')"
      ]
     },
     "execution_count": 225,
     "metadata": {},
     "output_type": "execute_result"
    },
    {
     "data": {
      "image/png": "[encoded data removed]",
      "text/plain": [
       "<Figure size 1080x576 with 1 Axes>"
      ]
     },
     "metadata": {
      "needs_background": "light"
     },
     "output_type": "display_data"
    }
   ],
   "source": [
    "fig = plt.figure(figsize=(15,8))\n",
    "sns.scatterplot(x=y_test, y=errors, hue=X_test['ebitda_margin'], palette='dark')\n",
    "plt.ylabel('errors')"
   ]
  },
  {
   "cell_type": "code",
   "execution_count": 236,
   "id": "concerned-positive",
   "metadata": {
    "scrolled": true
   },
   "outputs": [
    {
     "data": {
      "text/plain": [
       "2927"
      ]
     },
     "execution_count": 236,
     "metadata": {},
     "output_type": "execute_result"
    }
   ],
   "source": [
    "len(df[((df['enterpriseValue'] / df['ebitda']) > 4) & ((df['enterpriseValue'] / df['ebitda']) < 23)])"
   ]
  },
  {
   "cell_type": "code",
   "execution_count": 235,
   "id": "turkish-bridges",
   "metadata": {},
   "outputs": [
    {
     "data": {
      "image/png": "[encoded data removed]",
      "text/plain": [
       "<Figure size 432x288 with 1 Axes>"
      ]
     },
     "metadata": {
      "needs_background": "light"
     },
     "output_type": "display_data"
    }
   ],
   "source": [
    "sns.scatterplot(x=df['ebitda'], y=df['enterpriseValue']);"
   ]
  },
  {
   "cell_type": "markdown",
   "id": "current-spread",
   "metadata": {},
   "source": [
    "# Feature Permutation"
   ]
  },
  {
   "cell_type": "code",
   "execution_count": 308,
   "id": "piano-sender",
   "metadata": {},
   "outputs": [],
   "source": [
    "df = get_data()\n",
    "df = clean_data(df)\n",
    "#df = vectorize(df)\n",
    "#df = df.drop(columns=['description'])\n",
    "X_train, X_test, y_train, y_test = holdout(df)"
   ]
  },
  {
   "cell_type": "code",
   "execution_count": 184,
   "id": "strong-decline",
   "metadata": {},
   "outputs": [
    {
     "name": "stdout",
     "output_type": "stream",
     "text": [
      "Training without ['description', 'grossProfit']\n",
      "Cross Validated RMSE = 11629.5932671144\n"
     ]
    }
   ],
   "source": [
    "rf_pipe = trainer.train(rf, remove_features=['description', 'grossProfit'])"
   ]
  },
  {
   "cell_type": "code",
   "execution_count": 186,
   "id": "beneficial-plymouth",
   "metadata": {
    "collapsed": true
   },
   "outputs": [
    {
     "name": "stdout",
     "output_type": "stream",
     "text": [
      "Training without ['grossProfit']\n",
      "Cross Validated RMSE = 11505.109734025848\n"
     ]
    },
    {
     "ename": "ValueError",
     "evalue": "Column ordering must be equal for fit and for transform when using the remainder keyword",
     "output_type": "error",
     "traceback": [
      "\u001b[0;31m---------------------------------------------------------------------------\u001b[0m",
      "\u001b[0;31mValueError\u001b[0m                                Traceback (most recent call last)",
      "\u001b[0;32m<ipython-input-186-266568b161e7>\u001b[0m in \u001b[0;36m<module>\u001b[0;34m\u001b[0m\n\u001b[1;32m      1\u001b[0m \u001b[0mrf_pipe\u001b[0m \u001b[0;34m=\u001b[0m \u001b[0mtrainer\u001b[0m\u001b[0;34m.\u001b[0m\u001b[0mtrain\u001b[0m\u001b[0;34m(\u001b[0m\u001b[0mrf\u001b[0m\u001b[0;34m,\u001b[0m \u001b[0mremove_features\u001b[0m\u001b[0;34m=\u001b[0m\u001b[0;34m[\u001b[0m\u001b[0;34m'grossProfit'\u001b[0m\u001b[0;34m]\u001b[0m\u001b[0;34m)\u001b[0m\u001b[0;34m\u001b[0m\u001b[0;34m\u001b[0m\u001b[0m\n\u001b[1;32m      2\u001b[0m \u001b[0;34m\u001b[0m\u001b[0m\n\u001b[0;32m----> 3\u001b[0;31m \u001b[0mpermutation_score\u001b[0m \u001b[0;34m=\u001b[0m \u001b[0mpermutation_importance\u001b[0m\u001b[0;34m(\u001b[0m\u001b[0mrf_pipe\u001b[0m\u001b[0;34m,\u001b[0m \u001b[0mX_train\u001b[0m\u001b[0;34m,\u001b[0m \u001b[0my_train\u001b[0m\u001b[0;34m,\u001b[0m \u001b[0mn_repeats\u001b[0m\u001b[0;34m=\u001b[0m\u001b[0;36m100\u001b[0m\u001b[0;34m)\u001b[0m \u001b[0;31m# Perform Permutation\u001b[0m\u001b[0;34m\u001b[0m\u001b[0;34m\u001b[0m\u001b[0m\n\u001b[0m",
      "\u001b[0;32m~/.pyenv/versions/3.8.6/envs/lewagon/lib/python3.8/site-packages/sklearn/inspection/_permutation_importance.py\u001b[0m in \u001b[0;36mpermutation_importance\u001b[0;34m(estimator, X, y, scoring, n_repeats, n_jobs, random_state)\u001b[0m\n\u001b[1;32m    114\u001b[0m     \u001b[0mscorer\u001b[0m \u001b[0;34m=\u001b[0m \u001b[0mcheck_scoring\u001b[0m\u001b[0;34m(\u001b[0m\u001b[0mestimator\u001b[0m\u001b[0;34m,\u001b[0m \u001b[0mscoring\u001b[0m\u001b[0;34m=\u001b[0m\u001b[0mscoring\u001b[0m\u001b[0;34m)\u001b[0m\u001b[0;34m\u001b[0m\u001b[0;34m\u001b[0m\u001b[0m\n\u001b[1;32m    115\u001b[0m \u001b[0;34m\u001b[0m\u001b[0m\n\u001b[0;32m--> 116\u001b[0;31m     \u001b[0mbaseline_score\u001b[0m \u001b[0;34m=\u001b[0m \u001b[0mscorer\u001b[0m\u001b[0;34m(\u001b[0m\u001b[0mestimator\u001b[0m\u001b[0;34m,\u001b[0m \u001b[0mX\u001b[0m\u001b[0;34m,\u001b[0m \u001b[0my\u001b[0m\u001b[0;34m)\u001b[0m\u001b[0;34m\u001b[0m\u001b[0;34m\u001b[0m\u001b[0m\n\u001b[0m\u001b[1;32m    117\u001b[0m     \u001b[0mscores\u001b[0m \u001b[0;34m=\u001b[0m \u001b[0mnp\u001b[0m\u001b[0;34m.\u001b[0m\u001b[0mzeros\u001b[0m\u001b[0;34m(\u001b[0m\u001b[0;34m(\u001b[0m\u001b[0mX\u001b[0m\u001b[0;34m.\u001b[0m\u001b[0mshape\u001b[0m\u001b[0;34m[\u001b[0m\u001b[0;36m1\u001b[0m\u001b[0;34m]\u001b[0m\u001b[0;34m,\u001b[0m \u001b[0mn_repeats\u001b[0m\u001b[0;34m)\u001b[0m\u001b[0;34m)\u001b[0m\u001b[0;34m\u001b[0m\u001b[0;34m\u001b[0m\u001b[0m\n\u001b[1;32m    118\u001b[0m \u001b[0;34m\u001b[0m\u001b[0m\n",
      "\u001b[0;32m~/.pyenv/versions/3.8.6/envs/lewagon/lib/python3.8/site-packages/sklearn/metrics/_scorer.py\u001b[0m in \u001b[0;36m_passthrough_scorer\u001b[0;34m(estimator, *args, **kwargs)\u001b[0m\n\u001b[1;32m    369\u001b[0m \u001b[0;32mdef\u001b[0m \u001b[0m_passthrough_scorer\u001b[0m\u001b[0;34m(\u001b[0m\u001b[0mestimator\u001b[0m\u001b[0;34m,\u001b[0m \u001b[0;34m*\u001b[0m\u001b[0margs\u001b[0m\u001b[0;34m,\u001b[0m \u001b[0;34m**\u001b[0m\u001b[0mkwargs\u001b[0m\u001b[0;34m)\u001b[0m\u001b[0;34m:\u001b[0m\u001b[0;34m\u001b[0m\u001b[0;34m\u001b[0m\u001b[0m\n\u001b[1;32m    370\u001b[0m     \u001b[0;34m\"\"\"Function that wraps estimator.score\"\"\"\u001b[0m\u001b[0;34m\u001b[0m\u001b[0;34m\u001b[0m\u001b[0m\n\u001b[0;32m--> 371\u001b[0;31m     \u001b[0;32mreturn\u001b[0m \u001b[0mestimator\u001b[0m\u001b[0;34m.\u001b[0m\u001b[0mscore\u001b[0m\u001b[0;34m(\u001b[0m\u001b[0;34m*\u001b[0m\u001b[0margs\u001b[0m\u001b[0;34m,\u001b[0m \u001b[0;34m**\u001b[0m\u001b[0mkwargs\u001b[0m\u001b[0;34m)\u001b[0m\u001b[0;34m\u001b[0m\u001b[0;34m\u001b[0m\u001b[0m\n\u001b[0m\u001b[1;32m    372\u001b[0m \u001b[0;34m\u001b[0m\u001b[0m\n\u001b[1;32m    373\u001b[0m \u001b[0;34m\u001b[0m\u001b[0m\n",
      "\u001b[0;32m~/.pyenv/versions/3.8.6/envs/lewagon/lib/python3.8/site-packages/sklearn/utils/metaestimators.py\u001b[0m in \u001b[0;36m<lambda>\u001b[0;34m(*args, **kwargs)\u001b[0m\n\u001b[1;32m    114\u001b[0m \u001b[0;34m\u001b[0m\u001b[0m\n\u001b[1;32m    115\u001b[0m         \u001b[0;31m# lambda, but not partial, allows help() to work with update_wrapper\u001b[0m\u001b[0;34m\u001b[0m\u001b[0;34m\u001b[0m\u001b[0;34m\u001b[0m\u001b[0m\n\u001b[0;32m--> 116\u001b[0;31m         \u001b[0mout\u001b[0m \u001b[0;34m=\u001b[0m \u001b[0;32mlambda\u001b[0m \u001b[0;34m*\u001b[0m\u001b[0margs\u001b[0m\u001b[0;34m,\u001b[0m \u001b[0;34m**\u001b[0m\u001b[0mkwargs\u001b[0m\u001b[0;34m:\u001b[0m \u001b[0mself\u001b[0m\u001b[0;34m.\u001b[0m\u001b[0mfn\u001b[0m\u001b[0;34m(\u001b[0m\u001b[0mobj\u001b[0m\u001b[0;34m,\u001b[0m \u001b[0;34m*\u001b[0m\u001b[0margs\u001b[0m\u001b[0;34m,\u001b[0m \u001b[0;34m**\u001b[0m\u001b[0mkwargs\u001b[0m\u001b[0;34m)\u001b[0m\u001b[0;34m\u001b[0m\u001b[0;34m\u001b[0m\u001b[0m\n\u001b[0m\u001b[1;32m    117\u001b[0m         \u001b[0;31m# update the docstring of the returned function\u001b[0m\u001b[0;34m\u001b[0m\u001b[0;34m\u001b[0m\u001b[0;34m\u001b[0m\u001b[0m\n\u001b[1;32m    118\u001b[0m         \u001b[0mupdate_wrapper\u001b[0m\u001b[0;34m(\u001b[0m\u001b[0mout\u001b[0m\u001b[0;34m,\u001b[0m \u001b[0mself\u001b[0m\u001b[0;34m.\u001b[0m\u001b[0mfn\u001b[0m\u001b[0;34m)\u001b[0m\u001b[0;34m\u001b[0m\u001b[0;34m\u001b[0m\u001b[0m\n",
      "\u001b[0;32m~/.pyenv/versions/3.8.6/envs/lewagon/lib/python3.8/site-packages/sklearn/pipeline.py\u001b[0m in \u001b[0;36mscore\u001b[0;34m(self, X, y, sample_weight)\u001b[0m\n\u001b[1;32m    611\u001b[0m         \u001b[0mXt\u001b[0m \u001b[0;34m=\u001b[0m \u001b[0mX\u001b[0m\u001b[0;34m\u001b[0m\u001b[0;34m\u001b[0m\u001b[0m\n\u001b[1;32m    612\u001b[0m         \u001b[0;32mfor\u001b[0m \u001b[0m_\u001b[0m\u001b[0;34m,\u001b[0m \u001b[0mname\u001b[0m\u001b[0;34m,\u001b[0m \u001b[0mtransform\u001b[0m \u001b[0;32min\u001b[0m \u001b[0mself\u001b[0m\u001b[0;34m.\u001b[0m\u001b[0m_iter\u001b[0m\u001b[0;34m(\u001b[0m\u001b[0mwith_final\u001b[0m\u001b[0;34m=\u001b[0m\u001b[0;32mFalse\u001b[0m\u001b[0;34m)\u001b[0m\u001b[0;34m:\u001b[0m\u001b[0;34m\u001b[0m\u001b[0;34m\u001b[0m\u001b[0m\n\u001b[0;32m--> 613\u001b[0;31m             \u001b[0mXt\u001b[0m \u001b[0;34m=\u001b[0m \u001b[0mtransform\u001b[0m\u001b[0;34m.\u001b[0m\u001b[0mtransform\u001b[0m\u001b[0;34m(\u001b[0m\u001b[0mXt\u001b[0m\u001b[0;34m)\u001b[0m\u001b[0;34m\u001b[0m\u001b[0;34m\u001b[0m\u001b[0m\n\u001b[0m\u001b[1;32m    614\u001b[0m         \u001b[0mscore_params\u001b[0m \u001b[0;34m=\u001b[0m \u001b[0;34m{\u001b[0m\u001b[0;34m}\u001b[0m\u001b[0;34m\u001b[0m\u001b[0;34m\u001b[0m\u001b[0m\n\u001b[1;32m    615\u001b[0m         \u001b[0;32mif\u001b[0m \u001b[0msample_weight\u001b[0m \u001b[0;32mis\u001b[0m \u001b[0;32mnot\u001b[0m \u001b[0;32mNone\u001b[0m\u001b[0;34m:\u001b[0m\u001b[0;34m\u001b[0m\u001b[0;34m\u001b[0m\u001b[0m\n",
      "\u001b[0;32m~/.pyenv/versions/3.8.6/envs/lewagon/lib/python3.8/site-packages/sklearn/compose/_column_transformer.py\u001b[0m in \u001b[0;36mtransform\u001b[0;34m(self, X)\u001b[0m\n\u001b[1;32m    581\u001b[0m             if (n_cols_transform >= n_cols_fit and\n\u001b[1;32m    582\u001b[0m                     any(X.columns[:n_cols_fit] != self._df_columns)):\n\u001b[0;32m--> 583\u001b[0;31m                 raise ValueError('Column ordering must be equal for fit '\n\u001b[0m\u001b[1;32m    584\u001b[0m                                  \u001b[0;34m'and for transform when using the '\u001b[0m\u001b[0;34m\u001b[0m\u001b[0;34m\u001b[0m\u001b[0m\n\u001b[1;32m    585\u001b[0m                                  'remainder keyword')\n",
      "\u001b[0;31mValueError\u001b[0m: Column ordering must be equal for fit and for transform when using the remainder keyword"
     ]
    }
   ],
   "source": [
    "rf_pipe = trainer.train(rf, remove_features=['grossProfit'])\n",
    "\n",
    "permutation_score = permutation_importance(rf_pipe, X_train, y_train, n_repeats=100) # Perform Permutation"
   ]
  },
  {
   "cell_type": "code",
   "execution_count": 181,
   "id": "supreme-struggle",
   "metadata": {
    "scrolled": true
   },
   "outputs": [
    {
     "name": "stdout",
     "output_type": "stream",
     "text": [
      "Training without ['description']\n",
      "Cross Validated RMSE = 11351.016089601902\n"
     ]
    }
   ],
   "source": [
    "rf_pipe = trainer.train(rf, remove_features=['description', 'grossProfit'])\n",
    "\n",
    "permutation_score = permutation_importance(rf_pipe, X_train, y_train, n_repeats=100) # Perform Permutation"
   ]
  },
  {
   "cell_type": "code",
   "execution_count": 182,
   "id": "liquid-albany",
   "metadata": {
    "scrolled": true
   },
   "outputs": [
    {
     "data": {
      "text/html": [
       "<div>\n",
       "<style scoped>\n",
       "    .dataframe tbody tr th:only-of-type {\n",
       "        vertical-align: middle;\n",
       "    }\n",
       "\n",
       "    .dataframe tbody tr th {\n",
       "        vertical-align: top;\n",
       "    }\n",
       "\n",
       "    .dataframe thead th {\n",
       "        text-align: right;\n",
       "    }\n",
       "</style>\n",
       "<table border=\"1\" class=\"dataframe\">\n",
       "  <thead>\n",
       "    <tr style=\"text-align: right;\">\n",
       "      <th></th>\n",
       "      <th>feature</th>\n",
       "      <th>score decrease</th>\n",
       "    </tr>\n",
       "  </thead>\n",
       "  <tbody>\n",
       "    <tr>\n",
       "      <th>5</th>\n",
       "      <td>ebitda</td>\n",
       "      <td>1.134022</td>\n",
       "    </tr>\n",
       "    <tr>\n",
       "      <th>1</th>\n",
       "      <td>country</td>\n",
       "      <td>0.350122</td>\n",
       "    </tr>\n",
       "    <tr>\n",
       "      <th>4</th>\n",
       "      <td>grossProfit</td>\n",
       "      <td>0.242334</td>\n",
       "    </tr>\n",
       "    <tr>\n",
       "      <th>0</th>\n",
       "      <td>sector</td>\n",
       "      <td>0.106062</td>\n",
       "    </tr>\n",
       "    <tr>\n",
       "      <th>6</th>\n",
       "      <td>growth_rate</td>\n",
       "      <td>0.038200</td>\n",
       "    </tr>\n",
       "    <tr>\n",
       "      <th>2</th>\n",
       "      <td>returnOnCapitalEmployed</td>\n",
       "      <td>0.035656</td>\n",
       "    </tr>\n",
       "    <tr>\n",
       "      <th>7</th>\n",
       "      <td>ebitda_margin</td>\n",
       "      <td>0.034488</td>\n",
       "    </tr>\n",
       "    <tr>\n",
       "      <th>3</th>\n",
       "      <td>revenue</td>\n",
       "      <td>0.000270</td>\n",
       "    </tr>\n",
       "  </tbody>\n",
       "</table>\n",
       "</div>"
      ],
      "text/plain": [
       "                   feature score decrease\n",
       "5                   ebitda       1.134022\n",
       "1                  country       0.350122\n",
       "4              grossProfit       0.242334\n",
       "0                   sector       0.106062\n",
       "6              growth_rate       0.038200\n",
       "2  returnOnCapitalEmployed       0.035656\n",
       "7            ebitda_margin       0.034488\n",
       "3                  revenue       0.000270"
      ]
     },
     "execution_count": 182,
     "metadata": {},
     "output_type": "execute_result"
    }
   ],
   "source": [
    "importance_df = pd.DataFrame(np.vstack((X_train.columns,\n",
    "                                        permutation_score.importances_mean)).T) # Unstack results\n",
    "importance_df.columns=['feature','score decrease']\n",
    "\n",
    "importance_df.sort_values(by=\"score decrease\", ascending = False) "
   ]
  },
  {
   "cell_type": "markdown",
   "id": "quarterly-sellers",
   "metadata": {},
   "source": [
    "# Hyperparameter Optimisation"
   ]
  },
  {
   "cell_type": "code",
   "execution_count": null,
   "id": "champion-visitor",
   "metadata": {},
   "outputs": [],
   "source": [
    "hyperparams = {}\n",
    "\n",
    "def grid_search(model, params):\n",
    "    search = GridSearchCV(model, params, scoring='neg_mean_squared_error', cv=5, verbose=1)\n",
    "    search.fit(X_train, y_train)\n",
    "    hyperparams[search.best_params_] = search.best_score_"
   ]
  },
  {
   "cell_type": "markdown",
   "id": "monetary-homeless",
   "metadata": {},
   "source": [
    "# Without EBITDA/EV Outliers"
   ]
  },
  {
   "cell_type": "code",
   "execution_count": 261,
   "id": "considerable-structure",
   "metadata": {},
   "outputs": [],
   "source": [
    "df = get_data()\n",
    "df = clean_data(df)"
   ]
  },
  {
   "cell_type": "code",
   "execution_count": 237,
   "id": "smaller-assembly",
   "metadata": {
    "scrolled": false
   },
   "outputs": [
    {
     "name": "stdout",
     "output_type": "stream",
     "text": [
      "Training without ['description', 'grossProfit']\n",
      "Cross Validated RMSE = 8673.744793127209\n"
     ]
    }
   ],
   "source": [
    "rf_pipe = trainer.train(rf, remove_features=['description', 'grossProfit'])"
   ]
  },
  {
   "cell_type": "code",
   "execution_count": 244,
   "id": "whole-exception",
   "metadata": {},
   "outputs": [
    {
     "name": "stdout",
     "output_type": "stream",
     "text": [
      "Training without ['description', 'grossProfit']\n",
      "Cross Validated RMSE = 8230.174214383584\n"
     ]
    }
   ],
   "source": [
    "# Remove 100 biggest\n",
    "rf_pipe = trainer.train(rf, remove_features=['description', 'grossProfit'])"
   ]
  },
  {
   "cell_type": "code",
   "execution_count": 254,
   "id": "demonstrated-command",
   "metadata": {},
   "outputs": [
    {
     "name": "stdout",
     "output_type": "stream",
     "text": [
      "Training without ['description', 'grossProfit', 'revenue']\n",
      "Cross Validated RMSE = 8468.166121578884\n"
     ]
    }
   ],
   "source": [
    "rf_pipe, X_test, y_test = trainer.train(rf, remove_features=['description', 'grossProfit', 'revenue'])"
   ]
  },
  {
   "cell_type": "code",
   "execution_count": 255,
   "id": "compliant-speech",
   "metadata": {},
   "outputs": [
    {
     "name": "stdout",
     "output_type": "stream",
     "text": [
      "Training without ['description', 'grossProfit', 'revenue', 'ebitda_margin']\n",
      "Cross Validated RMSE = 8515.762878693446\n"
     ]
    }
   ],
   "source": [
    "rf_pipe, X_test, y_test = trainer.train(rf, remove_features=['description', 'grossProfit', 'revenue', 'ebitda_margin'])"
   ]
  },
  {
   "cell_type": "code",
   "execution_count": 259,
   "id": "olympic-laugh",
   "metadata": {
    "scrolled": true
   },
   "outputs": [
    {
     "name": "stdout",
     "output_type": "stream",
     "text": [
      "Training without ['description']\n",
      "Cross Validated RMSE = 7694.5201494353805\n"
     ]
    }
   ],
   "source": [
    "rf_pipe = trainer.train(rf, remove_features=['description'])"
   ]
  },
  {
   "cell_type": "code",
   "execution_count": 262,
   "id": "fuzzy-mexico",
   "metadata": {},
   "outputs": [
    {
     "data": {
      "text/html": [
       "<div>\n",
       "<style scoped>\n",
       "    .dataframe tbody tr th:only-of-type {\n",
       "        vertical-align: middle;\n",
       "    }\n",
       "\n",
       "    .dataframe tbody tr th {\n",
       "        vertical-align: top;\n",
       "    }\n",
       "\n",
       "    .dataframe thead th {\n",
       "        text-align: right;\n",
       "    }\n",
       "</style>\n",
       "<table border=\"1\" class=\"dataframe\">\n",
       "  <thead>\n",
       "    <tr style=\"text-align: right;\">\n",
       "      <th></th>\n",
       "      <th>enterpriseValue</th>\n",
       "      <th>sector</th>\n",
       "      <th>country</th>\n",
       "      <th>description</th>\n",
       "      <th>returnOnCapitalEmployed</th>\n",
       "      <th>revenue</th>\n",
       "      <th>grossProfit</th>\n",
       "      <th>ebitda</th>\n",
       "      <th>growth_rate</th>\n",
       "      <th>ebitda_margin</th>\n",
       "    </tr>\n",
       "  </thead>\n",
       "  <tbody>\n",
       "    <tr>\n",
       "      <th>3892</th>\n",
       "      <td>0.573292</td>\n",
       "      <td>Consumer</td>\n",
       "      <td>EM</td>\n",
       "      <td>SIBIRSKIY GOSTINETS Public Joint-Stock Company...</td>\n",
       "      <td>1</td>\n",
       "      <td>1</td>\n",
       "      <td>0.132516</td>\n",
       "      <td>0.070642</td>\n",
       "      <td>4</td>\n",
       "      <td>3</td>\n",
       "    </tr>\n",
       "  </tbody>\n",
       "</table>\n",
       "</div>"
      ],
      "text/plain": [
       "      enterpriseValue    sector country  \\\n",
       "3892         0.573292  Consumer      EM   \n",
       "\n",
       "                                            description  \\\n",
       "3892  SIBIRSKIY GOSTINETS Public Joint-Stock Company...   \n",
       "\n",
       "      returnOnCapitalEmployed  revenue  grossProfit    ebitda  growth_rate  \\\n",
       "3892                        1        1     0.132516  0.070642            4   \n",
       "\n",
       "      ebitda_margin  \n",
       "3892              3  "
      ]
     },
     "execution_count": 262,
     "metadata": {},
     "output_type": "execute_result"
    }
   ],
   "source": [
    "df.head(1)"
   ]
  },
  {
   "cell_type": "code",
   "execution_count": 249,
   "id": "elegant-transformation",
   "metadata": {},
   "outputs": [],
   "source": [
    "errors = y_pred-y_test"
   ]
  },
  {
   "cell_type": "code",
   "execution_count": 253,
   "id": "encouraging-prison",
   "metadata": {
    "collapsed": true
   },
   "outputs": [
    {
     "data": {
      "text/plain": [
       "Text(0, 0.5, 'Errors')"
      ]
     },
     "execution_count": 253,
     "metadata": {},
     "output_type": "execute_result"
    },
    {
     "data": {
      "image/png": "[encoded data removed]",
      "text/plain": [
       "<Figure size 1080x576 with 1 Axes>"
      ]
     },
     "metadata": {
      "needs_background": "light"
     },
     "output_type": "display_data"
    }
   ],
   "source": [
    "fig = plt.figure(figsize=(15,8))\n",
    "sns.scatterplot(x=X_test['ebitda'], y=errors, hue=X_test['country'])\n",
    "plt.ylabel('Errors')"
   ]
  },
  {
   "cell_type": "code",
   "execution_count": 343,
   "id": "forbidden-isaac",
   "metadata": {},
   "outputs": [],
   "source": [
    "test = pd.DataFrame.from_dict({'sector':['Energy'],'country': ['US'],'returnOnCapitalEmployed': [1],'revenue': [4],'grossProfit': [700000],'ebitda': [300000], 'growth_rate':[2],'ebitda_margin': [2]})"
   ]
  },
  {
   "cell_type": "code",
   "execution_count": 344,
   "id": "close-playing",
   "metadata": {
    "scrolled": false
   },
   "outputs": [
    {
     "data": {
      "text/plain": [
       "array([3588.66441199])"
      ]
     },
     "execution_count": 344,
     "metadata": {},
     "output_type": "execute_result"
    }
   ],
   "source": [
    "rf_pipe.predict(test)"
   ]
  },
  {
   "cell_type": "code",
   "execution_count": 284,
   "id": "labeled-politics",
   "metadata": {},
   "outputs": [
    {
     "data": {
      "text/html": [
       "<div>\n",
       "<style scoped>\n",
       "    .dataframe tbody tr th:only-of-type {\n",
       "        vertical-align: middle;\n",
       "    }\n",
       "\n",
       "    .dataframe tbody tr th {\n",
       "        vertical-align: top;\n",
       "    }\n",
       "\n",
       "    .dataframe thead th {\n",
       "        text-align: right;\n",
       "    }\n",
       "</style>\n",
       "<table border=\"1\" class=\"dataframe\">\n",
       "  <thead>\n",
       "    <tr style=\"text-align: right;\">\n",
       "      <th></th>\n",
       "      <th>sector</th>\n",
       "      <th>country</th>\n",
       "      <th>returnOnCapitalEmployed</th>\n",
       "      <th>revenue</th>\n",
       "      <th>grossProfit</th>\n",
       "      <th>ebitda</th>\n",
       "      <th>growth_rate</th>\n",
       "      <th>ebitda_margin</th>\n",
       "    </tr>\n",
       "  </thead>\n",
       "  <tbody>\n",
       "    <tr>\n",
       "      <th>0</th>\n",
       "      <td>Healthcare</td>\n",
       "      <td>US</td>\n",
       "      <td>1</td>\n",
       "      <td>1</td>\n",
       "      <td>70</td>\n",
       "      <td>40</td>\n",
       "      <td>2</td>\n",
       "      <td>2</td>\n",
       "    </tr>\n",
       "  </tbody>\n",
       "</table>\n",
       "</div>"
      ],
      "text/plain": [
       "       sector country  returnOnCapitalEmployed  revenue  grossProfit  ebitda  \\\n",
       "0  Healthcare      US                        1        1           70      40   \n",
       "\n",
       "   growth_rate  ebitda_margin  \n",
       "0            2              2  "
      ]
     },
     "execution_count": 284,
     "metadata": {},
     "output_type": "execute_result"
    }
   ],
   "source": [
    "test"
   ]
  },
  {
   "cell_type": "code",
   "execution_count": 289,
   "id": "sound-dividend",
   "metadata": {},
   "outputs": [
    {
     "name": "stdout",
     "output_type": "stream",
     "text": [
      "Training without ['description']\n",
      "Cross Validated RMSE = 2722.713073366879\n"
     ]
    }
   ],
   "source": [
    "rf_pipe = trainer.train(rf, remove_features=['description'])"
   ]
  },
  {
   "cell_type": "code",
   "execution_count": 340,
   "id": "empty-eclipse",
   "metadata": {},
   "outputs": [
    {
     "data": {
      "text/plain": [
       "1987"
      ]
     },
     "execution_count": 340,
     "metadata": {},
     "output_type": "execute_result"
    }
   ],
   "source": [
    "len(df[df['enterpriseValue'] < 4000])"
   ]
  },
  {
   "cell_type": "code",
   "execution_count": 293,
   "id": "voluntary-bernard",
   "metadata": {},
   "outputs": [
    {
     "name": "stdout",
     "output_type": "stream",
     "text": [
      "Training without ['description']\n",
      "Cross Validated RMSE = 2349.5965795250045\n"
     ]
    }
   ],
   "source": [
    "rf_pipe = trainer.train(rf, remove_features=['description'])"
   ]
  },
  {
   "cell_type": "code",
   "execution_count": 298,
   "id": "cellular-trouble",
   "metadata": {},
   "outputs": [
    {
     "name": "stdout",
     "output_type": "stream",
     "text": [
      "Training without ['description']\n",
      "Cross Validated RMSE = 1593.1247870300256\n"
     ]
    }
   ],
   "source": [
    "rf_pipe = trainer.train(rf, remove_features=['description'])"
   ]
  },
  {
   "cell_type": "code",
   "execution_count": 310,
   "id": "satellite-discipline",
   "metadata": {},
   "outputs": [],
   "source": [
    "X_test.drop(columns=['description'], inplace=True)"
   ]
  },
  {
   "cell_type": "code",
   "execution_count": 312,
   "id": "proof-ambassador",
   "metadata": {},
   "outputs": [
    {
     "data": {
      "text/html": [
       "<div>\n",
       "<style scoped>\n",
       "    .dataframe tbody tr th:only-of-type {\n",
       "        vertical-align: middle;\n",
       "    }\n",
       "\n",
       "    .dataframe tbody tr th {\n",
       "        vertical-align: top;\n",
       "    }\n",
       "\n",
       "    .dataframe thead th {\n",
       "        text-align: right;\n",
       "    }\n",
       "</style>\n",
       "<table border=\"1\" class=\"dataframe\">\n",
       "  <thead>\n",
       "    <tr style=\"text-align: right;\">\n",
       "      <th></th>\n",
       "      <th>sector</th>\n",
       "      <th>country</th>\n",
       "      <th>returnOnCapitalEmployed</th>\n",
       "      <th>revenue</th>\n",
       "      <th>grossProfit</th>\n",
       "      <th>ebitda</th>\n",
       "      <th>growth_rate</th>\n",
       "      <th>ebitda_margin</th>\n",
       "    </tr>\n",
       "  </thead>\n",
       "  <tbody>\n",
       "    <tr>\n",
       "      <th>1574</th>\n",
       "      <td>Consumer</td>\n",
       "      <td>ROW</td>\n",
       "      <td>2</td>\n",
       "      <td>1</td>\n",
       "      <td>11.215739</td>\n",
       "      <td>3.16055</td>\n",
       "      <td>3</td>\n",
       "      <td>3</td>\n",
       "    </tr>\n",
       "  </tbody>\n",
       "</table>\n",
       "</div>"
      ],
      "text/plain": [
       "        sector country  returnOnCapitalEmployed  revenue  grossProfit  \\\n",
       "1574  Consumer     ROW                        2        1    11.215739   \n",
       "\n",
       "       ebitda  growth_rate  ebitda_margin  \n",
       "1574  3.16055            3              3  "
      ]
     },
     "execution_count": 312,
     "metadata": {},
     "output_type": "execute_result"
    }
   ],
   "source": [
    "X_test.head(1)"
   ]
  },
  {
   "cell_type": "code",
   "execution_count": 317,
   "id": "broadband-needle",
   "metadata": {
    "scrolled": true
   },
   "outputs": [
    {
     "data": {
      "text/plain": [
       "array([  23.81153564,   24.60525044, 4423.90380902, 2794.11223295,\n",
       "         82.79193123, 8381.65258779,   23.33464072,   24.81086655,\n",
       "       8451.21410529,  718.65551715])"
      ]
     },
     "execution_count": 317,
     "metadata": {},
     "output_type": "execute_result"
    }
   ],
   "source": [
    "rf_pipe.predict(X_test.head(10))"
   ]
  },
  {
   "cell_type": "code",
   "execution_count": 319,
   "id": "intelligent-louisiana",
   "metadata": {},
   "outputs": [
    {
     "data": {
      "text/plain": [
       "1574      42.725313\n",
       "2190      22.712176\n",
       "680     4582.662700\n",
       "3508    2631.829889\n",
       "2103      63.965982\n",
       "3976    7720.306660\n",
       "2095      22.454673\n",
       "1006      13.769094\n",
       "1420    6193.778000\n",
       "684     1079.273258\n",
       "Name: enterpriseValue, dtype: float64"
      ]
     },
     "execution_count": 319,
     "metadata": {},
     "output_type": "execute_result"
    }
   ],
   "source": [
    "y_test.head(10)"
   ]
  },
  {
   "cell_type": "code",
   "execution_count": 342,
   "id": "rotary-justice",
   "metadata": {},
   "outputs": [
    {
     "name": "stdout",
     "output_type": "stream",
     "text": [
      "Training without ['description']\n",
      "Cross Validated RMSE = 394.69514457341785\n"
     ]
    }
   ],
   "source": [
    "rf_pipe = trainer.train(rf, remove_features=['description'])"
   ]
  },
  {
   "cell_type": "code",
   "execution_count": null,
   "id": "according-cleveland",
   "metadata": {},
   "outputs": [],
   "source": []
  }
 ],
 "metadata": {
  "kernelspec": {
   "display_name": "Python 3",
   "language": "python",
   "name": "python3"
  },
  "language_info": {
   "codemirror_mode": {
    "name": "ipython",
    "version": 3
   },
   "file_extension": ".py",
   "mimetype": "text/x-python",
   "name": "python",
   "nbconvert_exporter": "python",
   "pygments_lexer": "ipython3",
   "version": "3.8.6"
  },
  "toc": {
   "base_numbering": 1,
   "nav_menu": {},
   "number_sections": true,
   "sideBar": true,
   "skip_h1_title": false,
   "title_cell": "Table of Contents",
   "title_sidebar": "Contents",
   "toc_cell": false,
   "toc_position": {},
   "toc_section_display": true,
   "toc_window_display": false
  }
 },
 "nbformat": 4,
 "nbformat_minor": 5
}
