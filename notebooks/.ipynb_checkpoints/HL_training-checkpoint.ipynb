{
 "cells": [
  {
   "cell_type": "code",
   "execution_count": 1,
   "id": "enabling-transparency",
   "metadata": {},
   "outputs": [],
   "source": [
    "%load_ext autoreload\n",
    "%autoreload 2"
   ]
  },
  {
   "cell_type": "code",
   "execution_count": 100,
   "id": "efficient-terrorism",
   "metadata": {},
   "outputs": [],
   "source": [
    "import pandas as pd\n",
    "import numpy as np"
   ]
  },
  {
   "cell_type": "code",
   "execution_count": 167,
   "id": "insured-diversity",
   "metadata": {},
   "outputs": [],
   "source": [
    "from Company_Valuation.trainer import Trainer\n",
    "from Company_Valuation.data import get_data, clean_data, holdout\n",
    "from Company_Valuation.utils import vectorize"
   ]
  },
  {
   "cell_type": "code",
   "execution_count": null,
   "id": "institutional-testing",
   "metadata": {},
   "outputs": [],
   "source": [
    "# Scalers\n",
    "from sklearn.preprocessing import RobustScaler\n",
    "# Models\n",
    "from sklearn.neighbors import KNeighborsRegressor\n",
    "from sklearn.ensemble import RandomForestRegressor, GradientBoostingRegressor, AdaBoostRegressor\n",
    "from sklearn.linear_model import Ridge, Lasso, LinearRegression\n",
    "from sklearn.svm import SVR\n",
    "from xgboost import XGBRegressor\n",
    "# Optimisation\n",
    "from sklearn.inspection import permutation_importance\n",
    "from sklearn.model_selection import GridSearchCV"
   ]
  },
  {
   "cell_type": "markdown",
   "id": "wanted-impossible",
   "metadata": {},
   "source": [
    "# Basic Models"
   ]
  },
  {
   "cell_type": "code",
   "execution_count": 156,
   "id": "forbidden-mexican",
   "metadata": {},
   "outputs": [],
   "source": [
    "# Scalers\n",
    "r_scaler = RobustScaler()\n",
    "# Models\n",
    "lin_reg = LinearRegression()\n",
    "ridge = Ridge()\n",
    "lasso = Lasso()\n",
    "knn = KNeighborsRegressor()\n",
    "rf = RandomForestRegressor()\n",
    "gb = GradientBoostingRegressor()\n",
    "ada = AdaBoostRegressor()\n",
    "svr = SVR()\n",
    "xgb = XGBRegressor()"
   ]
  },
  {
   "cell_type": "code",
   "execution_count": 150,
   "id": "inclusive-fossil",
   "metadata": {},
   "outputs": [],
   "source": [
    "trainer = Trainer()"
   ]
  },
  {
   "cell_type": "code",
   "execution_count": 159,
   "id": "vocal-gallery",
   "metadata": {},
   "outputs": [
    {
     "name": "stdout",
     "output_type": "stream",
     "text": [
      "Score for lin_reg:\n",
      "Cross Validated RMSE = 1111729.5496765822\n",
      "Score for ridge:\n",
      "Cross Validated RMSE = 15735.881244311855\n",
      "Score for lasso:\n",
      "Cross Validated RMSE = 15790.265524798926\n",
      "Score for knn:\n",
      "Cross Validated RMSE = 19526.807692390863\n",
      "Score for rf:\n",
      "Cross Validated RMSE = 11389.349961603324\n",
      "Score for gb:\n",
      "Cross Validated RMSE = 11151.68627058389\n",
      "Score for ada:\n",
      "Cross Validated RMSE = 22761.25973370383\n",
      "Score for svr:\n",
      "Cross Validated RMSE = 24423.765822392415\n",
      "Score for xgb:\n",
      "Cross Validated RMSE = 11410.67027239213\n"
     ]
    }
   ],
   "source": [
    "models = [lin_reg, ridge, lasso, knn, rf, gb, ada, svr, xgb]\n",
    "model_names = ['lin_reg', 'ridge', 'lasso', 'knn', 'rf', 'gb', 'ada', 'svr', 'xgb']\n",
    "for i in range(len(models)):\n",
    "    print(f'Score for {model_names[i]}:')\n",
    "    pipe = trainer.train(models[i])"
   ]
  },
  {
   "cell_type": "code",
   "execution_count": 161,
   "id": "federal-policy",
   "metadata": {},
   "outputs": [
    {
     "name": "stdout",
     "output_type": "stream",
     "text": [
      "Score for lin_reg:\n",
      "Training without ['description']\n",
      "Cross Validated RMSE = 15727.942948490663\n",
      "Score for ridge:\n",
      "Training without ['description']\n",
      "Cross Validated RMSE = 15727.906407395392\n",
      "Score for lasso:\n",
      "Training without ['description']\n",
      "Cross Validated RMSE = 15727.981347507857\n",
      "Score for knn:\n",
      "Training without ['description']\n",
      "Cross Validated RMSE = 19526.35193766989\n",
      "Score for rf:\n",
      "Training without ['description']\n",
      "Cross Validated RMSE = 11162.445910476881\n",
      "Score for gb:\n",
      "Training without ['description']\n",
      "Cross Validated RMSE = 11203.229262009605\n",
      "Score for ada:\n",
      "Training without ['description']\n",
      "Cross Validated RMSE = 19304.239963543343\n",
      "Score for svr:\n",
      "Training without ['description']\n",
      "Cross Validated RMSE = 24423.640963518574\n",
      "Score for xgb:\n",
      "Training without ['description']\n",
      "Cross Validated RMSE = 12142.33597680596\n"
     ]
    }
   ],
   "source": [
    "models = [lin_reg, ridge, lasso, knn, rf, gb, ada, svr, xgb]\n",
    "model_names = ['lin_reg', 'ridge', 'lasso', 'knn', 'rf', 'gb', 'ada', 'svr', 'xgb']\n",
    "for i in range(len(models)):\n",
    "    print(f'Score for {model_names[i]}:')\n",
    "    pipe = trainer.train(models[i], remove_features=['description'])"
   ]
  },
  {
   "cell_type": "markdown",
   "id": "loved-mustang",
   "metadata": {},
   "source": [
    "# Feature Permutation"
   ]
  },
  {
   "cell_type": "code",
   "execution_count": 176,
   "id": "iraqi-chase",
   "metadata": {},
   "outputs": [],
   "source": [
    "df = get_data()\n",
    "df = clean_data(df)\n",
    "df = df.drop(columns=['description'])\n",
    "X_train, X_test, y_train, y_test = holdout(df)"
   ]
  },
  {
   "cell_type": "code",
   "execution_count": 178,
   "id": "growing-valuable",
   "metadata": {},
   "outputs": [
    {
     "name": "stdout",
     "output_type": "stream",
     "text": [
      "Training without ['description']\n",
      "Cross Validated RMSE = 11188.604848329916\n"
     ]
    }
   ],
   "source": [
    "rf_pipe = trainer.train(rf, remove_features=['description'])\n",
    "\n",
    "permutation_score = permutation_importance(rf_pipe, X_train, y_train, n_repeats=100) # Perform Permutation"
   ]
  },
  {
   "cell_type": "code",
   "execution_count": 177,
   "id": "copyrighted-review",
   "metadata": {},
   "outputs": [
    {
     "name": "stdout",
     "output_type": "stream",
     "text": [
      "Training without ['description']\n",
      "Cross Validated RMSE = 11022.421831103338\n"
     ]
    },
    {
     "ename": "ValueError",
     "evalue": "all the input array dimensions for the concatenation axis must match exactly, but along dimension 1, the array at index 0 has size 10 and the array at index 1 has size 9",
     "output_type": "error",
     "traceback": [
      "\u001b[0;31m---------------------------------------------------------------------------\u001b[0m",
      "\u001b[0;31mValueError\u001b[0m                                Traceback (most recent call last)",
      "\u001b[0;32m<ipython-input-177-ee398133e063>\u001b[0m in \u001b[0;36m<module>\u001b[0;34m\u001b[0m\n\u001b[1;32m      3\u001b[0m \u001b[0mpermutation_score\u001b[0m \u001b[0;34m=\u001b[0m \u001b[0mpermutation_importance\u001b[0m\u001b[0;34m(\u001b[0m\u001b[0mrf_pipe\u001b[0m\u001b[0;34m,\u001b[0m \u001b[0mX_train\u001b[0m\u001b[0;34m,\u001b[0m \u001b[0my_train\u001b[0m\u001b[0;34m,\u001b[0m \u001b[0mn_repeats\u001b[0m\u001b[0;34m=\u001b[0m\u001b[0;36m100\u001b[0m\u001b[0;34m)\u001b[0m \u001b[0;31m# Perform Permutation\u001b[0m\u001b[0;34m\u001b[0m\u001b[0;34m\u001b[0m\u001b[0m\n\u001b[1;32m      4\u001b[0m \u001b[0;34m\u001b[0m\u001b[0m\n\u001b[0;32m----> 5\u001b[0;31m importance_df = pd.DataFrame(np.vstack((X.columns,\n\u001b[0m\u001b[1;32m      6\u001b[0m                                         permutation_score.importances_mean)).T) # Unstack results\n\u001b[1;32m      7\u001b[0m \u001b[0mimportance_df\u001b[0m\u001b[0;34m.\u001b[0m\u001b[0mcolumns\u001b[0m\u001b[0;34m=\u001b[0m\u001b[0;34m[\u001b[0m\u001b[0;34m'feature'\u001b[0m\u001b[0;34m,\u001b[0m\u001b[0;34m'score decrease'\u001b[0m\u001b[0;34m]\u001b[0m\u001b[0;34m\u001b[0m\u001b[0;34m\u001b[0m\u001b[0m\n",
      "\u001b[0;32m<__array_function__ internals>\u001b[0m in \u001b[0;36mvstack\u001b[0;34m(*args, **kwargs)\u001b[0m\n",
      "\u001b[0;32m~/.pyenv/versions/3.8.6/envs/lewagon/lib/python3.8/site-packages/numpy/core/shape_base.py\u001b[0m in \u001b[0;36mvstack\u001b[0;34m(tup)\u001b[0m\n\u001b[1;32m    281\u001b[0m     \u001b[0;32mif\u001b[0m \u001b[0;32mnot\u001b[0m \u001b[0misinstance\u001b[0m\u001b[0;34m(\u001b[0m\u001b[0marrs\u001b[0m\u001b[0;34m,\u001b[0m \u001b[0mlist\u001b[0m\u001b[0;34m)\u001b[0m\u001b[0;34m:\u001b[0m\u001b[0;34m\u001b[0m\u001b[0;34m\u001b[0m\u001b[0m\n\u001b[1;32m    282\u001b[0m         \u001b[0marrs\u001b[0m \u001b[0;34m=\u001b[0m \u001b[0;34m[\u001b[0m\u001b[0marrs\u001b[0m\u001b[0;34m]\u001b[0m\u001b[0;34m\u001b[0m\u001b[0;34m\u001b[0m\u001b[0m\n\u001b[0;32m--> 283\u001b[0;31m     \u001b[0;32mreturn\u001b[0m \u001b[0m_nx\u001b[0m\u001b[0;34m.\u001b[0m\u001b[0mconcatenate\u001b[0m\u001b[0;34m(\u001b[0m\u001b[0marrs\u001b[0m\u001b[0;34m,\u001b[0m \u001b[0;36m0\u001b[0m\u001b[0;34m)\u001b[0m\u001b[0;34m\u001b[0m\u001b[0;34m\u001b[0m\u001b[0m\n\u001b[0m\u001b[1;32m    284\u001b[0m \u001b[0;34m\u001b[0m\u001b[0m\n\u001b[1;32m    285\u001b[0m \u001b[0;34m\u001b[0m\u001b[0m\n",
      "\u001b[0;32m<__array_function__ internals>\u001b[0m in \u001b[0;36mconcatenate\u001b[0;34m(*args, **kwargs)\u001b[0m\n",
      "\u001b[0;31mValueError\u001b[0m: all the input array dimensions for the concatenation axis must match exactly, but along dimension 1, the array at index 0 has size 10 and the array at index 1 has size 9"
     ]
    }
   ],
   "source": [
    "importance_df = pd.DataFrame(np.vstack((X_train.columns,\n",
    "                                        permutation_score.importances_mean)).T) # Unstack results\n",
    "importance_df.columns=['feature','score decrease']\n",
    "\n",
    "importance_df.sort_values(by=\"score decrease\", ascending = False) "
   ]
  },
  {
   "cell_type": "code",
   "execution_count": null,
   "id": "aerial-philosophy",
   "metadata": {},
   "outputs": [],
   "source": []
  },
  {
   "cell_type": "markdown",
   "id": "blank-shame",
   "metadata": {},
   "source": [
    "# Hyperparameter Optimisation"
   ]
  },
  {
   "cell_type": "code",
   "execution_count": null,
   "id": "romance-provision",
   "metadata": {},
   "outputs": [],
   "source": [
    "hyperparams = {}\n",
    "\n",
    "def grid_search(model, params):\n",
    "    search = GridSearchCV(model, params, scoring='neg_mean_squared_error', cv=5, verbose=1)\n",
    "    search.fit(X_train, y_train)\n",
    "    hyperparams[search.best_params_] = search.best_score_"
   ]
  }
 ],
 "metadata": {
  "kernelspec": {
   "display_name": "Python 3",
   "language": "python",
   "name": "python3"
  },
  "language_info": {
   "codemirror_mode": {
    "name": "ipython",
    "version": 3
   },
   "file_extension": ".py",
   "mimetype": "text/x-python",
   "name": "python",
   "nbconvert_exporter": "python",
   "pygments_lexer": "ipython3",
   "version": "3.8.6"
  },
  "toc": {
   "base_numbering": 1,
   "nav_menu": {},
   "number_sections": true,
   "sideBar": true,
   "skip_h1_title": false,
   "title_cell": "Table of Contents",
   "title_sidebar": "Contents",
   "toc_cell": false,
   "toc_position": {},
   "toc_section_display": true,
   "toc_window_display": false
  }
 },
 "nbformat": 4,
 "nbformat_minor": 5
}
