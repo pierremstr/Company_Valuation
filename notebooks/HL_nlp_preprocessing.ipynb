{
 "cells": [
  {
   "cell_type": "code",
   "execution_count": 1,
   "id": "subtle-ukraine",
   "metadata": {},
   "outputs": [],
   "source": [
    "import pandas as pd\n",
    "import numpy as np\n",
    "# Visualizing pipelines in HTML\n",
    "from sklearn import set_config; set_config()\n",
    "# Exchange rates\n",
    "from forex_python.converter import CurrencyRates\n",
    "# NLP\n",
    "from nltk.corpus import stopwords\n",
    "from nltk.tokenize import word_tokenize\n",
    "import string\n",
    "from sklearn.feature_extraction.text import CountVectorizer\n",
    "# Suppress warning\n",
    "pd.options.mode.chained_assignment = None"
   ]
  },
  {
   "cell_type": "markdown",
   "id": "express-frank",
   "metadata": {},
   "source": [
    "# Load Data"
   ]
  },
  {
   "cell_type": "code",
   "execution_count": 2,
   "id": "coated-translator",
   "metadata": {
    "scrolled": true
   },
   "outputs": [
    {
     "name": "stderr",
     "output_type": "stream",
     "text": [
      "/home/harry/.pyenv/versions/3.8.6/envs/lewagon/lib/python3.8/site-packages/IPython/core/interactiveshell.py:3146: DtypeWarning: Columns (22) have mixed types.Specify dtype option on import or set low_memory=False.\n",
      "  has_raised = await self.run_ast_nodes(code_ast.body, cell_name,\n"
     ]
    }
   ],
   "source": [
    "ev = pd.read_csv('../raw_data/enterprise_value_tidy.csv', index_col='Unnamed: 0')\n",
    "df = pd.read_csv('../raw_data/company_info_fmp.csv', index_col='Unnamed: 0')\n",
    "roic = pd.read_csv('../raw_data/ROIC.csv', index_col='Unnamed: 0')\n",
    "financials = pd.read_csv('../raw_data/company_IS.csv', index_col='Unnamed: 0')"
   ]
  },
  {
   "cell_type": "markdown",
   "id": "indie-bachelor",
   "metadata": {},
   "source": [
    "# Tidy "
   ]
  },
  {
   "cell_type": "code",
   "execution_count": 3,
   "id": "political-holiday",
   "metadata": {
    "scrolled": false
   },
   "outputs": [],
   "source": [
    "financials = roic.merge(financials, on=['symbol', 'date'],how='inner')"
   ]
  },
  {
   "cell_type": "markdown",
   "id": "narrative-orleans",
   "metadata": {},
   "source": [
    "## Feature Engineering"
   ]
  },
  {
   "cell_type": "markdown",
   "id": "dental-bahrain",
   "metadata": {},
   "source": [
    "### Growth Rate"
   ]
  },
  {
   "cell_type": "code",
   "execution_count": 4,
   "id": "ranging-assignment",
   "metadata": {},
   "outputs": [],
   "source": [
    "# Remove companies with fewer than 5 entries\n",
    "symbol_counts = financials['symbol'].value_counts()\n",
    "financials = financials[financials['symbol'].isin(symbol_counts[symbol_counts > 4].index)]"
   ]
  },
  {
   "cell_type": "code",
   "execution_count": 5,
   "id": "protected-ratio",
   "metadata": {},
   "outputs": [],
   "source": [
    "# Calculate growth rate\n",
    "financials['old_revenue'] = financials['revenue'].shift(-4)\n",
    "\n",
    "financials['growth_rate'] = (financials['revenue'] / financials['old_revenue'])**0.25 - 1"
   ]
  },
  {
   "cell_type": "code",
   "execution_count": 6,
   "id": "parental-upgrade",
   "metadata": {},
   "outputs": [],
   "source": [
    "# Select 2019 entry\n",
    "financials['date'] = pd.to_datetime(financials['date'])\n",
    "\n",
    "financials = financials[financials['date'] < '2020-01-01']\n",
    "\n",
    "financials = financials[financials['date'] >= '2019-01-01']"
   ]
  },
  {
   "cell_type": "markdown",
   "id": "preceding-federal",
   "metadata": {},
   "source": [
    "### Ebitda Margin"
   ]
  },
  {
   "cell_type": "code",
   "execution_count": 7,
   "id": "premier-modern",
   "metadata": {},
   "outputs": [],
   "source": [
    "# Calculate ebitda margin\n",
    "financials['ebitda_margin'] = financials['ebitda'] / financials['revenue']"
   ]
  },
  {
   "cell_type": "code",
   "execution_count": 8,
   "id": "involved-windows",
   "metadata": {},
   "outputs": [],
   "source": [
    "financials.drop(columns='old_revenue', inplace=True)"
   ]
  },
  {
   "cell_type": "markdown",
   "id": "herbal-express",
   "metadata": {},
   "source": [
    "## Filter Continuous Variables"
   ]
  },
  {
   "cell_type": "markdown",
   "id": "revised-brazilian",
   "metadata": {},
   "source": [
    "### Company Size"
   ]
  },
  {
   "cell_type": "code",
   "execution_count": 9,
   "id": "rural-cloud",
   "metadata": {},
   "outputs": [
    {
     "name": "stdout",
     "output_type": "stream",
     "text": [
      "10066 rows remaining\n"
     ]
    }
   ],
   "source": [
    "# Remove small companies\n",
    "financials = financials[financials['revenue'] > 10_000_000]\n",
    "print(f'{len(financials)} rows remaining')"
   ]
  },
  {
   "cell_type": "markdown",
   "id": "commercial-routine",
   "metadata": {},
   "source": [
    "### Absurd Values"
   ]
  },
  {
   "cell_type": "code",
   "execution_count": 10,
   "id": "helpful-shape",
   "metadata": {},
   "outputs": [
    {
     "name": "stdout",
     "output_type": "stream",
     "text": [
      "9777 rows remaining\n"
     ]
    }
   ],
   "source": [
    "# Remove companies with absurd growth\n",
    "financials = financials[financials['growth_rate'] < 2]\n",
    "print(f'{len(financials)} rows remaining')"
   ]
  },
  {
   "cell_type": "code",
   "execution_count": 11,
   "id": "reliable-sculpture",
   "metadata": {
    "scrolled": true
   },
   "outputs": [
    {
     "name": "stdout",
     "output_type": "stream",
     "text": [
      "7355 rows remaining\n"
     ]
    }
   ],
   "source": [
    "# Remove companies with negative ebitda margin\n",
    "financials = financials[financials['ebitda_margin'] >= 0.01]\n",
    "print(f'{len(financials)} rows remaining')"
   ]
  },
  {
   "cell_type": "code",
   "execution_count": 12,
   "id": "eleven-bandwidth",
   "metadata": {},
   "outputs": [],
   "source": [
    "# Merge tables\n",
    "ev_info = ev.merge(df, on='symbol', how='inner')\n",
    "ev_info = ev_info.merge(financials, on='symbol', how='inner')[['symbol', 'enterpriseValue', 'sector', 'currency',\n",
    "                                                     'country', 'description', 'returnOnCapitalEmployed',\n",
    "                                                     'revenue', 'grossProfit', 'ebitda', 'growth_rate', 'ebitda_margin']]"
   ]
  },
  {
   "cell_type": "code",
   "execution_count": 13,
   "id": "regional-commissioner",
   "metadata": {},
   "outputs": [
    {
     "name": "stdout",
     "output_type": "stream",
     "text": [
      "7099 rows remaining\n"
     ]
    }
   ],
   "source": [
    "# Remove too large companies\n",
    "ev_info = ev_info[ev_info['enterpriseValue'] < 200_000_000_000]\n",
    "print(f'{len(ev_info)} rows remaining')"
   ]
  },
  {
   "cell_type": "code",
   "execution_count": 14,
   "id": "caroline-mining",
   "metadata": {},
   "outputs": [
    {
     "name": "stdout",
     "output_type": "stream",
     "text": [
      "5996 rows remaining\n"
     ]
    }
   ],
   "source": [
    "# Remove companies with negative values\n",
    "ev_info = ev_info[ev_info['enterpriseValue'] > 0]\n",
    "print(f'{len(ev_info)} rows remaining')"
   ]
  },
  {
   "cell_type": "markdown",
   "id": "champion-massage",
   "metadata": {},
   "source": [
    "## Filter Categorical Variables"
   ]
  },
  {
   "cell_type": "markdown",
   "id": "miniature-service",
   "metadata": {},
   "source": [
    "### Uncommon Values"
   ]
  },
  {
   "cell_type": "code",
   "execution_count": 15,
   "id": "federal-storm",
   "metadata": {},
   "outputs": [
    {
     "name": "stdout",
     "output_type": "stream",
     "text": [
      "5824 rows remaining\n"
     ]
    }
   ],
   "source": [
    "# Keep most common countries\n",
    "countries = ev_info['country'].value_counts()\n",
    "ev_info = ev_info[ev_info['country'].isin(countries[countries > 20].index)]\n",
    "print(f'{len(ev_info)} rows remaining')"
   ]
  },
  {
   "cell_type": "code",
   "execution_count": 16,
   "id": "wrapped-kennedy",
   "metadata": {},
   "outputs": [
    {
     "name": "stdout",
     "output_type": "stream",
     "text": [
      "5811 rows remaining\n"
     ]
    }
   ],
   "source": [
    "# Keep most common currencies\n",
    "currencies = ev_info['currency'].value_counts()\n",
    "ev_info = ev_info[ev_info['currency'].isin(currencies[currencies > 20].index)]\n",
    "print(f'{len(ev_info)} rows remaining')"
   ]
  },
  {
   "cell_type": "markdown",
   "id": "plastic-arizona",
   "metadata": {},
   "source": [
    "### Sectors"
   ]
  },
  {
   "cell_type": "code",
   "execution_count": 17,
   "id": "sorted-rolling",
   "metadata": {
    "scrolled": true
   },
   "outputs": [
    {
     "name": "stdout",
     "output_type": "stream",
     "text": [
      "5609 rows remaining\n"
     ]
    }
   ],
   "source": [
    "# Keep most common sectors\n",
    "sectors = ev_info['sector'].value_counts()\n",
    "ev_info = ev_info[ev_info['sector'].isin(sectors[sectors >= 20].index)]\n",
    "print(f'{len(ev_info)} rows remaining')"
   ]
  },
  {
   "cell_type": "code",
   "execution_count": 18,
   "id": "hairy-entrance",
   "metadata": {},
   "outputs": [
    {
     "name": "stdout",
     "output_type": "stream",
     "text": [
      "4813 rows remaining\n"
     ]
    }
   ],
   "source": [
    "# Remove financial/Real Estate companies\n",
    "financial_sectors = ['Financial Services', 'Banking', 'Real Estate']\n",
    "ev_info = ev_info[~ev_info['sector'].isin(financial_sectors)]\n",
    "print(f'{len(ev_info)} rows remaining')"
   ]
  },
  {
   "cell_type": "code",
   "execution_count": 19,
   "id": "standing-chassis",
   "metadata": {},
   "outputs": [
    {
     "name": "stdout",
     "output_type": "stream",
     "text": [
      "4722 rows remaining\n"
     ]
    }
   ],
   "source": [
    "# Drop companies with no sector or description\n",
    "ev_info = ev_info.dropna(subset=['sector', 'description']).drop_duplicates()\n",
    "print(f'{len(ev_info)} rows remaining')"
   ]
  },
  {
   "cell_type": "code",
   "execution_count": 20,
   "id": "located-crossing",
   "metadata": {
    "scrolled": true
   },
   "outputs": [],
   "source": [
    "# Change GBp to GBP\n",
    "ev_info = ev_info.replace({'GBp': 'GBP'})"
   ]
  },
  {
   "cell_type": "code",
   "execution_count": 21,
   "id": "level-denial",
   "metadata": {},
   "outputs": [],
   "source": [
    "sector_map = {'Health Care': 'Healthcare', 'Energy ': 'Energy', 'Building': 'Construction'}\n",
    "ev_info['sector'] = ev_info['sector'].map(sector_map).fillna(ev_info['sector'])"
   ]
  },
  {
   "cell_type": "markdown",
   "id": "victorian-arrest",
   "metadata": {},
   "source": [
    "### Missing Values"
   ]
  },
  {
   "cell_type": "code",
   "execution_count": 22,
   "id": "desirable-momentum",
   "metadata": {},
   "outputs": [
    {
     "name": "stdout",
     "output_type": "stream",
     "text": [
      "4720 rows remaining\n"
     ]
    }
   ],
   "source": [
    "ev_info = ev_info.dropna()\n",
    "print(f'{len(ev_info)} rows remaining')"
   ]
  },
  {
   "cell_type": "markdown",
   "id": "electric-symbol",
   "metadata": {},
   "source": [
    "## Conversion"
   ]
  },
  {
   "cell_type": "markdown",
   "id": "super-deviation",
   "metadata": {},
   "source": [
    "### Units"
   ]
  },
  {
   "cell_type": "code",
   "execution_count": 23,
   "id": "checked-repository",
   "metadata": {
    "scrolled": true
   },
   "outputs": [],
   "source": [
    "# Convert to millions\n",
    "ev_info[['enterpriseValue', 'revenue', 'grossProfit', 'ebitda']] = ev_info[['enterpriseValue', 'revenue', 'grossProfit', 'ebitda']].apply(lambda x: x/1_000_000)"
   ]
  },
  {
   "cell_type": "markdown",
   "id": "recognized-fashion",
   "metadata": {},
   "source": [
    "### Exchange Rates"
   ]
  },
  {
   "cell_type": "code",
   "execution_count": 24,
   "id": "returning-berry",
   "metadata": {},
   "outputs": [],
   "source": [
    "def get_rate(foreign_currency, home_currency='USD'):\n",
    "    c = CurrencyRates()\n",
    "    rate = c.get_rate(foreign_currency, home_currency)\n",
    "    return rate"
   ]
  },
  {
   "cell_type": "code",
   "execution_count": 25,
   "id": "worst-nylon",
   "metadata": {},
   "outputs": [],
   "source": [
    "ev_info['exchange_rate'] = ev_info['currency'].apply(get_rate)"
   ]
  },
  {
   "cell_type": "code",
   "execution_count": 26,
   "id": "superior-discretion",
   "metadata": {},
   "outputs": [],
   "source": [
    "columns = ['enterpriseValue', 'revenue', 'grossProfit', 'ebitda']\n",
    "for column in columns:\n",
    "    ev_info[column] =  ev_info[column] * ev_info['exchange_rate']"
   ]
  },
  {
   "cell_type": "code",
   "execution_count": 28,
   "id": "passing-creativity",
   "metadata": {},
   "outputs": [],
   "source": [
    "ev_info.drop(columns=['currency'], inplace=True)"
   ]
  },
  {
   "cell_type": "code",
   "execution_count": 29,
   "id": "oriented-record",
   "metadata": {},
   "outputs": [
    {
     "data": {
      "text/html": [
       "<div>\n",
       "<style scoped>\n",
       "    .dataframe tbody tr th:only-of-type {\n",
       "        vertical-align: middle;\n",
       "    }\n",
       "\n",
       "    .dataframe tbody tr th {\n",
       "        vertical-align: top;\n",
       "    }\n",
       "\n",
       "    .dataframe thead th {\n",
       "        text-align: right;\n",
       "    }\n",
       "</style>\n",
       "<table border=\"1\" class=\"dataframe\">\n",
       "  <thead>\n",
       "    <tr style=\"text-align: right;\">\n",
       "      <th></th>\n",
       "      <th>symbol</th>\n",
       "      <th>enterpriseValue</th>\n",
       "      <th>sector</th>\n",
       "      <th>country</th>\n",
       "      <th>description</th>\n",
       "      <th>returnOnCapitalEmployed</th>\n",
       "      <th>revenue</th>\n",
       "      <th>grossProfit</th>\n",
       "      <th>ebitda</th>\n",
       "      <th>growth_rate</th>\n",
       "      <th>ebitda_margin</th>\n",
       "      <th>exchange_rate</th>\n",
       "    </tr>\n",
       "  </thead>\n",
       "  <tbody>\n",
       "    <tr>\n",
       "      <th>0</th>\n",
       "      <td>0001.HK</td>\n",
       "      <td>21680.263318</td>\n",
       "      <td>Industrials</td>\n",
       "      <td>HK</td>\n",
       "      <td>CK Hutchison Holdings Limited, an investment h...</td>\n",
       "      <td>0.051154</td>\n",
       "      <td>38550.325378</td>\n",
       "      <td>21533.550310</td>\n",
       "      <td>12754.362536</td>\n",
       "      <td>0.157184</td>\n",
       "      <td>0.330850</td>\n",
       "      <td>0.128922</td>\n",
       "    </tr>\n",
       "    <tr>\n",
       "      <th>1</th>\n",
       "      <td>0002.HK</td>\n",
       "      <td>5156.227367</td>\n",
       "      <td>Utilities</td>\n",
       "      <td>HK</td>\n",
       "      <td>CLP Holdings Limited, an investment holding co...</td>\n",
       "      <td>0.047146</td>\n",
       "      <td>10950.746563</td>\n",
       "      <td>3343.586867</td>\n",
       "      <td>2387.244959</td>\n",
       "      <td>0.023875</td>\n",
       "      <td>0.217998</td>\n",
       "      <td>0.128922</td>\n",
       "    </tr>\n",
       "    <tr>\n",
       "      <th>2</th>\n",
       "      <td>0003.HK</td>\n",
       "      <td>4078.093035</td>\n",
       "      <td>Utilities</td>\n",
       "      <td>HK</td>\n",
       "      <td>The Hong Kong and China Gas Company Limited, t...</td>\n",
       "      <td>0.091021</td>\n",
       "      <td>5237.847758</td>\n",
       "      <td>2426.862628</td>\n",
       "      <td>1614.771322</td>\n",
       "      <td>0.082469</td>\n",
       "      <td>0.308289</td>\n",
       "      <td>0.128922</td>\n",
       "    </tr>\n",
       "    <tr>\n",
       "      <th>4</th>\n",
       "      <td>0006.HK</td>\n",
       "      <td>10.313744</td>\n",
       "      <td>Utilities</td>\n",
       "      <td>HK</td>\n",
       "      <td>Power Assets Holdings Limited, an investment h...</td>\n",
       "      <td>0.080384</td>\n",
       "      <td>173.786586</td>\n",
       "      <td>173.786586</td>\n",
       "      <td>937.519325</td>\n",
       "      <td>0.007559</td>\n",
       "      <td>5.394659</td>\n",
       "      <td>0.128922</td>\n",
       "    </tr>\n",
       "    <tr>\n",
       "      <th>5</th>\n",
       "      <td>0007.HK</td>\n",
       "      <td>7.469858</td>\n",
       "      <td>Technology</td>\n",
       "      <td>HK</td>\n",
       "      <td>Hong Kong Finance Investment Holding Group Lim...</td>\n",
       "      <td>0.226738</td>\n",
       "      <td>69.360702</td>\n",
       "      <td>3.718491</td>\n",
       "      <td>127.456474</td>\n",
       "      <td>0.329895</td>\n",
       "      <td>1.837589</td>\n",
       "      <td>0.128922</td>\n",
       "    </tr>\n",
       "  </tbody>\n",
       "</table>\n",
       "</div>"
      ],
      "text/plain": [
       "    symbol  enterpriseValue       sector country  \\\n",
       "0  0001.HK     21680.263318  Industrials      HK   \n",
       "1  0002.HK      5156.227367    Utilities      HK   \n",
       "2  0003.HK      4078.093035    Utilities      HK   \n",
       "4  0006.HK        10.313744    Utilities      HK   \n",
       "5  0007.HK         7.469858   Technology      HK   \n",
       "\n",
       "                                         description  returnOnCapitalEmployed  \\\n",
       "0  CK Hutchison Holdings Limited, an investment h...                 0.051154   \n",
       "1  CLP Holdings Limited, an investment holding co...                 0.047146   \n",
       "2  The Hong Kong and China Gas Company Limited, t...                 0.091021   \n",
       "4  Power Assets Holdings Limited, an investment h...                 0.080384   \n",
       "5  Hong Kong Finance Investment Holding Group Lim...                 0.226738   \n",
       "\n",
       "        revenue   grossProfit        ebitda  growth_rate  ebitda_margin  \\\n",
       "0  38550.325378  21533.550310  12754.362536     0.157184       0.330850   \n",
       "1  10950.746563   3343.586867   2387.244959     0.023875       0.217998   \n",
       "2   5237.847758   2426.862628   1614.771322     0.082469       0.308289   \n",
       "4    173.786586    173.786586    937.519325     0.007559       5.394659   \n",
       "5     69.360702      3.718491    127.456474     0.329895       1.837589   \n",
       "\n",
       "   exchange_rate  \n",
       "0       0.128922  \n",
       "1       0.128922  \n",
       "2       0.128922  \n",
       "4       0.128922  \n",
       "5       0.128922  "
      ]
     },
     "execution_count": 29,
     "metadata": {},
     "output_type": "execute_result"
    }
   ],
   "source": [
    "ev_info.head()"
   ]
  },
  {
   "cell_type": "markdown",
   "id": "accomplished-float",
   "metadata": {},
   "source": [
    "# NLP Preprocessing"
   ]
  },
  {
   "cell_type": "code",
   "execution_count": 30,
   "id": "hungry-secret",
   "metadata": {},
   "outputs": [],
   "source": [
    "def clean_info(info):\n",
    "    # Remove punctuation\n",
    "    for p in string.punctuation:\n",
    "        info = str(info).replace(p, '')   \n",
    "    # Lower case\n",
    "    info = info.lower()\n",
    "    # Remove numbers\n",
    "    info = ''.join(word for word in info if not word.isdigit())\n",
    "    # Remove stop words\n",
    "    stop_words = set(stopwords.words('english'))\n",
    "    word_tokens = word_tokenize(info)\n",
    "    info = [w for w in word_tokens if not w in stop_words]\n",
    "    info = ' '.join(info)\n",
    "    return info"
   ]
  },
  {
   "cell_type": "code",
   "execution_count": 33,
   "id": "meaning-nevada",
   "metadata": {},
   "outputs": [],
   "source": [
    "def nlp_preprocessing(df, context=2, min_df=0.05):\n",
    "    df_copy = df.copy()\n",
    "    # Clean language columns\n",
    "    df_copy['clean_info'] = df_copy['description'].apply(clean_info)\n",
    "    # Vectorize\n",
    "    vectorizer = CountVectorizer(ngram_range=(1,context), max_df=0.85, min_df=min_df)\n",
    "    X = vectorizer.fit_transform(df_copy['clean_info'])\n",
    "    # Convert back to df\n",
    "    vect_df = pd.DataFrame(X.toarray(), columns=vectorizer.get_feature_names(), index= df_copy.index)\n",
    "    merged_df = df_copy.merge(vect_df, left_index=True, right_index=True, how='left')\n",
    "    merged_df.drop(columns=['description','clean_info'], inplace=True)\n",
    "    return merged_df"
   ]
  },
  {
   "cell_type": "code",
   "execution_count": 34,
   "id": "established-speaker",
   "metadata": {
    "scrolled": false
   },
   "outputs": [
    {
     "data": {
      "text/html": [
       "<div>\n",
       "<style scoped>\n",
       "    .dataframe tbody tr th:only-of-type {\n",
       "        vertical-align: middle;\n",
       "    }\n",
       "\n",
       "    .dataframe tbody tr th {\n",
       "        vertical-align: top;\n",
       "    }\n",
       "\n",
       "    .dataframe thead th {\n",
       "        text-align: right;\n",
       "    }\n",
       "</style>\n",
       "<table border=\"1\" class=\"dataframe\">\n",
       "  <thead>\n",
       "    <tr style=\"text-align: right;\">\n",
       "      <th></th>\n",
       "      <th>symbol</th>\n",
       "      <th>enterpriseValue</th>\n",
       "      <th>sector</th>\n",
       "      <th>country</th>\n",
       "      <th>returnOnCapitalEmployed</th>\n",
       "      <th>revenue</th>\n",
       "      <th>grossProfit</th>\n",
       "      <th>ebitda</th>\n",
       "      <th>growth_rate</th>\n",
       "      <th>ebitda_margin</th>\n",
       "      <th>...</th>\n",
       "      <th>united states</th>\n",
       "      <th>use</th>\n",
       "      <th>used</th>\n",
       "      <th>various</th>\n",
       "      <th>vehicles</th>\n",
       "      <th>water</th>\n",
       "      <th>well</th>\n",
       "      <th>wholesale</th>\n",
       "      <th>worldwide</th>\n",
       "      <th>worldwide company</th>\n",
       "    </tr>\n",
       "  </thead>\n",
       "  <tbody>\n",
       "    <tr>\n",
       "      <th>0</th>\n",
       "      <td>0001.HK</td>\n",
       "      <td>21680.263318</td>\n",
       "      <td>Industrials</td>\n",
       "      <td>HK</td>\n",
       "      <td>0.051154</td>\n",
       "      <td>38550.325378</td>\n",
       "      <td>21533.550310</td>\n",
       "      <td>12754.362536</td>\n",
       "      <td>0.157184</td>\n",
       "      <td>0.330850</td>\n",
       "      <td>...</td>\n",
       "      <td>1</td>\n",
       "      <td>0</td>\n",
       "      <td>0</td>\n",
       "      <td>0</td>\n",
       "      <td>0</td>\n",
       "      <td>4</td>\n",
       "      <td>2</td>\n",
       "      <td>0</td>\n",
       "      <td>1</td>\n",
       "      <td>1</td>\n",
       "    </tr>\n",
       "    <tr>\n",
       "      <th>1</th>\n",
       "      <td>0002.HK</td>\n",
       "      <td>5156.227367</td>\n",
       "      <td>Utilities</td>\n",
       "      <td>HK</td>\n",
       "      <td>0.047146</td>\n",
       "      <td>10950.746563</td>\n",
       "      <td>3343.586867</td>\n",
       "      <td>2387.244959</td>\n",
       "      <td>0.023875</td>\n",
       "      <td>0.217998</td>\n",
       "      <td>...</td>\n",
       "      <td>0</td>\n",
       "      <td>0</td>\n",
       "      <td>0</td>\n",
       "      <td>0</td>\n",
       "      <td>0</td>\n",
       "      <td>0</td>\n",
       "      <td>0</td>\n",
       "      <td>0</td>\n",
       "      <td>0</td>\n",
       "      <td>0</td>\n",
       "    </tr>\n",
       "    <tr>\n",
       "      <th>2</th>\n",
       "      <td>0003.HK</td>\n",
       "      <td>4078.093035</td>\n",
       "      <td>Utilities</td>\n",
       "      <td>HK</td>\n",
       "      <td>0.091021</td>\n",
       "      <td>5237.847758</td>\n",
       "      <td>2426.862628</td>\n",
       "      <td>1614.771322</td>\n",
       "      <td>0.082469</td>\n",
       "      <td>0.308289</td>\n",
       "      <td>...</td>\n",
       "      <td>0</td>\n",
       "      <td>0</td>\n",
       "      <td>0</td>\n",
       "      <td>0</td>\n",
       "      <td>0</td>\n",
       "      <td>2</td>\n",
       "      <td>0</td>\n",
       "      <td>0</td>\n",
       "      <td>0</td>\n",
       "      <td>0</td>\n",
       "    </tr>\n",
       "    <tr>\n",
       "      <th>4</th>\n",
       "      <td>0006.HK</td>\n",
       "      <td>10.313744</td>\n",
       "      <td>Utilities</td>\n",
       "      <td>HK</td>\n",
       "      <td>0.080384</td>\n",
       "      <td>173.786586</td>\n",
       "      <td>173.786586</td>\n",
       "      <td>937.519325</td>\n",
       "      <td>0.007559</td>\n",
       "      <td>5.394659</td>\n",
       "      <td>...</td>\n",
       "      <td>0</td>\n",
       "      <td>0</td>\n",
       "      <td>0</td>\n",
       "      <td>0</td>\n",
       "      <td>0</td>\n",
       "      <td>0</td>\n",
       "      <td>1</td>\n",
       "      <td>0</td>\n",
       "      <td>0</td>\n",
       "      <td>0</td>\n",
       "    </tr>\n",
       "    <tr>\n",
       "      <th>5</th>\n",
       "      <td>0007.HK</td>\n",
       "      <td>7.469858</td>\n",
       "      <td>Technology</td>\n",
       "      <td>HK</td>\n",
       "      <td>0.226738</td>\n",
       "      <td>69.360702</td>\n",
       "      <td>3.718491</td>\n",
       "      <td>127.456474</td>\n",
       "      <td>0.329895</td>\n",
       "      <td>1.837589</td>\n",
       "      <td>...</td>\n",
       "      <td>0</td>\n",
       "      <td>0</td>\n",
       "      <td>0</td>\n",
       "      <td>0</td>\n",
       "      <td>0</td>\n",
       "      <td>0</td>\n",
       "      <td>1</td>\n",
       "      <td>0</td>\n",
       "      <td>0</td>\n",
       "      <td>0</td>\n",
       "    </tr>\n",
       "  </tbody>\n",
       "</table>\n",
       "<p>5 rows × 318 columns</p>\n",
       "</div>"
      ],
      "text/plain": [
       "    symbol  enterpriseValue       sector country  returnOnCapitalEmployed  \\\n",
       "0  0001.HK     21680.263318  Industrials      HK                 0.051154   \n",
       "1  0002.HK      5156.227367    Utilities      HK                 0.047146   \n",
       "2  0003.HK      4078.093035    Utilities      HK                 0.091021   \n",
       "4  0006.HK        10.313744    Utilities      HK                 0.080384   \n",
       "5  0007.HK         7.469858   Technology      HK                 0.226738   \n",
       "\n",
       "        revenue   grossProfit        ebitda  growth_rate  ebitda_margin  ...  \\\n",
       "0  38550.325378  21533.550310  12754.362536     0.157184       0.330850  ...   \n",
       "1  10950.746563   3343.586867   2387.244959     0.023875       0.217998  ...   \n",
       "2   5237.847758   2426.862628   1614.771322     0.082469       0.308289  ...   \n",
       "4    173.786586    173.786586    937.519325     0.007559       5.394659  ...   \n",
       "5     69.360702      3.718491    127.456474     0.329895       1.837589  ...   \n",
       "\n",
       "   united states  use  used  various  vehicles  water  well  wholesale  \\\n",
       "0              1    0     0        0         0      4     2          0   \n",
       "1              0    0     0        0         0      0     0          0   \n",
       "2              0    0     0        0         0      2     0          0   \n",
       "4              0    0     0        0         0      0     1          0   \n",
       "5              0    0     0        0         0      0     1          0   \n",
       "\n",
       "   worldwide  worldwide company  \n",
       "0          1                  1  \n",
       "1          0                  0  \n",
       "2          0                  0  \n",
       "4          0                  0  \n",
       "5          0                  0  \n",
       "\n",
       "[5 rows x 318 columns]"
      ]
     },
     "execution_count": 34,
     "metadata": {},
     "output_type": "execute_result"
    }
   ],
   "source": [
    "clean_df = nlp_preprocessing(ev_info)\n",
    "clean_df.head()"
   ]
  },
  {
   "cell_type": "code",
   "execution_count": null,
   "id": "casual-design",
   "metadata": {
    "scrolled": true
   },
   "outputs": [],
   "source": [
    "#ev_info.to_csv('../raw_data/ev_info.csv')"
   ]
  }
 ],
 "metadata": {
  "kernelspec": {
   "display_name": "Python 3",
   "language": "python",
   "name": "python3"
  },
  "language_info": {
   "codemirror_mode": {
    "name": "ipython",
    "version": 3
   },
   "file_extension": ".py",
   "mimetype": "text/x-python",
   "name": "python",
   "nbconvert_exporter": "python",
   "pygments_lexer": "ipython3",
   "version": "3.8.6"
  },
  "toc": {
   "base_numbering": 1,
   "nav_menu": {},
   "number_sections": true,
   "sideBar": true,
   "skip_h1_title": false,
   "title_cell": "Table of Contents",
   "title_sidebar": "Contents",
   "toc_cell": false,
   "toc_position": {
    "height": "calc(100% - 180px)",
    "left": "10px",
    "top": "150px",
    "width": "256px"
   },
   "toc_section_display": true,
   "toc_window_display": true
  }
 },
 "nbformat": 4,
 "nbformat_minor": 5
}
