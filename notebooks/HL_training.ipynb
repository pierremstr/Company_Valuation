{
 "cells": [
  {
   "cell_type": "code",
   "execution_count": 2,
   "id": "enabling-transparency",
   "metadata": {},
   "outputs": [],
   "source": [
    "%load_ext autoreload\n",
    "%autoreload 2"
   ]
  },
  {
   "cell_type": "code",
   "execution_count": 3,
   "id": "efficient-terrorism",
   "metadata": {},
   "outputs": [],
   "source": [
    "import pandas as pd\n",
    "import numpy as np"
   ]
  },
  {
   "cell_type": "code",
   "execution_count": 4,
   "id": "insured-diversity",
   "metadata": {},
   "outputs": [],
   "source": [
    "from Company_Valuation.trainer import Trainer\n",
    "from Company_Valuation.data import get_data, clean_data, holdout\n",
    "from Company_Valuation.utils import vectorize"
   ]
  },
  {
   "cell_type": "code",
   "execution_count": 5,
   "id": "institutional-testing",
   "metadata": {},
   "outputs": [],
   "source": [
    "# Scalers\n",
    "from sklearn.preprocessing import RobustScaler\n",
    "# Models\n",
    "from sklearn.neighbors import KNeighborsRegressor\n",
    "from sklearn.ensemble import RandomForestRegressor, GradientBoostingRegressor, AdaBoostRegressor\n",
    "from sklearn.linear_model import Ridge, Lasso, LinearRegression\n",
    "from sklearn.svm import SVR\n",
    "from xgboost import XGBRegressor\n",
    "# Optimisation\n",
    "from sklearn.inspection import permutation_importance\n",
    "from sklearn.model_selection import GridSearchCV"
   ]
  },
  {
   "cell_type": "markdown",
   "id": "amended-prediction",
   "metadata": {},
   "source": [
    "# Basic Models"
   ]
  },
  {
   "cell_type": "code",
   "execution_count": 6,
   "id": "forbidden-mexican",
   "metadata": {},
   "outputs": [],
   "source": [
    "# Scalers\n",
    "r_scaler = RobustScaler()\n",
    "# Models\n",
    "lin_reg = LinearRegression()\n",
    "ridge = Ridge()\n",
    "lasso = Lasso()\n",
    "knn = KNeighborsRegressor()\n",
    "rf = RandomForestRegressor()\n",
    "gb = GradientBoostingRegressor()\n",
    "ada = AdaBoostRegressor()\n",
    "svr = SVR()\n",
    "xgb = XGBRegressor()"
   ]
  },
  {
   "cell_type": "code",
   "execution_count": 7,
   "id": "inclusive-fossil",
   "metadata": {},
   "outputs": [],
   "source": [
    "trainer = Trainer()"
   ]
  },
  {
   "cell_type": "code",
   "execution_count": 108,
   "id": "electronic-throw",
   "metadata": {},
   "outputs": [
    {
     "name": "stdout",
     "output_type": "stream",
     "text": [
      "Score for lin_reg:\n",
      "Cross Validated RMSE = 388735741586.214\n",
      "Score for ridge:\n",
      "Cross Validated RMSE = 1004.2265027722524\n",
      "Score for lasso:\n",
      "Cross Validated RMSE = 989.3757221054294\n",
      "Score for knn:\n",
      "Cross Validated RMSE = 924.9524094674447\n",
      "Score for rf:\n",
      "Cross Validated RMSE = 833.3170664057775\n",
      "Score for gb:\n",
      "Cross Validated RMSE = 846.1277203748884\n",
      "Score for ada:\n",
      "Cross Validated RMSE = 950.1164490691166\n",
      "Score for svr:\n",
      "Cross Validated RMSE = 2559.278548903058\n",
      "Score for xgb:\n",
      "Cross Validated RMSE = 892.1399428315747\n"
     ]
    }
   ],
   "source": [
    "models = [lin_reg, ridge, lasso, knn, rf, gb, ada, svr, xgb]\n",
    "model_names = ['lin_reg', 'ridge', 'lasso', 'knn', 'rf', 'gb', 'ada', 'svr', 'xgb']\n",
    "for i in range(len(models)):\n",
    "    print(f'Score for {model_names[i]}:')\n",
    "    pipe = trainer.train(models[i])"
   ]
  },
  {
   "cell_type": "code",
   "execution_count": 111,
   "id": "federal-policy",
   "metadata": {},
   "outputs": [
    {
     "name": "stdout",
     "output_type": "stream",
     "text": [
      "Score for lin_reg:\n",
      "Training without ['description']\n",
      "Cross Validated RMSE = 994.3318573865291\n",
      "Score for ridge:\n",
      "Training without ['description']\n",
      "Cross Validated RMSE = 994.2910781707805\n",
      "Score for lasso:\n",
      "Training without ['description']\n",
      "Cross Validated RMSE = 994.3783613728147\n",
      "Score for knn:\n",
      "Training without ['description']\n",
      "Cross Validated RMSE = 933.5871504809786\n",
      "Score for rf:\n",
      "Training without ['description']\n",
      "Cross Validated RMSE = 860.2274593055947\n",
      "Score for gb:\n",
      "Training without ['description']\n",
      "Cross Validated RMSE = 854.7133672166156\n",
      "Score for ada:\n",
      "Training without ['description']\n",
      "Cross Validated RMSE = 921.5179792803898\n",
      "Score for svr:\n",
      "Training without ['description']\n",
      "Cross Validated RMSE = 2549.3758388934866\n",
      "Score for xgb:\n",
      "Training without ['description']\n",
      "Cross Validated RMSE = 915.8879976922378\n"
     ]
    }
   ],
   "source": [
    "models = [lin_reg, ridge, lasso, knn, rf, gb, ada, svr, xgb]\n",
    "model_names = ['lin_reg', 'ridge', 'lasso', 'knn', 'rf', 'gb', 'ada', 'svr', 'xgb']\n",
    "for i in range(len(models)):\n",
    "    print(f'Score for {model_names[i]}:')\n",
    "    pipe = trainer.train(models[i], remove_features=['description'])"
   ]
  },
  {
   "cell_type": "code",
   "execution_count": 112,
   "id": "champion-audience",
   "metadata": {},
   "outputs": [
    {
     "name": "stdout",
     "output_type": "stream",
     "text": [
      "Score for lin_reg:\n",
      "Training without ['description', 'grossProfit', 'returnOnCapitalEmployed']\n",
      "Cross Validated RMSE = 995.358025788059\n",
      "Score for ridge:\n",
      "Training without ['description', 'grossProfit', 'returnOnCapitalEmployed']\n",
      "Cross Validated RMSE = 995.3091525413519\n",
      "Score for lasso:\n",
      "Training without ['description', 'grossProfit', 'returnOnCapitalEmployed']\n",
      "Cross Validated RMSE = 995.2664683810913\n",
      "Score for knn:\n",
      "Training without ['description', 'grossProfit', 'returnOnCapitalEmployed']\n",
      "Cross Validated RMSE = 951.4017517538729\n",
      "Score for rf:\n",
      "Training without ['description', 'grossProfit', 'returnOnCapitalEmployed']\n",
      "Cross Validated RMSE = 882.9770763884434\n",
      "Score for gb:\n",
      "Training without ['description', 'grossProfit', 'returnOnCapitalEmployed']\n",
      "Cross Validated RMSE = 868.1245966968416\n",
      "Score for ada:\n",
      "Training without ['description', 'grossProfit', 'returnOnCapitalEmployed']\n",
      "Cross Validated RMSE = 910.2884364780759\n",
      "Score for svr:\n",
      "Training without ['description', 'grossProfit', 'returnOnCapitalEmployed']\n",
      "Cross Validated RMSE = 2547.560042665129\n",
      "Score for xgb:\n",
      "Training without ['description', 'grossProfit', 'returnOnCapitalEmployed']\n",
      "Cross Validated RMSE = 969.9329206692732\n"
     ]
    }
   ],
   "source": [
    "models = [lin_reg, ridge, lasso, knn, rf, gb, ada, svr, xgb]\n",
    "model_names = ['lin_reg', 'ridge', 'lasso', 'knn', 'rf', 'gb', 'ada', 'svr', 'xgb']\n",
    "for i in range(len(models)):\n",
    "    print(f'Score for {model_names[i]}:')\n",
    "    pipe = trainer.train(models[i], remove_features=['description', 'grossProfit','returnOnCapitalEmployed'])"
   ]
  },
  {
   "cell_type": "code",
   "execution_count": null,
   "id": "noble-fight",
   "metadata": {},
   "outputs": [],
   "source": [
    "# models = [lin_reg, ridge, lasso, knn, rf, gb, ada, svr, xgb]\n",
    "# model_names = ['lin_reg', 'ridge', 'lasso', 'knn', 'rf', 'gb', 'ada', 'svr', 'xgb']\n",
    "# for i in range(len(models)):\n",
    "#     print(f'Score for {model_names[i]}:')\n",
    "#     pipe = trainer.train(models[i], remove_features=['description', 'grossProfit', 'revenue', 'returnOnCapitalEmployed', 'ebitda_margin','growth_rate', 'sector', 'country'])"
   ]
  },
  {
   "cell_type": "code",
   "execution_count": 110,
   "id": "automatic-agenda",
   "metadata": {},
   "outputs": [
    {
     "name": "stdout",
     "output_type": "stream",
     "text": [
      "Score for lin_reg:\n",
      "Training without ['description', 'grossProfit']\n",
      "Cross Validated RMSE = 995.4896263800242\n",
      "Score for ridge:\n",
      "Training without ['description', 'grossProfit']\n",
      "Cross Validated RMSE = 995.4435704549679\n",
      "Score for lasso:\n",
      "Training without ['description', 'grossProfit']\n",
      "Cross Validated RMSE = 995.4204809675364\n",
      "Score for knn:\n",
      "Training without ['description', 'grossProfit']\n",
      "Cross Validated RMSE = 950.1904257661907\n",
      "Score for rf:\n",
      "Training without ['description', 'grossProfit']\n",
      "Cross Validated RMSE = 861.8606814486599\n",
      "Score for gb:\n",
      "Training without ['description', 'grossProfit']\n",
      "Cross Validated RMSE = 859.1378813559019\n",
      "Score for ada:\n",
      "Training without ['description', 'grossProfit']\n",
      "Cross Validated RMSE = 926.4578995693466\n",
      "Score for svr:\n",
      "Training without ['description', 'grossProfit']\n",
      "Cross Validated RMSE = 2552.0037728367956\n",
      "Score for xgb:\n",
      "Training without ['description', 'grossProfit']\n",
      "Cross Validated RMSE = 964.1512626870199\n"
     ]
    }
   ],
   "source": [
    "models = [lin_reg, ridge, lasso, knn, rf, gb, ada, svr, xgb]\n",
    "model_names = ['lin_reg', 'ridge', 'lasso', 'knn', 'rf', 'gb', 'ada', 'svr', 'xgb']\n",
    "for i in range(len(models)):\n",
    "    print(f'Score for {model_names[i]}:')\n",
    "    pipe = trainer.train(models[i], remove_features=['description', 'grossProfit'])"
   ]
  },
  {
   "cell_type": "markdown",
   "id": "gorgeous-validity",
   "metadata": {},
   "source": [
    "# Error Analysis"
   ]
  },
  {
   "cell_type": "code",
   "execution_count": 10,
   "id": "threatened-samba",
   "metadata": {
    "scrolled": true
   },
   "outputs": [
    {
     "name": "stdout",
     "output_type": "stream",
     "text": [
      "Training without ['description', 'grossProfit']\n",
      "Cross Validated RMSE = 13971.698490798113\n"
     ]
    }
   ],
   "source": [
    "rf_pipe, X_test, y_test = trainer.train(rf, remove_features=['description', 'grossProfit'])"
   ]
  },
  {
   "cell_type": "code",
   "execution_count": 11,
   "id": "amended-wages",
   "metadata": {},
   "outputs": [],
   "source": [
    "y_pred = rf_pipe.predict(X_test)"
   ]
  },
  {
   "cell_type": "code",
   "execution_count": 12,
   "id": "willing-emergency",
   "metadata": {
    "scrolled": true
   },
   "outputs": [
    {
     "data": {
      "image/png": "[encoded data removed]",
      "text/plain": [
       "<Figure size 432x288 with 1 Axes>"
      ]
     },
     "metadata": {
      "needs_background": "light"
     },
     "output_type": "display_data"
    }
   ],
   "source": [
    "import matplotlib.pyplot as plt\n",
    "\n",
    "plt.hist(y_pred);"
   ]
  },
  {
   "cell_type": "code",
   "execution_count": 13,
   "id": "arranged-seeker",
   "metadata": {
    "scrolled": true
   },
   "outputs": [
    {
     "data": {
      "image/png": "[encoded data removed]",
      "text/plain": [
       "<Figure size 432x288 with 1 Axes>"
      ]
     },
     "metadata": {
      "needs_background": "light"
     },
     "output_type": "display_data"
    }
   ],
   "source": [
    "plt.hist(y_test);"
   ]
  },
  {
   "cell_type": "code",
   "execution_count": 14,
   "id": "wrapped-signal",
   "metadata": {},
   "outputs": [],
   "source": [
    "errors = (y_pred - y_test)"
   ]
  },
  {
   "cell_type": "code",
   "execution_count": 15,
   "id": "descending-planner",
   "metadata": {
    "scrolled": false
   },
   "outputs": [
    {
     "data": {
      "text/plain": [
       "Text(0, 0.5, 'errors')"
      ]
     },
     "execution_count": 15,
     "metadata": {},
     "output_type": "execute_result"
    },
    {
     "data": {
      "image/png": "[encoded data removed]",
      "text/plain": [
       "<Figure size 432x288 with 1 Axes>"
      ]
     },
     "metadata": {
      "needs_background": "light"
     },
     "output_type": "display_data"
    }
   ],
   "source": [
    "import seaborn as sns\n",
    "sns.scatterplot(x=X_test['ebitda'], y=abs(errors, hue=X_test['country'])\n",
    "plt.ylabel('errors')"
   ]
  },
  {
   "cell_type": "markdown",
   "id": "instant-might",
   "metadata": {},
   "source": [
    "## US Only"
   ]
  },
  {
   "cell_type": "code",
   "execution_count": null,
   "id": "romance-federal",
   "metadata": {},
   "outputs": [],
   "source": [
    "rf_pipe, X_test, y_test = trainer.train(rf, remove_features=['description', 'grossProfit'])"
   ]
  },
  {
   "cell_type": "code",
   "execution_count": null,
   "id": "solar-honduras",
   "metadata": {},
   "outputs": [],
   "source": [
    "y_pred = rf_pipe.predict(X_test)"
   ]
  },
  {
   "cell_type": "code",
   "execution_count": null,
   "id": "after-thriller",
   "metadata": {},
   "outputs": [],
   "source": [
    "errors = (y_pred - y_test)"
   ]
  },
  {
   "cell_type": "code",
   "execution_count": 67,
   "id": "proprietary-inventory",
   "metadata": {},
   "outputs": [
    {
     "data": {
      "text/plain": [
       "Text(0, 0.5, 'errors')"
      ]
     },
     "execution_count": 67,
     "metadata": {},
     "output_type": "execute_result"
    },
    {
     "data": {
      "image/png": "[encoded data removed]",
      "text/plain": [
       "<Figure size 1080x576 with 1 Axes>"
      ]
     },
     "metadata": {
      "needs_background": "light"
     },
     "output_type": "display_data"
    }
   ],
   "source": [
    "fig = plt.figure(figsize=(15,8))\n",
    "sns.scatterplot(x=y_test, y=errors, hue=X_test['sector'], palette='dark')\n",
    "plt.ylabel('errors')"
   ]
  },
  {
   "cell_type": "code",
   "execution_count": 236,
   "id": "concerned-positive",
   "metadata": {
    "scrolled": true
   },
   "outputs": [
    {
     "data": {
      "text/plain": [
       "2927"
      ]
     },
     "execution_count": 236,
     "metadata": {},
     "output_type": "execute_result"
    }
   ],
   "source": [
    "len(df[((df['enterpriseValue'] / df['ebitda']) > 4) & ((df['enterpriseValue'] / df['ebitda']) < 23)])"
   ]
  },
  {
   "cell_type": "code",
   "execution_count": 235,
   "id": "turkish-bridges",
   "metadata": {},
   "outputs": [
    {
     "data": {
      "image/png": "[encoded data removed]",
      "text/plain": [
       "<Figure size 432x288 with 1 Axes>"
      ]
     },
     "metadata": {
      "needs_background": "light"
     },
     "output_type": "display_data"
    }
   ],
   "source": [
    "sns.scatterplot(x=df['ebitda'], y=df['enterpriseValue']);"
   ]
  },
  {
   "cell_type": "markdown",
   "id": "current-spread",
   "metadata": {},
   "source": [
    "# Feature Permutation"
   ]
  },
  {
   "cell_type": "code",
   "execution_count": 149,
   "id": "piano-sender",
   "metadata": {},
   "outputs": [],
   "source": [
    "df = get_data()\n",
    "df = clean_data(df)\n",
    "#df = vectorize(df)\n",
    "#df = df.drop(columns=['description'])\n",
    "X_train, X_test, y_train, y_test = holdout(df)"
   ]
  },
  {
   "cell_type": "code",
   "execution_count": 184,
   "id": "strong-decline",
   "metadata": {},
   "outputs": [
    {
     "name": "stdout",
     "output_type": "stream",
     "text": [
      "Training without ['description', 'grossProfit']\n",
      "Cross Validated RMSE = 11629.5932671144\n"
     ]
    }
   ],
   "source": [
    "rf_pipe = trainer.train(rf, remove_features=['description', 'grossProfit'])"
   ]
  },
  {
   "cell_type": "code",
   "execution_count": 153,
   "id": "mediterranean-cradle",
   "metadata": {},
   "outputs": [],
   "source": [
    "X_train = X_train.drop(columns=['description','grossProfit'])"
   ]
  },
  {
   "cell_type": "code",
   "execution_count": 152,
   "id": "foreign-yorkshire",
   "metadata": {
    "collapsed": true
   },
   "outputs": [
    {
     "data": {
      "text/plain": [
       "Pipeline(memory=None,\n",
       "         steps=[('preprocessing',\n",
       "                 ColumnTransformer(n_jobs=None, remainder='passthrough',\n",
       "                                   sparse_threshold=0.3,\n",
       "                                   transformer_weights=None,\n",
       "                                   transformers=[('num_transformer',\n",
       "                                                  Pipeline(memory=None,\n",
       "                                                           steps=[('imputer',\n",
       "                                                                   SimpleImputer(add_indicator=False,\n",
       "                                                                                 copy=True,\n",
       "                                                                                 fill_value=None,\n",
       "                                                                                 missing_values=nan,\n",
       "                                                                                 strategy='mean',\n",
       "                                                                                 verbose=0)),\n",
       "                                                                  ('scaler',\n",
       "                                                                   RobustScaler(cop...\n",
       "                 RandomForestRegressor(bootstrap=True, ccp_alpha=0.0,\n",
       "                                       criterion='mae', max_depth=8,\n",
       "                                       max_features='auto', max_leaf_nodes=None,\n",
       "                                       max_samples=None,\n",
       "                                       min_impurity_decrease=0.0,\n",
       "                                       min_impurity_split=None,\n",
       "                                       min_samples_leaf=4, min_samples_split=16,\n",
       "                                       min_weight_fraction_leaf=0.0,\n",
       "                                       n_estimators=400, n_jobs=None,\n",
       "                                       oob_score=False, random_state=None,\n",
       "                                       verbose=0, warm_start=False))],\n",
       "         verbose=False)"
      ]
     },
     "execution_count": 152,
     "metadata": {},
     "output_type": "execute_result"
    }
   ],
   "source": [
    "rf_pipe"
   ]
  },
  {
   "cell_type": "code",
   "execution_count": 154,
   "id": "beneficial-plymouth",
   "metadata": {},
   "outputs": [],
   "source": [
    "permutation_score = permutation_importance(rf_pipe, X_train, y_train, n_repeats=100) # Perform Permutation"
   ]
  },
  {
   "cell_type": "code",
   "execution_count": 181,
   "id": "supreme-struggle",
   "metadata": {
    "scrolled": true
   },
   "outputs": [
    {
     "name": "stdout",
     "output_type": "stream",
     "text": [
      "Training without ['description']\n",
      "Cross Validated RMSE = 11351.016089601902\n"
     ]
    }
   ],
   "source": [
    "rf_pipe = trainer.train(rf, remove_features=['description', 'grossProfit'])\n",
    "\n",
    "permutation_score = permutation_importance(rf_pipe, X_train, y_train, n_repeats=100) # Perform Permutation"
   ]
  },
  {
   "cell_type": "code",
   "execution_count": 155,
   "id": "liquid-albany",
   "metadata": {
    "scrolled": true
   },
   "outputs": [
    {
     "data": {
      "text/html": [
       "<div>\n",
       "<style scoped>\n",
       "    .dataframe tbody tr th:only-of-type {\n",
       "        vertical-align: middle;\n",
       "    }\n",
       "\n",
       "    .dataframe tbody tr th {\n",
       "        vertical-align: top;\n",
       "    }\n",
       "\n",
       "    .dataframe thead th {\n",
       "        text-align: right;\n",
       "    }\n",
       "</style>\n",
       "<table border=\"1\" class=\"dataframe\">\n",
       "  <thead>\n",
       "    <tr style=\"text-align: right;\">\n",
       "      <th></th>\n",
       "      <th>feature</th>\n",
       "      <th>score decrease</th>\n",
       "    </tr>\n",
       "  </thead>\n",
       "  <tbody>\n",
       "    <tr>\n",
       "      <th>4</th>\n",
       "      <td>ebitda</td>\n",
       "      <td>1.707326</td>\n",
       "    </tr>\n",
       "    <tr>\n",
       "      <th>0</th>\n",
       "      <td>sector</td>\n",
       "      <td>0.024830</td>\n",
       "    </tr>\n",
       "    <tr>\n",
       "      <th>1</th>\n",
       "      <td>country</td>\n",
       "      <td>0.015570</td>\n",
       "    </tr>\n",
       "    <tr>\n",
       "      <th>6</th>\n",
       "      <td>ebitda_margin</td>\n",
       "      <td>0.009464</td>\n",
       "    </tr>\n",
       "    <tr>\n",
       "      <th>5</th>\n",
       "      <td>growth_rate</td>\n",
       "      <td>0.004566</td>\n",
       "    </tr>\n",
       "    <tr>\n",
       "      <th>2</th>\n",
       "      <td>returnOnCapitalEmployed</td>\n",
       "      <td>0.004078</td>\n",
       "    </tr>\n",
       "    <tr>\n",
       "      <th>3</th>\n",
       "      <td>revenue</td>\n",
       "      <td>0.002860</td>\n",
       "    </tr>\n",
       "  </tbody>\n",
       "</table>\n",
       "</div>"
      ],
      "text/plain": [
       "                   feature score decrease\n",
       "4                   ebitda       1.707326\n",
       "0                   sector       0.024830\n",
       "1                  country       0.015570\n",
       "6            ebitda_margin       0.009464\n",
       "5              growth_rate       0.004566\n",
       "2  returnOnCapitalEmployed       0.004078\n",
       "3                  revenue       0.002860"
      ]
     },
     "execution_count": 155,
     "metadata": {},
     "output_type": "execute_result"
    }
   ],
   "source": [
    "importance_df = pd.DataFrame(np.vstack((X_train.columns,\n",
    "                                        permutation_score.importances_mean)).T) # Unstack results\n",
    "importance_df.columns=['feature','score decrease']\n",
    "\n",
    "importance_df.sort_values(by=\"score decrease\", ascending = False) "
   ]
  },
  {
   "cell_type": "markdown",
   "id": "quarterly-sellers",
   "metadata": {},
   "source": [
    "# Hyperparameter Optimisation"
   ]
  },
  {
   "cell_type": "code",
   "execution_count": 113,
   "id": "sensitive-interpretation",
   "metadata": {},
   "outputs": [],
   "source": [
    "rf = RandomForestRegressor()"
   ]
  },
  {
   "cell_type": "code",
   "execution_count": 125,
   "id": "maritime-peripheral",
   "metadata": {},
   "outputs": [],
   "source": [
    "rf_pipe, X_train, y_train = trainer.train(rf, remove_features=['description', 'grossProfit', 'returnOnCapitalEmployed'])"
   ]
  },
  {
   "cell_type": "code",
   "execution_count": 126,
   "id": "front-preliminary",
   "metadata": {
    "collapsed": true
   },
   "outputs": [
    {
     "data": {
      "text/plain": [
       "{'memory': None,\n",
       " 'steps': [('preprocessing',\n",
       "   ColumnTransformer(n_jobs=None, remainder='passthrough', sparse_threshold=0.3,\n",
       "                     transformer_weights=None,\n",
       "                     transformers=[('num_transformer',\n",
       "                                    Pipeline(memory=None,\n",
       "                                             steps=[('imputer',\n",
       "                                                     SimpleImputer(add_indicator=False,\n",
       "                                                                   copy=True,\n",
       "                                                                   fill_value=None,\n",
       "                                                                   missing_values=nan,\n",
       "                                                                   strategy='mean',\n",
       "                                                                   verbose=0)),\n",
       "                                                    ('scaler',\n",
       "                                                     RobustScaler(copy=True,\n",
       "                                                                  quantile_range=(25.0,\n",
       "                                                                                  75.0),\n",
       "                                                                  with_centering=True,\n",
       "                                                                  with_scaling=True))],\n",
       "                                             verbose=False),\n",
       "                                    ['ebitda', 'growth_rate', 'ebitda_margin']),\n",
       "                                   ('cat_transformer',\n",
       "                                    OneHotEncoder(categories='auto', drop=None,\n",
       "                                                  dtype=<class 'numpy.float64'>,\n",
       "                                                  handle_unknown='error',\n",
       "                                                  sparse=True),\n",
       "                                    ['sector', 'country'])],\n",
       "                     verbose=False)),\n",
       "  ('model',\n",
       "   RandomForestRegressor(bootstrap=True, ccp_alpha=0.0, criterion='mse',\n",
       "                         max_depth=None, max_features='auto', max_leaf_nodes=None,\n",
       "                         max_samples=None, min_impurity_decrease=0.0,\n",
       "                         min_impurity_split=None, min_samples_leaf=1,\n",
       "                         min_samples_split=2, min_weight_fraction_leaf=0.0,\n",
       "                         n_estimators=100, n_jobs=None, oob_score=False,\n",
       "                         random_state=None, verbose=0, warm_start=False))],\n",
       " 'verbose': False,\n",
       " 'preprocessing': ColumnTransformer(n_jobs=None, remainder='passthrough', sparse_threshold=0.3,\n",
       "                   transformer_weights=None,\n",
       "                   transformers=[('num_transformer',\n",
       "                                  Pipeline(memory=None,\n",
       "                                           steps=[('imputer',\n",
       "                                                   SimpleImputer(add_indicator=False,\n",
       "                                                                 copy=True,\n",
       "                                                                 fill_value=None,\n",
       "                                                                 missing_values=nan,\n",
       "                                                                 strategy='mean',\n",
       "                                                                 verbose=0)),\n",
       "                                                  ('scaler',\n",
       "                                                   RobustScaler(copy=True,\n",
       "                                                                quantile_range=(25.0,\n",
       "                                                                                75.0),\n",
       "                                                                with_centering=True,\n",
       "                                                                with_scaling=True))],\n",
       "                                           verbose=False),\n",
       "                                  ['ebitda', 'growth_rate', 'ebitda_margin']),\n",
       "                                 ('cat_transformer',\n",
       "                                  OneHotEncoder(categories='auto', drop=None,\n",
       "                                                dtype=<class 'numpy.float64'>,\n",
       "                                                handle_unknown='error',\n",
       "                                                sparse=True),\n",
       "                                  ['sector', 'country'])],\n",
       "                   verbose=False),\n",
       " 'model': RandomForestRegressor(bootstrap=True, ccp_alpha=0.0, criterion='mse',\n",
       "                       max_depth=None, max_features='auto', max_leaf_nodes=None,\n",
       "                       max_samples=None, min_impurity_decrease=0.0,\n",
       "                       min_impurity_split=None, min_samples_leaf=1,\n",
       "                       min_samples_split=2, min_weight_fraction_leaf=0.0,\n",
       "                       n_estimators=100, n_jobs=None, oob_score=False,\n",
       "                       random_state=None, verbose=0, warm_start=False),\n",
       " 'preprocessing__n_jobs': None,\n",
       " 'preprocessing__remainder': 'passthrough',\n",
       " 'preprocessing__sparse_threshold': 0.3,\n",
       " 'preprocessing__transformer_weights': None,\n",
       " 'preprocessing__transformers': [('num_transformer',\n",
       "   Pipeline(memory=None,\n",
       "            steps=[('imputer',\n",
       "                    SimpleImputer(add_indicator=False, copy=True, fill_value=None,\n",
       "                                  missing_values=nan, strategy='mean',\n",
       "                                  verbose=0)),\n",
       "                   ('scaler',\n",
       "                    RobustScaler(copy=True, quantile_range=(25.0, 75.0),\n",
       "                                 with_centering=True, with_scaling=True))],\n",
       "            verbose=False),\n",
       "   ['ebitda', 'growth_rate', 'ebitda_margin']),\n",
       "  ('cat_transformer',\n",
       "   OneHotEncoder(categories='auto', drop=None, dtype=<class 'numpy.float64'>,\n",
       "                 handle_unknown='error', sparse=True),\n",
       "   ['sector', 'country'])],\n",
       " 'preprocessing__verbose': False,\n",
       " 'preprocessing__num_transformer': Pipeline(memory=None,\n",
       "          steps=[('imputer',\n",
       "                  SimpleImputer(add_indicator=False, copy=True, fill_value=None,\n",
       "                                missing_values=nan, strategy='mean',\n",
       "                                verbose=0)),\n",
       "                 ('scaler',\n",
       "                  RobustScaler(copy=True, quantile_range=(25.0, 75.0),\n",
       "                               with_centering=True, with_scaling=True))],\n",
       "          verbose=False),\n",
       " 'preprocessing__cat_transformer': OneHotEncoder(categories='auto', drop=None, dtype=<class 'numpy.float64'>,\n",
       "               handle_unknown='error', sparse=True),\n",
       " 'preprocessing__num_transformer__memory': None,\n",
       " 'preprocessing__num_transformer__steps': [('imputer',\n",
       "   SimpleImputer(add_indicator=False, copy=True, fill_value=None,\n",
       "                 missing_values=nan, strategy='mean', verbose=0)),\n",
       "  ('scaler',\n",
       "   RobustScaler(copy=True, quantile_range=(25.0, 75.0), with_centering=True,\n",
       "                with_scaling=True))],\n",
       " 'preprocessing__num_transformer__verbose': False,\n",
       " 'preprocessing__num_transformer__imputer': SimpleImputer(add_indicator=False, copy=True, fill_value=None,\n",
       "               missing_values=nan, strategy='mean', verbose=0),\n",
       " 'preprocessing__num_transformer__scaler': RobustScaler(copy=True, quantile_range=(25.0, 75.0), with_centering=True,\n",
       "              with_scaling=True),\n",
       " 'preprocessing__num_transformer__imputer__add_indicator': False,\n",
       " 'preprocessing__num_transformer__imputer__copy': True,\n",
       " 'preprocessing__num_transformer__imputer__fill_value': None,\n",
       " 'preprocessing__num_transformer__imputer__missing_values': nan,\n",
       " 'preprocessing__num_transformer__imputer__strategy': 'mean',\n",
       " 'preprocessing__num_transformer__imputer__verbose': 0,\n",
       " 'preprocessing__num_transformer__scaler__copy': True,\n",
       " 'preprocessing__num_transformer__scaler__quantile_range': (25.0, 75.0),\n",
       " 'preprocessing__num_transformer__scaler__with_centering': True,\n",
       " 'preprocessing__num_transformer__scaler__with_scaling': True,\n",
       " 'preprocessing__cat_transformer__categories': 'auto',\n",
       " 'preprocessing__cat_transformer__drop': None,\n",
       " 'preprocessing__cat_transformer__dtype': numpy.float64,\n",
       " 'preprocessing__cat_transformer__handle_unknown': 'error',\n",
       " 'preprocessing__cat_transformer__sparse': True,\n",
       " 'model__bootstrap': True,\n",
       " 'model__ccp_alpha': 0.0,\n",
       " 'model__criterion': 'mse',\n",
       " 'model__max_depth': None,\n",
       " 'model__max_features': 'auto',\n",
       " 'model__max_leaf_nodes': None,\n",
       " 'model__max_samples': None,\n",
       " 'model__min_impurity_decrease': 0.0,\n",
       " 'model__min_impurity_split': None,\n",
       " 'model__min_samples_leaf': 1,\n",
       " 'model__min_samples_split': 2,\n",
       " 'model__min_weight_fraction_leaf': 0.0,\n",
       " 'model__n_estimators': 100,\n",
       " 'model__n_jobs': None,\n",
       " 'model__oob_score': False,\n",
       " 'model__random_state': None,\n",
       " 'model__verbose': 0,\n",
       " 'model__warm_start': False}"
      ]
     },
     "execution_count": 126,
     "metadata": {},
     "output_type": "execute_result"
    }
   ],
   "source": [
    "rf_pipe.get_params()"
   ]
  },
  {
   "cell_type": "code",
   "execution_count": 139,
   "id": "champion-visitor",
   "metadata": {
    "collapsed": true
   },
   "outputs": [
    {
     "name": "stdout",
     "output_type": "stream",
     "text": [
      "Fitting 5 folds for each of 3 candidates, totalling 15 fits\n"
     ]
    },
    {
     "name": "stderr",
     "output_type": "stream",
     "text": [
      "[Parallel(n_jobs=-1)]: Using backend LokyBackend with 4 concurrent workers.\n",
      "[Parallel(n_jobs=-1)]: Done  15 out of  15 | elapsed:  1.5min finished\n"
     ]
    },
    {
     "data": {
      "text/plain": [
       "GridSearchCV(cv=5, error_score=nan,\n",
       "             estimator=Pipeline(memory=None,\n",
       "                                steps=[('preprocessing',\n",
       "                                        ColumnTransformer(n_jobs=None,\n",
       "                                                          remainder='passthrough',\n",
       "                                                          sparse_threshold=0.3,\n",
       "                                                          transformer_weights=None,\n",
       "                                                          transformers=[('num_transformer',\n",
       "                                                                         Pipeline(memory=None,\n",
       "                                                                                  steps=[('imputer',\n",
       "                                                                                          SimpleImputer(add_indicator=False,\n",
       "                                                                                                        copy=True,\n",
       "                                                                                                        fill_value=None,\n",
       "                                                                                                        missing_values=nan,\n",
       "                                                                                                        strategy='...\n",
       "                                                              verbose=0,\n",
       "                                                              warm_start=False))],\n",
       "                                verbose=False),\n",
       "             iid='deprecated', n_jobs=-1,\n",
       "             param_grid={'model__criterion': ['mae'], 'model__max_depth': [8],\n",
       "                         'model__min_samples_leaf': [2, 4, 6],\n",
       "                         'model__min_samples_split': [16],\n",
       "                         'model__n_estimators': [400]},\n",
       "             pre_dispatch='2*n_jobs', refit=True, return_train_score=False,\n",
       "             scoring=make_scorer(error_pc, greater_is_better=False), verbose=1)"
      ]
     },
     "execution_count": 139,
     "metadata": {},
     "output_type": "execute_result"
    }
   ],
   "source": [
    "params = {'model__max_depth':[8],\n",
    "         'model__min_samples_split':[16],\n",
    "         'model__min_samples_leaf':[2,4,6], \n",
    "         'model__n_estimators':[400],\n",
    "         'model__criterion': ['mae']}\n",
    "\n",
    "search3 = GridSearchCV(rf_pipe, param_grid=params, scoring=error_scorer, cv=5, verbose=1, n_jobs=-1)\n",
    "search3.fit(X_train, y_train)"
   ]
  },
  {
   "cell_type": "code",
   "execution_count": 131,
   "id": "physical-pennsylvania",
   "metadata": {},
   "outputs": [
    {
     "data": {
      "text/plain": [
       "-0.35024620226540787"
      ]
     },
     "execution_count": 131,
     "metadata": {},
     "output_type": "execute_result"
    }
   ],
   "source": [
    "search.best_score_"
   ]
  },
  {
   "cell_type": "code",
   "execution_count": 133,
   "id": "waiting-there",
   "metadata": {
    "scrolled": true
   },
   "outputs": [
    {
     "data": {
      "text/plain": [
       "{'model__criterion': 'mae',\n",
       " 'model__max_depth': 8,\n",
       " 'model__min_samples_split': 16,\n",
       " 'model__n_estimators': 200}"
      ]
     },
     "execution_count": 133,
     "metadata": {},
     "output_type": "execute_result"
    }
   ],
   "source": [
    "search.best_params_"
   ]
  },
  {
   "cell_type": "code",
   "execution_count": 135,
   "id": "regulated-dressing",
   "metadata": {},
   "outputs": [
    {
     "name": "stdout",
     "output_type": "stream",
     "text": [
      "-0.35054080877055627\n",
      "{'model__criterion': 'mae', 'model__max_depth': 8, 'model__min_samples_split': 16, 'model__n_estimators': 400}\n"
     ]
    }
   ],
   "source": [
    "print(search1.best_score_)\n",
    "print(search1.best_params_)"
   ]
  },
  {
   "cell_type": "code",
   "execution_count": 137,
   "id": "consolidated-greene",
   "metadata": {},
   "outputs": [
    {
     "name": "stdout",
     "output_type": "stream",
     "text": [
      "-0.3486156655452064\n",
      "{'model__criterion': 'mae', 'model__max_depth': 8, 'model__min_samples_leaf': 4, 'model__min_samples_split': 16, 'model__n_estimators': 400}\n"
     ]
    }
   ],
   "source": [
    "print(search2.best_score_)\n",
    "print(search2.best_params_)"
   ]
  },
  {
   "cell_type": "code",
   "execution_count": 140,
   "id": "resident-french",
   "metadata": {},
   "outputs": [
    {
     "name": "stdout",
     "output_type": "stream",
     "text": [
      "-0.34951276418370203\n",
      "{'model__criterion': 'mae', 'model__max_depth': 8, 'model__min_samples_leaf': 6, 'model__min_samples_split': 16, 'model__n_estimators': 400}\n"
     ]
    }
   ],
   "source": [
    "print(search3.best_score_)\n",
    "print(search3.best_params_)"
   ]
  },
  {
   "cell_type": "code",
   "execution_count": 141,
   "id": "found-scale",
   "metadata": {},
   "outputs": [],
   "source": [
    "best_params = {'criterion': 'mae', 'max_depth': 8, 'min_samples_leaf': 4, 'min_samples_split': 16, 'n_estimators': 400}"
   ]
  },
  {
   "cell_type": "code",
   "execution_count": 109,
   "id": "scheduled-mortgage",
   "metadata": {},
   "outputs": [],
   "source": [
    "from sklearn.metrics import make_scorer\n",
    "\n",
    "def error_pc(y_true, y_pred):\n",
    "    errors = abs(y_true - y_pred)\n",
    "    pc_errors = errors/y_true\n",
    "    return pc_errors.mean()\n",
    "\n",
    "error_scorer = make_scorer(error_pc, greater_is_better=False)"
   ]
  },
  {
   "cell_type": "code",
   "execution_count": 143,
   "id": "agreed-poetry",
   "metadata": {},
   "outputs": [],
   "source": [
    "rf_opt = RandomForestRegressor(criterion='mae', max_depth=8, min_samples_leaf=4, min_samples_split=16, n_estimators=400)"
   ]
  },
  {
   "cell_type": "code",
   "execution_count": 144,
   "id": "noted-stroke",
   "metadata": {
    "scrolled": true
   },
   "outputs": [
    {
     "name": "stdout",
     "output_type": "stream",
     "text": [
      "Training without ['description', 'grossProfit', 'returnOnCapitalEmployed']\n",
      "Cross Validated RMSE = 866.2285851243364\n",
      "Percentage Error = 0.3493158641389706\n"
     ]
    }
   ],
   "source": [
    "opt_pipe = trainer.train(rf_opt, remove_features=['description', 'grossProfit', 'returnOnCapitalEmployed'])"
   ]
  },
  {
   "cell_type": "code",
   "execution_count": 146,
   "id": "recovered-emergency",
   "metadata": {
    "scrolled": true
   },
   "outputs": [
    {
     "data": {
      "text/plain": [
       "{'mae': 478.7166413302089, 'mse': 747037.12897743, 'rmse': 864.3130966133916}"
      ]
     },
     "execution_count": 146,
     "metadata": {},
     "output_type": "execute_result"
    }
   ],
   "source": [
    "trainer.evaluate(opt_pipe)"
   ]
  },
  {
   "cell_type": "code",
   "execution_count": 156,
   "id": "renewable-namibia",
   "metadata": {
    "scrolled": false
   },
   "outputs": [
    {
     "name": "stdout",
     "output_type": "stream",
     "text": [
      "Training without ['description', 'grossProfit', 'returnOnCapitalEmployed', 'revenue']\n",
      "Cross Validated RMSE = 865.4575983734264\n",
      "Percentage Error = 0.3496546282509646\n"
     ]
    }
   ],
   "source": [
    "opt_pipe = trainer.train(rf_opt, remove_features=['description', 'grossProfit', 'returnOnCapitalEmployed', 'revenue'])"
   ]
  },
  {
   "cell_type": "code",
   "execution_count": 158,
   "id": "mathematical-cinema",
   "metadata": {},
   "outputs": [
    {
     "data": {
      "text/plain": [
       "['model.joblib']"
      ]
     },
     "execution_count": 158,
     "metadata": {},
     "output_type": "execute_result"
    }
   ],
   "source": [
    "import joblib\n",
    "\n",
    "joblib.dump(opt_pipe, 'model.joblib')"
   ]
  },
  {
   "cell_type": "markdown",
   "id": "monetary-homeless",
   "metadata": {},
   "source": [
    "# Without EBITDA/EV Outliers"
   ]
  },
  {
   "cell_type": "code",
   "execution_count": 261,
   "id": "considerable-structure",
   "metadata": {},
   "outputs": [],
   "source": [
    "df = get_data()\n",
    "df = clean_data(df)"
   ]
  },
  {
   "cell_type": "code",
   "execution_count": 237,
   "id": "smaller-assembly",
   "metadata": {
    "scrolled": false
   },
   "outputs": [
    {
     "name": "stdout",
     "output_type": "stream",
     "text": [
      "Training without ['description', 'grossProfit']\n",
      "Cross Validated RMSE = 8673.744793127209\n"
     ]
    }
   ],
   "source": [
    "rf_pipe = trainer.train(rf, remove_features=['description', 'grossProfit'])"
   ]
  },
  {
   "cell_type": "code",
   "execution_count": 244,
   "id": "whole-exception",
   "metadata": {},
   "outputs": [
    {
     "name": "stdout",
     "output_type": "stream",
     "text": [
      "Training without ['description', 'grossProfit']\n",
      "Cross Validated RMSE = 8230.174214383584\n"
     ]
    }
   ],
   "source": [
    "# Remove 100 biggest\n",
    "rf_pipe = trainer.train(rf, remove_features=['description', 'grossProfit'])"
   ]
  },
  {
   "cell_type": "code",
   "execution_count": 254,
   "id": "demonstrated-command",
   "metadata": {},
   "outputs": [
    {
     "name": "stdout",
     "output_type": "stream",
     "text": [
      "Training without ['description', 'grossProfit', 'revenue']\n",
      "Cross Validated RMSE = 8468.166121578884\n"
     ]
    }
   ],
   "source": [
    "rf_pipe, X_test, y_test = trainer.train(rf, remove_features=['description', 'grossProfit', 'revenue'])"
   ]
  },
  {
   "cell_type": "code",
   "execution_count": 255,
   "id": "compliant-speech",
   "metadata": {},
   "outputs": [
    {
     "name": "stdout",
     "output_type": "stream",
     "text": [
      "Training without ['description', 'grossProfit', 'revenue', 'ebitda_margin']\n",
      "Cross Validated RMSE = 8515.762878693446\n"
     ]
    }
   ],
   "source": [
    "rf_pipe, X_test, y_test = trainer.train(rf, remove_features=['description', 'grossProfit', 'revenue', 'ebitda_margin'])"
   ]
  },
  {
   "cell_type": "code",
   "execution_count": 259,
   "id": "olympic-laugh",
   "metadata": {
    "scrolled": true
   },
   "outputs": [
    {
     "name": "stdout",
     "output_type": "stream",
     "text": [
      "Training without ['description']\n",
      "Cross Validated RMSE = 7694.5201494353805\n"
     ]
    }
   ],
   "source": [
    "rf_pipe = trainer.train(rf, remove_features=['description'])"
   ]
  },
  {
   "cell_type": "code",
   "execution_count": 262,
   "id": "recreational-titanium",
   "metadata": {},
   "outputs": [
    {
     "data": {
      "text/html": [
       "<div>\n",
       "<style scoped>\n",
       "    .dataframe tbody tr th:only-of-type {\n",
       "        vertical-align: middle;\n",
       "    }\n",
       "\n",
       "    .dataframe tbody tr th {\n",
       "        vertical-align: top;\n",
       "    }\n",
       "\n",
       "    .dataframe thead th {\n",
       "        text-align: right;\n",
       "    }\n",
       "</style>\n",
       "<table border=\"1\" class=\"dataframe\">\n",
       "  <thead>\n",
       "    <tr style=\"text-align: right;\">\n",
       "      <th></th>\n",
       "      <th>enterpriseValue</th>\n",
       "      <th>sector</th>\n",
       "      <th>country</th>\n",
       "      <th>description</th>\n",
       "      <th>returnOnCapitalEmployed</th>\n",
       "      <th>revenue</th>\n",
       "      <th>grossProfit</th>\n",
       "      <th>ebitda</th>\n",
       "      <th>growth_rate</th>\n",
       "      <th>ebitda_margin</th>\n",
       "    </tr>\n",
       "  </thead>\n",
       "  <tbody>\n",
       "    <tr>\n",
       "      <th>3892</th>\n",
       "      <td>0.573292</td>\n",
       "      <td>Consumer</td>\n",
       "      <td>EM</td>\n",
       "      <td>SIBIRSKIY GOSTINETS Public Joint-Stock Company...</td>\n",
       "      <td>1</td>\n",
       "      <td>1</td>\n",
       "      <td>0.132516</td>\n",
       "      <td>0.070642</td>\n",
       "      <td>4</td>\n",
       "      <td>3</td>\n",
       "    </tr>\n",
       "  </tbody>\n",
       "</table>\n",
       "</div>"
      ],
      "text/plain": [
       "      enterpriseValue    sector country  \\\n",
       "3892         0.573292  Consumer      EM   \n",
       "\n",
       "                                            description  \\\n",
       "3892  SIBIRSKIY GOSTINETS Public Joint-Stock Company...   \n",
       "\n",
       "      returnOnCapitalEmployed  revenue  grossProfit    ebitda  growth_rate  \\\n",
       "3892                        1        1     0.132516  0.070642            4   \n",
       "\n",
       "      ebitda_margin  \n",
       "3892              3  "
      ]
     },
     "execution_count": 262,
     "metadata": {},
     "output_type": "execute_result"
    }
   ],
   "source": [
    "df.head(1)"
   ]
  },
  {
   "cell_type": "code",
   "execution_count": 249,
   "id": "elegant-transformation",
   "metadata": {},
   "outputs": [],
   "source": [
    "errors = y_pred-y_test"
   ]
  },
  {
   "cell_type": "code",
   "execution_count": 253,
   "id": "encouraging-prison",
   "metadata": {
    "collapsed": true
   },
   "outputs": [
    {
     "data": {
      "text/plain": [
       "Text(0, 0.5, 'Errors')"
      ]
     },
     "execution_count": 253,
     "metadata": {},
     "output_type": "execute_result"
    },
    {
     "data": {
      "image/png": "[encoded data removed]",
      "text/plain": [
       "<Figure size 1080x576 with 1 Axes>"
      ]
     },
     "metadata": {
      "needs_background": "light"
     },
     "output_type": "display_data"
    }
   ],
   "source": [
    "fig = plt.figure(figsize=(15,8))\n",
    "sns.scatterplot(x=X_test['ebitda'], y=errors, hue=X_test['country'])\n",
    "plt.ylabel('Errors')"
   ]
  },
  {
   "cell_type": "code",
   "execution_count": 343,
   "id": "forbidden-isaac",
   "metadata": {},
   "outputs": [],
   "source": [
    "test = pd.DataFrame.from_dict({'sector':['Energy'],'country': ['US'],'returnOnCapitalEmployed': [1],'revenue': [4],'grossProfit': [700000],'ebitda': [300000], 'growth_rate':[2],'ebitda_margin': [2]})"
   ]
  },
  {
   "cell_type": "code",
   "execution_count": 344,
   "id": "close-playing",
   "metadata": {
    "scrolled": false
   },
   "outputs": [
    {
     "data": {
      "text/plain": [
       "array([3588.66441199])"
      ]
     },
     "execution_count": 344,
     "metadata": {},
     "output_type": "execute_result"
    }
   ],
   "source": [
    "rf_pipe.predict(test)"
   ]
  },
  {
   "cell_type": "code",
   "execution_count": 284,
   "id": "arctic-sector",
   "metadata": {},
   "outputs": [
    {
     "data": {
      "text/html": [
       "<div>\n",
       "<style scoped>\n",
       "    .dataframe tbody tr th:only-of-type {\n",
       "        vertical-align: middle;\n",
       "    }\n",
       "\n",
       "    .dataframe tbody tr th {\n",
       "        vertical-align: top;\n",
       "    }\n",
       "\n",
       "    .dataframe thead th {\n",
       "        text-align: right;\n",
       "    }\n",
       "</style>\n",
       "<table border=\"1\" class=\"dataframe\">\n",
       "  <thead>\n",
       "    <tr style=\"text-align: right;\">\n",
       "      <th></th>\n",
       "      <th>sector</th>\n",
       "      <th>country</th>\n",
       "      <th>returnOnCapitalEmployed</th>\n",
       "      <th>revenue</th>\n",
       "      <th>grossProfit</th>\n",
       "      <th>ebitda</th>\n",
       "      <th>growth_rate</th>\n",
       "      <th>ebitda_margin</th>\n",
       "    </tr>\n",
       "  </thead>\n",
       "  <tbody>\n",
       "    <tr>\n",
       "      <th>0</th>\n",
       "      <td>Healthcare</td>\n",
       "      <td>US</td>\n",
       "      <td>1</td>\n",
       "      <td>1</td>\n",
       "      <td>70</td>\n",
       "      <td>40</td>\n",
       "      <td>2</td>\n",
       "      <td>2</td>\n",
       "    </tr>\n",
       "  </tbody>\n",
       "</table>\n",
       "</div>"
      ],
      "text/plain": [
       "       sector country  returnOnCapitalEmployed  revenue  grossProfit  ebitda  \\\n",
       "0  Healthcare      US                        1        1           70      40   \n",
       "\n",
       "   growth_rate  ebitda_margin  \n",
       "0            2              2  "
      ]
     },
     "execution_count": 284,
     "metadata": {},
     "output_type": "execute_result"
    }
   ],
   "source": [
    "test"
   ]
  },
  {
   "cell_type": "code",
   "execution_count": 289,
   "id": "muslim-arthur",
   "metadata": {},
   "outputs": [
    {
     "name": "stdout",
     "output_type": "stream",
     "text": [
      "Training without ['description']\n",
      "Cross Validated RMSE = 2722.713073366879\n"
     ]
    }
   ],
   "source": [
    "rf_pipe = trainer.train(rf, remove_features=['description'])"
   ]
  },
  {
   "cell_type": "code",
   "execution_count": 340,
   "id": "quantitative-facing",
   "metadata": {},
   "outputs": [
    {
     "data": {
      "text/plain": [
       "1987"
      ]
     },
     "execution_count": 340,
     "metadata": {},
     "output_type": "execute_result"
    }
   ],
   "source": [
    "len(df[df['enterpriseValue'] < 4000])"
   ]
  },
  {
   "cell_type": "code",
   "execution_count": 293,
   "id": "leading-approach",
   "metadata": {},
   "outputs": [
    {
     "name": "stdout",
     "output_type": "stream",
     "text": [
      "Training without ['description']\n",
      "Cross Validated RMSE = 2349.5965795250045\n"
     ]
    }
   ],
   "source": [
    "rf_pipe = trainer.train(rf, remove_features=['description'])"
   ]
  },
  {
   "cell_type": "code",
   "execution_count": 298,
   "id": "brutal-server",
   "metadata": {},
   "outputs": [
    {
     "name": "stdout",
     "output_type": "stream",
     "text": [
      "Training without ['description']\n",
      "Cross Validated RMSE = 1593.1247870300256\n"
     ]
    }
   ],
   "source": [
    "rf_pipe = trainer.train(rf, remove_features=['description'])"
   ]
  },
  {
   "cell_type": "code",
   "execution_count": 310,
   "id": "broad-medicaid",
   "metadata": {},
   "outputs": [],
   "source": [
    "X_test.drop(columns=['description'], inplace=True)"
   ]
  },
  {
   "cell_type": "code",
   "execution_count": 312,
   "id": "narrative-manchester",
   "metadata": {},
   "outputs": [
    {
     "data": {
      "text/html": [
       "<div>\n",
       "<style scoped>\n",
       "    .dataframe tbody tr th:only-of-type {\n",
       "        vertical-align: middle;\n",
       "    }\n",
       "\n",
       "    .dataframe tbody tr th {\n",
       "        vertical-align: top;\n",
       "    }\n",
       "\n",
       "    .dataframe thead th {\n",
       "        text-align: right;\n",
       "    }\n",
       "</style>\n",
       "<table border=\"1\" class=\"dataframe\">\n",
       "  <thead>\n",
       "    <tr style=\"text-align: right;\">\n",
       "      <th></th>\n",
       "      <th>sector</th>\n",
       "      <th>country</th>\n",
       "      <th>returnOnCapitalEmployed</th>\n",
       "      <th>revenue</th>\n",
       "      <th>grossProfit</th>\n",
       "      <th>ebitda</th>\n",
       "      <th>growth_rate</th>\n",
       "      <th>ebitda_margin</th>\n",
       "    </tr>\n",
       "  </thead>\n",
       "  <tbody>\n",
       "    <tr>\n",
       "      <th>1574</th>\n",
       "      <td>Consumer</td>\n",
       "      <td>ROW</td>\n",
       "      <td>2</td>\n",
       "      <td>1</td>\n",
       "      <td>11.215739</td>\n",
       "      <td>3.16055</td>\n",
       "      <td>3</td>\n",
       "      <td>3</td>\n",
       "    </tr>\n",
       "  </tbody>\n",
       "</table>\n",
       "</div>"
      ],
      "text/plain": [
       "        sector country  returnOnCapitalEmployed  revenue  grossProfit  \\\n",
       "1574  Consumer     ROW                        2        1    11.215739   \n",
       "\n",
       "       ebitda  growth_rate  ebitda_margin  \n",
       "1574  3.16055            3              3  "
      ]
     },
     "execution_count": 312,
     "metadata": {},
     "output_type": "execute_result"
    }
   ],
   "source": [
    "X_test.head(1)"
   ]
  },
  {
   "cell_type": "code",
   "execution_count": 317,
   "id": "nonprofit-distance",
   "metadata": {
    "scrolled": true
   },
   "outputs": [
    {
     "data": {
      "text/plain": [
       "array([  23.81153564,   24.60525044, 4423.90380902, 2794.11223295,\n",
       "         82.79193123, 8381.65258779,   23.33464072,   24.81086655,\n",
       "       8451.21410529,  718.65551715])"
      ]
     },
     "execution_count": 317,
     "metadata": {},
     "output_type": "execute_result"
    }
   ],
   "source": [
    "rf_pipe.predict(X_test.head(10))"
   ]
  },
  {
   "cell_type": "code",
   "execution_count": 319,
   "id": "circular-breast",
   "metadata": {},
   "outputs": [
    {
     "data": {
      "text/plain": [
       "1574      42.725313\n",
       "2190      22.712176\n",
       "680     4582.662700\n",
       "3508    2631.829889\n",
       "2103      63.965982\n",
       "3976    7720.306660\n",
       "2095      22.454673\n",
       "1006      13.769094\n",
       "1420    6193.778000\n",
       "684     1079.273258\n",
       "Name: enterpriseValue, dtype: float64"
      ]
     },
     "execution_count": 319,
     "metadata": {},
     "output_type": "execute_result"
    }
   ],
   "source": [
    "y_test.head(10)"
   ]
  },
  {
   "cell_type": "code",
   "execution_count": 342,
   "id": "indonesian-brook",
   "metadata": {
    "scrolled": true
   },
   "outputs": [
    {
     "name": "stdout",
     "output_type": "stream",
     "text": [
      "Training without ['description']\n",
      "Cross Validated RMSE = 394.69514457341785\n"
     ]
    }
   ],
   "source": [
    "rf_pipe = trainer.train(rf, remove_features=['description'])"
   ]
  },
  {
   "cell_type": "code",
   "execution_count": 16,
   "id": "respected-adelaide",
   "metadata": {},
   "outputs": [],
   "source": [
    "def error_pc(y_true, y_pred):\n",
    "    errors = abs(y_true - y_pred)\n",
    "    pc_errors = errors/y_true\n",
    "    return pc_errors.mean()"
   ]
  },
  {
   "cell_type": "code",
   "execution_count": 17,
   "id": "forced-nicaragua",
   "metadata": {},
   "outputs": [],
   "source": [
    "trainer = Trainer()"
   ]
  },
  {
   "cell_type": "code",
   "execution_count": 101,
   "id": "directed-texas",
   "metadata": {},
   "outputs": [
    {
     "name": "stdout",
     "output_type": "stream",
     "text": [
      "2115\n",
      "Training without ['description', 'grossProfit']\n",
      "Cross Validated RMSE = 866.4481610530108\n"
     ]
    }
   ],
   "source": [
    "pipe, X_test, y_test = trainer.train(rf, remove_features=['description', 'grossProfit'])"
   ]
  },
  {
   "cell_type": "code",
   "execution_count": 102,
   "id": "italian-burning",
   "metadata": {},
   "outputs": [],
   "source": [
    "y_pred = pipe.predict(X_test)"
   ]
  },
  {
   "cell_type": "code",
   "execution_count": 103,
   "id": "affected-beverage",
   "metadata": {},
   "outputs": [],
   "source": [
    "error_perc = error_pc(y_test, y_pred)"
   ]
  },
  {
   "cell_type": "code",
   "execution_count": 104,
   "id": "indoor-conditions",
   "metadata": {},
   "outputs": [
    {
     "data": {
      "text/plain": [
       "0.3534437344716421"
      ]
     },
     "execution_count": 104,
     "metadata": {},
     "output_type": "execute_result"
    }
   ],
   "source": [
    "error_perc"
   ]
  },
  {
   "cell_type": "code",
   "execution_count": 105,
   "id": "referenced-swimming",
   "metadata": {},
   "outputs": [],
   "source": [
    "errors = (y_test - y_pred)/y_test"
   ]
  },
  {
   "cell_type": "code",
   "execution_count": 106,
   "id": "loving-receipt",
   "metadata": {
    "scrolled": true
   },
   "outputs": [
    {
     "data": {
      "text/plain": [
       "Text(0, 0.5, 'errors')"
      ]
     },
     "execution_count": 106,
     "metadata": {},
     "output_type": "execute_result"
    },
    {
     "data": {
      "image/png": "[encoded data removed]",
      "text/plain": [
       "<Figure size 1080x576 with 1 Axes>"
      ]
     },
     "metadata": {
      "needs_background": "light"
     },
     "output_type": "display_data"
    }
   ],
   "source": [
    "fig = plt.figure(figsize=(15,8))\n",
    "sns.scatterplot(x=y_test, y=errors, hue=X_test['sector'], palette='dark')\n",
    "plt.ylabel('errors')"
   ]
  },
  {
   "cell_type": "code",
   "execution_count": null,
   "id": "rocky-transformation",
   "metadata": {},
   "outputs": [],
   "source": []
  }
 ],
 "metadata": {
  "kernelspec": {
   "display_name": "Python 3",
   "language": "python",
   "name": "python3"
  },
  "language_info": {
   "codemirror_mode": {
    "name": "ipython",
    "version": 3
   },
   "file_extension": ".py",
   "mimetype": "text/x-python",
   "name": "python",
   "nbconvert_exporter": "python",
   "pygments_lexer": "ipython3",
   "version": "3.8.6"
  },
  "toc": {
   "base_numbering": 1,
   "nav_menu": {},
   "number_sections": true,
   "sideBar": true,
   "skip_h1_title": false,
   "title_cell": "Table of Contents",
   "title_sidebar": "Contents",
   "toc_cell": false,
   "toc_position": {},
   "toc_section_display": true,
   "toc_window_display": false
  }
 },
 "nbformat": 4,
 "nbformat_minor": 5
}
