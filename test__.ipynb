{
 "cells": [
  {
   "cell_type": "code",
   "execution_count": 1,
   "id": "deadly-postcard",
   "metadata": {},
   "outputs": [],
   "source": [
    "import numpy as np\n",
    "import pandas as pd\n",
    "import matplotlib\n",
    "import requests"
   ]
  },
  {
   "cell_type": "code",
   "execution_count": 2,
   "id": "modified-yemen",
   "metadata": {},
   "outputs": [],
   "source": [
    "stocks = ['aapl','amzn','fb']\n",
    "ebitda=[]\n",
    "gross_profit=[]\n",
    "revenue=[]\n",
    "enterprise_value=[]\n",
    "debt=[]\n",
    "for stock in stocks:\n",
    "    url = f'http://iex.lewagon.com/stable/stock/{stock}/financials?period=quarter'\n",
    "    response = requests.get(url).json()\n",
    "    ebitda.append(response['financials'][0]['EBITDA']/1000000)\n",
    "    gross_profit.append(response['financials'][0]['grossProfit']/1000000)\n",
    "    revenue.append(response['financials'][0]['revenue']/1000000)\n",
    "    debt.append(response['financials'][0]['totalDebt']/1000000)"
   ]
  },
  {
   "cell_type": "code",
   "execution_count": 3,
   "id": "surprising-traffic",
   "metadata": {},
   "outputs": [],
   "source": [
    "market_cap=[]\n",
    "for stock in stocks:\n",
    "    url = f'http://iex.lewagon.com/stable/stock/{stock}/stats/'\n",
    "    response = requests.get(url).json()\n",
    "    market_cap.append(response['marketcap']/1000000)"
   ]
  },
  {
   "cell_type": "code",
   "execution_count": 4,
   "id": "piano-wholesale",
   "metadata": {},
   "outputs": [
    {
     "data": {
      "text/html": [
       "<div>\n",
       "<style scoped>\n",
       "    .dataframe tbody tr th:only-of-type {\n",
       "        vertical-align: middle;\n",
       "    }\n",
       "\n",
       "    .dataframe tbody tr th {\n",
       "        vertical-align: top;\n",
       "    }\n",
       "\n",
       "    .dataframe thead th {\n",
       "        text-align: right;\n",
       "    }\n",
       "</style>\n",
       "<table border=\"1\" class=\"dataframe\">\n",
       "  <thead>\n",
       "    <tr style=\"text-align: right;\">\n",
       "      <th></th>\n",
       "      <th>Revenue</th>\n",
       "      <th>Gross Profit</th>\n",
       "      <th>EBITDA</th>\n",
       "      <th>EBITDA margin</th>\n",
       "      <th>Total debt</th>\n",
       "      <th>Market Cap</th>\n",
       "    </tr>\n",
       "  </thead>\n",
       "  <tbody>\n",
       "    <tr>\n",
       "      <th>aapl</th>\n",
       "      <td>111439.0</td>\n",
       "      <td>44328.0</td>\n",
       "      <td>36200.0</td>\n",
       "      <td>0.324841</td>\n",
       "      <td>112043.0</td>\n",
       "      <td>2.145351e+06</td>\n",
       "    </tr>\n",
       "    <tr>\n",
       "      <th>amzn</th>\n",
       "      <td>125555.0</td>\n",
       "      <td>46271.0</td>\n",
       "      <td>25549.0</td>\n",
       "      <td>0.203489</td>\n",
       "      <td>31816.0</td>\n",
       "      <td>1.584285e+06</td>\n",
       "    </tr>\n",
       "    <tr>\n",
       "      <th>fb</th>\n",
       "      <td>28071.0</td>\n",
       "      <td>22861.0</td>\n",
       "      <td>14638.0</td>\n",
       "      <td>0.521463</td>\n",
       "      <td>0.0</td>\n",
       "      <td>7.560532e+05</td>\n",
       "    </tr>\n",
       "  </tbody>\n",
       "</table>\n",
       "</div>"
      ],
      "text/plain": [
       "       Revenue  Gross Profit   EBITDA  EBITDA margin  Total debt    Market Cap\n",
       "aapl  111439.0       44328.0  36200.0       0.324841    112043.0  2.145351e+06\n",
       "amzn  125555.0       46271.0  25549.0       0.203489     31816.0  1.584285e+06\n",
       "fb     28071.0       22861.0  14638.0       0.521463         0.0  7.560532e+05"
      ]
     },
     "execution_count": 4,
     "metadata": {},
     "output_type": "execute_result"
    }
   ],
   "source": [
    "df=pd.DataFrame(index=stocks)\n",
    "df['Revenue'] = revenue\n",
    "df['Gross Profit'] = gross_profit\n",
    "df['EBITDA'] = ebitda\n",
    "df['EBITDA margin'] = df['EBITDA']/df['Revenue']\n",
    "df['Total debt'] = debt\n",
    "df['Market Cap']= market_cap\n",
    "df"
   ]
  },
  {
   "cell_type": "code",
   "execution_count": null,
   "id": "hired-advantage",
   "metadata": {},
   "outputs": [],
   "source": []
  }
 ],
 "metadata": {
  "kernelspec": {
   "display_name": "Python 3",
   "language": "python",
   "name": "python3"
  },
  "language_info": {
   "codemirror_mode": {
    "name": "ipython",
    "version": 3
   },
   "file_extension": ".py",
   "mimetype": "text/x-python",
   "name": "python",
   "nbconvert_exporter": "python",
   "pygments_lexer": "ipython3",
   "version": "3.8.6"
  }
 },
 "nbformat": 4,
 "nbformat_minor": 5
}
