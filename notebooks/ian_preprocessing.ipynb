{
 "cells": [
  {
   "cell_type": "code",
   "execution_count": 2,
   "metadata": {},
   "outputs": [],
   "source": [
    "%load_ext autoreload\n",
    "%autoreload 2"
   ]
  },
  {
   "cell_type": "code",
   "execution_count": 3,
   "metadata": {},
   "outputs": [],
   "source": [
    "import pandas as pd\n",
    "import numpy as np\n",
    "import matplotlib.pyplot as plt\n",
    "import seaborn as sns"
   ]
  },
  {
   "cell_type": "code",
   "execution_count": 4,
   "metadata": {},
   "outputs": [],
   "source": [
    "from Company_Valuation.data import get_data"
   ]
  },
  {
   "cell_type": "markdown",
   "metadata": {},
   "source": [
    "## Return On Capital Employed"
   ]
  },
  {
   "cell_type": "code",
   "execution_count": 5,
   "metadata": {},
   "outputs": [],
   "source": [
    "df = get_data()"
   ]
  },
  {
   "cell_type": "code",
   "execution_count": 14,
   "metadata": {},
   "outputs": [
    {
     "data": {
      "text/plain": [
       "(array([901.,  69.,  68.,  81., 100.,  96., 100.,  85., 111., 106., 114.,\n",
       "        110.,  90.,  91.,  91.,  94., 104., 103., 103.,  96.,  67., 108.,\n",
       "         83.,  59.,  75.,  82.,  66.,  52.,  52.,  57.,  39.,  58.,  57.,\n",
       "         44.,  42.,  43.,  40.,  50.,  31.,  40.,  44.,  21.,  33.,  36.,\n",
       "         40.,  24.,  22.,  36.,  27.,  20.]),\n",
       " array([0.   , 0.004, 0.008, 0.012, 0.016, 0.02 , 0.024, 0.028, 0.032,\n",
       "        0.036, 0.04 , 0.044, 0.048, 0.052, 0.056, 0.06 , 0.064, 0.068,\n",
       "        0.072, 0.076, 0.08 , 0.084, 0.088, 0.092, 0.096, 0.1  , 0.104,\n",
       "        0.108, 0.112, 0.116, 0.12 , 0.124, 0.128, 0.132, 0.136, 0.14 ,\n",
       "        0.144, 0.148, 0.152, 0.156, 0.16 , 0.164, 0.168, 0.172, 0.176,\n",
       "        0.18 , 0.184, 0.188, 0.192, 0.196, 0.2  ]),\n",
       " <BarContainer object of 50 artists>)"
      ]
     },
     "execution_count": 14,
     "metadata": {},
     "output_type": "execute_result"
    },
    {
     "data": {
      "image/png": "[encoded data removed]",
      "text/plain": [
       "<Figure size 432x288 with 1 Axes>"
      ]
     },
     "metadata": {
      "needs_background": "light"
     },
     "output_type": "display_data"
    }
   ],
   "source": [
    "# fig, (ax1, ax2, ax3) = plt.subplots(3, figsize=(20,7))\n",
    "# fig.suptitle('Return On Capital Employed')\n",
    "# ax1.boxplot(df['returnOnCapitalEmployed'], vert=False, patch_artist=True, boxprops=dict(facecolor='green', color='green'), flierprops=dict(color='orange', markeredgecolor='orange'), whiskerprops= dict(color='c'))\n",
    "\n",
    "# ax2.boxplot(df['returnOnCapitalEmployed'], vert=False, patch_artist=True, boxprops=dict(facecolor='green', color='green'), flierprops=dict(color='orange', markeredgecolor='orange'))\n",
    "# ax2.set_xlim(0,2)\n",
    "\n",
    "# ax3.boxplot(df['returnOnCapitalEmployed'], vert=False, patch_artist=True, boxprops=dict(facecolor='green', color='green'), flierprops=dict(color='orange', markeredgecolor='orange'), whiskerprops= dict(color='green'))\n",
    "# ax3.set_xlim(0,0.4)\n",
    "# plt.show()\n",
    "\n",
    "plt.hist(df['returnOnCapitalEmployed'],bins=50,range=[0,0.2])\n",
    "\n"
   ]
  },
  {
   "cell_type": "code",
   "execution_count": 43,
   "metadata": {},
   "outputs": [
    {
     "name": "stdout",
     "output_type": "stream",
     "text": [
      "1587 companies greater than 10%\n",
      "1123 companies between 5% and 10%\n",
      "981 companies between 1% and 5%\n",
      "1001 companies smaler than 1%\n"
     ]
    }
   ],
   "source": [
    "a_04 = df[(df['returnOnCapitalEmployed'] >= 0.1)]\n",
    "a_05 = df[(df['returnOnCapitalEmployed'] < 0.1) & (df['returnOnCapitalEmployed'] >= 0.05)]\n",
    "a_06 = df[(df['returnOnCapitalEmployed'] < 0.05) & (df['returnOnCapitalEmployed'] >= 0.01)]\n",
    "a_07 = df[(df['returnOnCapitalEmployed'] < 0.01)]\n",
    "\n",
    "print(f'{len(a_04)} companies greater than 10%')\n",
    "print(f'{len(a_05)} companies between 5% and 10%')\n",
    "print(f'{len(a_06)} companies between 1% and 5%')\n",
    "print(f'{len(a_07)} companies smaler than 1%')"
   ]
  },
  {
   "cell_type": "code",
   "execution_count": 44,
   "metadata": {},
   "outputs": [],
   "source": [
    "def transfer_roce(value):\n",
    "    if value >= 0.1:\n",
    "        return 4\n",
    "    if 0.05 <= value < 0.1:\n",
    "        return 3\n",
    "    if 0.01 <= value < 0.05:\n",
    "        return 2  \n",
    "    else:\n",
    "        return 1"
   ]
  },
  {
   "cell_type": "markdown",
   "metadata": {},
   "source": [
    "## Growth Rate"
   ]
  },
  {
   "cell_type": "code",
   "execution_count": 23,
   "metadata": {},
   "outputs": [
    {
     "data": {
      "text/plain": [
       "(array([ 37.,  30.,  31.,  33.,  37.,  49.,  60.,  59.,  70.,  87., 105.,\n",
       "        110., 141., 140., 176., 217., 173., 176., 160., 203., 180., 157.,\n",
       "        152., 143., 136., 133., 114.,  93., 109.,  75.,  82.,  62.,  58.,\n",
       "         51.,  72.,  47.,  45.,  40.,  33.,  40.,  24.,  28.,  19.,  20.,\n",
       "         29.,  27.,  27.,  11.,  10.,  16.]),\n",
       " array([-0.1  , -0.092, -0.084, -0.076, -0.068, -0.06 , -0.052, -0.044,\n",
       "        -0.036, -0.028, -0.02 , -0.012, -0.004,  0.004,  0.012,  0.02 ,\n",
       "         0.028,  0.036,  0.044,  0.052,  0.06 ,  0.068,  0.076,  0.084,\n",
       "         0.092,  0.1  ,  0.108,  0.116,  0.124,  0.132,  0.14 ,  0.148,\n",
       "         0.156,  0.164,  0.172,  0.18 ,  0.188,  0.196,  0.204,  0.212,\n",
       "         0.22 ,  0.228,  0.236,  0.244,  0.252,  0.26 ,  0.268,  0.276,\n",
       "         0.284,  0.292,  0.3  ]),\n",
       " <BarContainer object of 50 artists>)"
      ]
     },
     "execution_count": 23,
     "metadata": {},
     "output_type": "execute_result"
    },
    {
     "data": {
      "image/png": "[encoded data removed]",
      "text/plain": [
       "<Figure size 432x288 with 1 Axes>"
      ]
     },
     "metadata": {
      "needs_background": "light"
     },
     "output_type": "display_data"
    }
   ],
   "source": [
    "# fig, (ax1, ax2) = plt.subplots(2, figsize=(20,7))\n",
    "# fig.suptitle('Growth Rate')\n",
    "# ax1.boxplot(df['growth_rate'], vert=False, patch_artist=True, flierprops=dict(color='orange', markeredgecolor='orange'),  whiskerprops= dict(color='blue'))\n",
    "# ax2.boxplot(df['growth_rate'], vert=False, patch_artist=True, boxprops=dict(facecolor='r', color='r'), flierprops=dict(color='c', markeredgecolor='c'),  whiskerprops= dict(color='red'))\n",
    "# plt.show()\n",
    "\n",
    "plt.hist(df['growth_rate'],bins=50,range=[-0.1,0.3])\n",
    "\n"
   ]
  },
  {
   "cell_type": "code",
   "execution_count": 33,
   "metadata": {},
   "outputs": [
    {
     "name": "stdout",
     "output_type": "stream",
     "text": [
      "1561 companies greater than 10%\n",
      "1014 companies between 5% and 10%\n",
      "1069 companies between 0% and 5%\n",
      "1048 companies smaller than 0%\n"
     ]
    }
   ],
   "source": [
    "\n",
    "a_03 = df[(df['growth_rate'] >= 0.1)]\n",
    "a_04 = df[(df['growth_rate'] < 0.1) & (df['growth_rate'] >= 0.05)]\n",
    "a_05 = df[(df['growth_rate'] < 0.05) & (df['growth_rate'] >= 0)]\n",
    "a_06 = df[(df['growth_rate'] < 0)]\n",
    "\n",
    "print(f'{len(a_03)} companies greater than 10%')\n",
    "print(f'{len(a_04)} companies between 5% and 10%')\n",
    "print(f'{len(a_05)} companies between 0% and 5%')\n",
    "print(f'{len(a_06)} companies smaller than 0%')"
   ]
  },
  {
   "cell_type": "code",
   "execution_count": 45,
   "metadata": {},
   "outputs": [],
   "source": [
    "def transfer_growth_rate(value):\n",
    "    if value >= 0.1:\n",
    "        return 4\n",
    "    if 0.05 <= value < 0.1:\n",
    "        return 3\n",
    "    if 0 <= value < 0.05:\n",
    "        return 2   \n",
    "    else:\n",
    "        return 1"
   ]
  },
  {
   "cell_type": "markdown",
   "metadata": {},
   "source": [
    "## EBITDA Margin"
   ]
  },
  {
   "cell_type": "code",
   "execution_count": 53,
   "metadata": {
    "scrolled": true
   },
   "outputs": [
    {
     "data": {
      "text/plain": [
       "(array([ 21., 113., 147., 174., 218., 230., 224., 231., 228., 207., 210.,\n",
       "        227., 192., 182., 150., 158., 155., 114., 122., 101.,  90.,  91.,\n",
       "         80.,  78.,  59.,  57.,  43.,  52.,  46.,  49.,  45.,  49.,  51.,\n",
       "         47.,  34.,  27.,  23.,  18.,  30.,  16.,  19.,  16.,  18.,  11.,\n",
       "         12.,  12.,  16.,  10.,   8.,  10.]),\n",
       " array([0.   , 0.012, 0.024, 0.036, 0.048, 0.06 , 0.072, 0.084, 0.096,\n",
       "        0.108, 0.12 , 0.132, 0.144, 0.156, 0.168, 0.18 , 0.192, 0.204,\n",
       "        0.216, 0.228, 0.24 , 0.252, 0.264, 0.276, 0.288, 0.3  , 0.312,\n",
       "        0.324, 0.336, 0.348, 0.36 , 0.372, 0.384, 0.396, 0.408, 0.42 ,\n",
       "        0.432, 0.444, 0.456, 0.468, 0.48 , 0.492, 0.504, 0.516, 0.528,\n",
       "        0.54 , 0.552, 0.564, 0.576, 0.588, 0.6  ]),\n",
       " <BarContainer object of 50 artists>)"
      ]
     },
     "execution_count": 53,
     "metadata": {},
     "output_type": "execute_result"
    },
    {
     "data": {
      "image/png": "[encoded data removed]",
      "text/plain": [
       "<Figure size 432x288 with 1 Axes>"
      ]
     },
     "metadata": {
      "needs_background": "light"
     },
     "output_type": "display_data"
    }
   ],
   "source": [
    "# fig = plt.figure(figsize=(18,5))\n",
    "# fig.suptitle('EBITDA margin')\n",
    "# plt.boxplot(df['ebitda_margin'], vert=False, patch_artist=True, boxprops=dict(facecolor='green', color='green'), flierprops=dict(color='c', markeredgecolor='c'),  whiskerprops= dict(color='green'))\n",
    "# plt.show()\n",
    "\n",
    "plt.hist(df['ebitda_margin'],bins=50,range=[0,0.6])"
   ]
  },
  {
   "cell_type": "code",
   "execution_count": 70,
   "metadata": {},
   "outputs": [
    {
     "name": "stdout",
     "output_type": "stream",
     "text": [
      "890 companies greater than 30%\n",
      "791 companies between 20% and 30%\n",
      "1037 companies between 13% and 20%\n",
      "1102 companies between 7% and 13%\n",
      "872 companies smaller than 7%\n"
     ]
    }
   ],
   "source": [
    "a_02 = df[(df['ebitda_margin'] >= 0.3)]\n",
    "a_03 = df[(df['ebitda_margin'] < 0.3) & (df['ebitda_margin'] >= 0.2)]\n",
    "a_04 = df[(df['ebitda_margin'] < 0.2) & (df['ebitda_margin'] >= 0.13)]\n",
    "a_05 = df[(df['ebitda_margin'] < 0.13) & (df['ebitda_margin'] >= 0.07)]\n",
    "a_06 = df[(df['ebitda_margin'] < 0.07)]\n",
    "print(f'{len(a_02)} companies greater than 30%')\n",
    "print(f'{len(a_03)} companies between 20% and 30%')\n",
    "print(f'{len(a_04)} companies between 13% and 20%')\n",
    "print(f'{len(a_05)} companies between 7% and 13%')\n",
    "print(f'{len(a_06)} companies smaller than 7%')"
   ]
  },
  {
   "cell_type": "code",
   "execution_count": 71,
   "metadata": {},
   "outputs": [],
   "source": [
    "def transfer_ebitda_margin(value):\n",
    "    if value >= 0.3:\n",
    "        return 5\n",
    "    if 0.2 <= value < 0.3:\n",
    "        return 4\n",
    "    if 0.13 <= value < 0.2:\n",
    "        return 3\n",
    "    if 0.07 <= value < 0.13:\n",
    "        return 2\n",
    "    else:\n",
    "        return 1"
   ]
  },
  {
   "cell_type": "markdown",
   "metadata": {},
   "source": [
    "## Revenue"
   ]
  },
  {
   "cell_type": "code",
   "execution_count": 97,
   "metadata": {},
   "outputs": [
    {
     "name": "stdout",
     "output_type": "stream",
     "text": [
      "1369 companies greater than 2.5bn\n",
      "1174 companies between 550m and 2.5bn\n",
      "1010 companies between 150m and 550m\n",
      "1139 companies smaller than 150m\n"
     ]
    }
   ],
   "source": [
    "a_02 = df[(df['revenue'] >= 2500)]\n",
    "a_04 = df[(df['revenue'] < 2500) & (df['revenue'] >= 550)]\n",
    "a_05 = df[(df['revenue'] < 550) & (df['revenue'] >= 150)]\n",
    "a_06 = df[(df['revenue'] < 150)]\n",
    "print(f'{len(a_02)} companies greater than 2.5bn')\n",
    "print(f'{len(a_04)} companies between 550m and 2.5bn')\n",
    "print(f'{len(a_05)} companies between 150m and 550m')\n",
    "print(f'{len(a_06)} companies smaller than 150m')"
   ]
  },
  {
   "cell_type": "code",
   "execution_count": 79,
   "metadata": {},
   "outputs": [
    {
     "data": {
      "text/plain": [
       "(array([401., 345., 248., 190., 157., 124., 132., 132.,  81.,  68.,  91.,\n",
       "         79.,  59.,  54.,  61.,  42.,  39.,  47.,  41.,  34.,  55.,  33.,\n",
       "         37.,  35.,  47.,  32.,  27.,  25.,  19.,  35.,  28.,  34.,  28.,\n",
       "         23.,  24.,  23.,  21.,  28.,  21.,  17.,  15.,  19.,  14.,  16.,\n",
       "         18.,  22.,  11.,  16.,  17.,   9.]),\n",
       " array([   0.,   40.,   80.,  120.,  160.,  200.,  240.,  280.,  320.,\n",
       "         360.,  400.,  440.,  480.,  520.,  560.,  600.,  640.,  680.,\n",
       "         720.,  760.,  800.,  840.,  880.,  920.,  960., 1000., 1040.,\n",
       "        1080., 1120., 1160., 1200., 1240., 1280., 1320., 1360., 1400.,\n",
       "        1440., 1480., 1520., 1560., 1600., 1640., 1680., 1720., 1760.,\n",
       "        1800., 1840., 1880., 1920., 1960., 2000.]),\n",
       " <BarContainer object of 50 artists>)"
      ]
     },
     "execution_count": 79,
     "metadata": {},
     "output_type": "execute_result"
    },
    {
     "data": {
      "image/png": "[encoded data removed]",
      "text/plain": [
       "<Figure size 432x288 with 1 Axes>"
      ]
     },
     "metadata": {
      "needs_background": "light"
     },
     "output_type": "display_data"
    }
   ],
   "source": [
    "plt.hist(df['revenue'],bins=50,range=[0,2000])"
   ]
  },
  {
   "cell_type": "code",
   "execution_count": 98,
   "metadata": {},
   "outputs": [],
   "source": [
    "def get_revenue_size(value):\n",
    "    if value <= 150:\n",
    "        return 1\n",
    "    if 150 < value <= 550:\n",
    "        return 2\n",
    "    if 550 < value <= 2500:\n",
    "        return 3\n",
    "    else:\n",
    "        return 4"
   ]
  },
  {
   "cell_type": "code",
   "execution_count": null,
   "metadata": {},
   "outputs": [],
   "source": []
  }
 ],
 "metadata": {
  "kernelspec": {
   "display_name": "Python 3",
   "language": "python",
   "name": "python3"
  },
  "language_info": {
   "codemirror_mode": {
    "name": "ipython",
    "version": 3
   },
   "file_extension": ".py",
   "mimetype": "text/x-python",
   "name": "python",
   "nbconvert_exporter": "python",
   "pygments_lexer": "ipython3",
   "version": "3.8.6"
  },
  "toc": {
   "base_numbering": 1,
   "nav_menu": {},
   "number_sections": true,
   "sideBar": true,
   "skip_h1_title": false,
   "title_cell": "Table of Contents",
   "title_sidebar": "Contents",
   "toc_cell": false,
   "toc_position": {},
   "toc_section_display": true,
   "toc_window_display": false
  },
  "varInspector": {
   "cols": {
    "lenName": 16,
    "lenType": 16,
    "lenVar": 40
   },
   "kernels_config": {
    "python": {
     "delete_cmd_postfix": "",
     "delete_cmd_prefix": "del ",
     "library": "var_list.py",
     "varRefreshCmd": "print(var_dic_list())"
    },
    "r": {
     "delete_cmd_postfix": ") ",
     "delete_cmd_prefix": "rm(",
     "library": "var_list.r",
     "varRefreshCmd": "cat(var_dic_list()) "
    }
   },
   "types_to_exclude": [
    "module",
    "function",
    "builtin_function_or_method",
    "instance",
    "_Feature"
   ],
   "window_display": false
  }
 },
 "nbformat": 4,
 "nbformat_minor": 4
}
