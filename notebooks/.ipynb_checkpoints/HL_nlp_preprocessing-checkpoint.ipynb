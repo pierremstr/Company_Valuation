{
 "cells": [
  {
   "cell_type": "code",
   "execution_count": 169,
   "id": "subtle-ukraine",
   "metadata": {},
   "outputs": [],
   "source": [
    "import pandas as pd\n",
    "import numpy as np\n",
    "# Exchange rates\n",
    "from forex_python.converter import CurrencyRates\n",
    "# NLP\n",
    "from nltk.corpus import stopwords\n",
    "from nltk.tokenize import word_tokenize\n",
    "from nltk.stem import WordNetLemmatizer\n",
    "import string\n",
    "from sklearn.feature_extraction.text import CountVectorizer\n",
    "from sklearn.feature_extraction.text import TfidfVectorizer\n",
    "# Suppress warning\n",
    "pd.options.mode.chained_assignment = None\n",
    "# Visualisations\n",
    "import matplotlib.pyplot as plt"
   ]
  },
  {
   "cell_type": "markdown",
   "id": "express-frank",
   "metadata": {},
   "source": [
    "# Load Data"
   ]
  },
  {
   "cell_type": "code",
   "execution_count": 63,
   "id": "coated-translator",
   "metadata": {
    "scrolled": true
   },
   "outputs": [
    {
     "name": "stderr",
     "output_type": "stream",
     "text": [
      "/home/harry/.pyenv/versions/3.8.6/envs/lewagon/lib/python3.8/site-packages/IPython/core/interactiveshell.py:3146: DtypeWarning: Columns (22) have mixed types.Specify dtype option on import or set low_memory=False.\n",
      "  has_raised = await self.run_ast_nodes(code_ast.body, cell_name,\n"
     ]
    }
   ],
   "source": [
    "ev = pd.read_csv('../raw_data/enterprise_value_tidy.csv', index_col='Unnamed: 0')\n",
    "df = pd.read_csv('../raw_data/company_info_fmp.csv', index_col='Unnamed: 0')\n",
    "roic = pd.read_csv('../raw_data/ROIC.csv', index_col='Unnamed: 0')\n",
    "financials = pd.read_csv('../raw_data/company_IS.csv', index_col='Unnamed: 0')"
   ]
  },
  {
   "cell_type": "markdown",
   "id": "indie-bachelor",
   "metadata": {},
   "source": [
    "# Tidy "
   ]
  },
  {
   "cell_type": "code",
   "execution_count": 64,
   "id": "cubic-australia",
   "metadata": {
    "scrolled": false
   },
   "outputs": [],
   "source": [
    "financials = roic.merge(financials, on=['symbol', 'date'],how='inner')"
   ]
  },
  {
   "cell_type": "markdown",
   "id": "friendly-lindsay",
   "metadata": {},
   "source": [
    "## Feature Engineering"
   ]
  },
  {
   "cell_type": "markdown",
   "id": "twelve-reduction",
   "metadata": {},
   "source": [
    "### Growth Rate"
   ]
  },
  {
   "cell_type": "code",
   "execution_count": 65,
   "id": "criminal-business",
   "metadata": {},
   "outputs": [],
   "source": [
    "# Remove companies with fewer than 5 entries\n",
    "symbol_counts = financials['symbol'].value_counts()\n",
    "financials = financials[financials['symbol'].isin(symbol_counts[symbol_counts > 4].index)]"
   ]
  },
  {
   "cell_type": "code",
   "execution_count": 66,
   "id": "hungry-graduation",
   "metadata": {},
   "outputs": [],
   "source": [
    "# Calculate growth rate\n",
    "financials['old_revenue'] = financials['revenue'].shift(-4)\n",
    "\n",
    "financials['growth_rate'] = (financials['revenue'] / financials['old_revenue'])**0.25 - 1"
   ]
  },
  {
   "cell_type": "code",
   "execution_count": 67,
   "id": "korean-testimony",
   "metadata": {},
   "outputs": [],
   "source": [
    "# Select 2019 entry\n",
    "financials['date'] = pd.to_datetime(financials['date'])\n",
    "\n",
    "financials = financials[financials['date'] < '2020-01-01']\n",
    "\n",
    "financials = financials[financials['date'] >= '2019-01-01']"
   ]
  },
  {
   "cell_type": "markdown",
   "id": "straight-soldier",
   "metadata": {},
   "source": [
    "### Ebitda Margin"
   ]
  },
  {
   "cell_type": "code",
   "execution_count": 68,
   "id": "willing-count",
   "metadata": {},
   "outputs": [],
   "source": [
    "# Calculate ebitda margin\n",
    "financials['ebitda_margin'] = financials['ebitda'] / financials['revenue']"
   ]
  },
  {
   "cell_type": "code",
   "execution_count": 69,
   "id": "dedicated-startup",
   "metadata": {},
   "outputs": [],
   "source": [
    "financials.drop(columns='old_revenue', inplace=True)"
   ]
  },
  {
   "cell_type": "markdown",
   "id": "cordless-endorsement",
   "metadata": {},
   "source": [
    "## Filter Continuous Variables"
   ]
  },
  {
   "cell_type": "markdown",
   "id": "amino-hammer",
   "metadata": {},
   "source": [
    "### Company Size"
   ]
  },
  {
   "cell_type": "code",
   "execution_count": 70,
   "id": "incorporated-synthesis",
   "metadata": {},
   "outputs": [
    {
     "name": "stdout",
     "output_type": "stream",
     "text": [
      "10066 rows remaining\n"
     ]
    }
   ],
   "source": [
    "# Remove small companies\n",
    "financials = financials[financials['revenue'] > 10_000_000]\n",
    "print(f'{len(financials)} rows remaining')"
   ]
  },
  {
   "cell_type": "markdown",
   "id": "complex-sarah",
   "metadata": {},
   "source": [
    "### Absurd Values"
   ]
  },
  {
   "cell_type": "code",
   "execution_count": 71,
   "id": "grand-portland",
   "metadata": {},
   "outputs": [
    {
     "name": "stdout",
     "output_type": "stream",
     "text": [
      "9777 rows remaining\n"
     ]
    }
   ],
   "source": [
    "# Remove companies with absurd growth\n",
    "financials = financials[financials['growth_rate'] < 2]\n",
    "print(f'{len(financials)} rows remaining')"
   ]
  },
  {
   "cell_type": "code",
   "execution_count": 72,
   "id": "cordless-percentage",
   "metadata": {
    "scrolled": true
   },
   "outputs": [
    {
     "name": "stdout",
     "output_type": "stream",
     "text": [
      "7355 rows remaining\n"
     ]
    }
   ],
   "source": [
    "# Remove companies with negative ebitda margin\n",
    "financials = financials[financials['ebitda_margin'] >= 0.01]\n",
    "print(f'{len(financials)} rows remaining')"
   ]
  },
  {
   "cell_type": "code",
   "execution_count": 73,
   "id": "dedicated-taste",
   "metadata": {},
   "outputs": [
    {
     "name": "stdout",
     "output_type": "stream",
     "text": [
      "7193 rows remaining\n"
     ]
    }
   ],
   "source": [
    "# Remove companies with an ebitda margin greater than 1\n",
    "financials = financials[financials['ebitda_margin'] <= 1]\n",
    "print(f'{len(financials)} rows remaining')"
   ]
  },
  {
   "cell_type": "code",
   "execution_count": 74,
   "id": "spanish-antarctica",
   "metadata": {},
   "outputs": [],
   "source": [
    "# Merge tables\n",
    "ev_info = ev.merge(df, on='symbol', how='inner')\n",
    "ev_info = ev_info.merge(financials, on='symbol', how='inner')[['symbol', 'enterpriseValue', 'sector', 'currency',\n",
    "                                                     'country', 'description', 'returnOnCapitalEmployed',\n",
    "                                                     'revenue', 'grossProfit', 'ebitda', 'growth_rate', 'ebitda_margin']]"
   ]
  },
  {
   "cell_type": "code",
   "execution_count": 75,
   "id": "featured-seventh",
   "metadata": {},
   "outputs": [
    {
     "name": "stdout",
     "output_type": "stream",
     "text": [
      "6937 rows remaining\n"
     ]
    }
   ],
   "source": [
    "# Remove too large companies\n",
    "ev_info = ev_info[ev_info['enterpriseValue'] < 200_000_000_000]\n",
    "print(f'{len(ev_info)} rows remaining')"
   ]
  },
  {
   "cell_type": "code",
   "execution_count": 76,
   "id": "lesbian-trauma",
   "metadata": {},
   "outputs": [
    {
     "name": "stdout",
     "output_type": "stream",
     "text": [
      "5849 rows remaining\n"
     ]
    }
   ],
   "source": [
    "# Remove companies with negative values\n",
    "ev_info = ev_info[ev_info['enterpriseValue'] > 0]\n",
    "print(f'{len(ev_info)} rows remaining')"
   ]
  },
  {
   "cell_type": "markdown",
   "id": "maritime-kenya",
   "metadata": {},
   "source": [
    "## Filter Categorical Variables"
   ]
  },
  {
   "cell_type": "markdown",
   "id": "amazing-argument",
   "metadata": {},
   "source": [
    "### Uncommon Values"
   ]
  },
  {
   "cell_type": "code",
   "execution_count": 77,
   "id": "reserved-hartford",
   "metadata": {},
   "outputs": [
    {
     "name": "stdout",
     "output_type": "stream",
     "text": [
      "5680 rows remaining\n"
     ]
    }
   ],
   "source": [
    "# Keep most common countries\n",
    "countries = ev_info['country'].value_counts()\n",
    "ev_info = ev_info[ev_info['country'].isin(countries[countries > 20].index)]\n",
    "print(f'{len(ev_info)} rows remaining')"
   ]
  },
  {
   "cell_type": "code",
   "execution_count": 78,
   "id": "muslim-consortium",
   "metadata": {},
   "outputs": [
    {
     "name": "stdout",
     "output_type": "stream",
     "text": [
      "5667 rows remaining\n"
     ]
    }
   ],
   "source": [
    "# Keep most common currencies\n",
    "currencies = ev_info['currency'].value_counts()\n",
    "ev_info = ev_info[ev_info['currency'].isin(currencies[currencies > 20].index)]\n",
    "print(f'{len(ev_info)} rows remaining')"
   ]
  },
  {
   "cell_type": "markdown",
   "id": "closed-scenario",
   "metadata": {},
   "source": [
    "### Sectors"
   ]
  },
  {
   "cell_type": "code",
   "execution_count": 79,
   "id": "freelance-authorization",
   "metadata": {
    "scrolled": true
   },
   "outputs": [
    {
     "name": "stdout",
     "output_type": "stream",
     "text": [
      "5469 rows remaining\n"
     ]
    }
   ],
   "source": [
    "# Keep most common sectors\n",
    "sectors = ev_info['sector'].value_counts()\n",
    "ev_info = ev_info[ev_info['sector'].isin(sectors[sectors >= 20].index)]\n",
    "print(f'{len(ev_info)} rows remaining')"
   ]
  },
  {
   "cell_type": "code",
   "execution_count": 80,
   "id": "final-craft",
   "metadata": {},
   "outputs": [
    {
     "name": "stdout",
     "output_type": "stream",
     "text": [
      "4784 rows remaining\n"
     ]
    }
   ],
   "source": [
    "# Remove financial/Real Estate companies\n",
    "financial_sectors = ['Financial Services', 'Banking', 'Real Estate']\n",
    "ev_info = ev_info[~ev_info['sector'].isin(financial_sectors)]\n",
    "print(f'{len(ev_info)} rows remaining')"
   ]
  },
  {
   "cell_type": "code",
   "execution_count": 81,
   "id": "disciplinary-sally",
   "metadata": {},
   "outputs": [
    {
     "name": "stdout",
     "output_type": "stream",
     "text": [
      "4695 rows remaining\n"
     ]
    }
   ],
   "source": [
    "# Drop companies with no sector or description\n",
    "ev_info = ev_info.dropna(subset=['sector', 'description']).drop_duplicates()\n",
    "print(f'{len(ev_info)} rows remaining')"
   ]
  },
  {
   "cell_type": "code",
   "execution_count": 82,
   "id": "worse-highlight",
   "metadata": {
    "scrolled": true
   },
   "outputs": [],
   "source": [
    "# Change GBp to GBP\n",
    "ev_info = ev_info.replace({'GBp': 'GBP'})"
   ]
  },
  {
   "cell_type": "code",
   "execution_count": 83,
   "id": "vocal-fitness",
   "metadata": {},
   "outputs": [],
   "source": [
    "sector_map = {'Health Care': 'Healthcare', 'Energy ': 'Energy', 'Building': 'Construction'}\n",
    "ev_info['sector'] = ev_info['sector'].map(sector_map).fillna(ev_info['sector'])"
   ]
  },
  {
   "cell_type": "markdown",
   "id": "seeing-girlfriend",
   "metadata": {},
   "source": [
    "### Missing Values"
   ]
  },
  {
   "cell_type": "code",
   "execution_count": 84,
   "id": "increasing-relationship",
   "metadata": {},
   "outputs": [
    {
     "name": "stdout",
     "output_type": "stream",
     "text": [
      "4693 rows remaining\n"
     ]
    }
   ],
   "source": [
    "ev_info = ev_info.dropna()\n",
    "print(f'{len(ev_info)} rows remaining')"
   ]
  },
  {
   "cell_type": "markdown",
   "id": "opened-harvard",
   "metadata": {},
   "source": [
    "## Conversion"
   ]
  },
  {
   "cell_type": "markdown",
   "id": "scheduled-password",
   "metadata": {},
   "source": [
    "### Units"
   ]
  },
  {
   "cell_type": "code",
   "execution_count": 85,
   "id": "adaptive-stand",
   "metadata": {
    "scrolled": true
   },
   "outputs": [],
   "source": [
    "# Convert to millions\n",
    "ev_info[['enterpriseValue', 'revenue', 'grossProfit', 'ebitda']] = ev_info[['enterpriseValue', 'revenue', 'grossProfit', 'ebitda']].apply(lambda x: x/1_000_000)"
   ]
  },
  {
   "cell_type": "markdown",
   "id": "south-canyon",
   "metadata": {},
   "source": [
    "### Exchange Rates"
   ]
  },
  {
   "cell_type": "code",
   "execution_count": 86,
   "id": "prime-saskatchewan",
   "metadata": {},
   "outputs": [],
   "source": [
    "import datetime\n",
    "def get_rate(foreign_currency, home_currency='USD'):\n",
    "    c = CurrencyRates()\n",
    "    date_obj = datetime.datetime(2019,12,31)\n",
    "    rate = c.get_rate(foreign_currency, home_currency, date_obj=date_obj)\n",
    "    return rate"
   ]
  },
  {
   "cell_type": "code",
   "execution_count": 87,
   "id": "amber-franchise",
   "metadata": {},
   "outputs": [],
   "source": [
    "ev_info['exchange_rate'] = ev_info['currency'].apply(get_rate)"
   ]
  },
  {
   "cell_type": "code",
   "execution_count": 88,
   "id": "african-monkey",
   "metadata": {},
   "outputs": [],
   "source": [
    "columns = ['enterpriseValue', 'revenue', 'grossProfit', 'ebitda']\n",
    "for column in columns:\n",
    "    ev_info[column] =  ev_info[column] * ev_info['exchange_rate']"
   ]
  },
  {
   "cell_type": "code",
   "execution_count": 89,
   "id": "engaged-order",
   "metadata": {},
   "outputs": [],
   "source": [
    "ev_info.drop(columns=['currency', 'exchange_rate'], inplace=True)"
   ]
  },
  {
   "cell_type": "markdown",
   "id": "accomplished-float",
   "metadata": {},
   "source": [
    "# NLP Preprocessing"
   ]
  },
  {
   "cell_type": "markdown",
   "id": "egyptian-computer",
   "metadata": {},
   "source": [
    "## Stop Words"
   ]
  },
  {
   "cell_type": "code",
   "execution_count": null,
   "id": "meaning-perception",
   "metadata": {},
   "outputs": [],
   "source": [
    "# Create a list out of all words\n",
    "words = []\n",
    "\n",
    "for info in ev_info['clean_info'][0:-1]:\n",
    "    for word in info:\n",
    "        words.append(word)"
   ]
  },
  {
   "cell_type": "code",
   "execution_count": 144,
   "id": "healthy-middle",
   "metadata": {},
   "outputs": [],
   "source": [
    "# Count which words are the most common\n",
    "from collections import Counter\n",
    "\n",
    "word_counts = Counter(words)\n",
    "\n",
    "# Print top 200 most common words\n",
    "counter = 0\n",
    "for w in sorted(word_counts, key=word_counts.get, reverse=True):\n",
    "    if counter > 0 and counter < 200:\n",
    "        print(w, word_counts[w])\n",
    "    counter += 1"
   ]
  },
  {
   "cell_type": "code",
   "execution_count": 172,
   "id": "minus-equivalent",
   "metadata": {},
   "outputs": [],
   "source": [
    "stop_words = set(stopwords.words('english'))\n",
    "\n",
    "# Add common and useless words to stop_words\n",
    "stop_words.update(['company', 'provides', 'offers', 'operates', 'well', 'segment', 'also', 'limited',\n",
    "                  'headquartered','founded', 'inc', 'management', 'sells', 'including', 'united',\n",
    "                  'segments', 'states', 'markets', 'various', 'engages', 'addition',\n",
    "                  'based', 'name', 'business', 'customers', 'formerly', 'known', 'corporation',\n",
    "                  'subsidiaries', 'group', 'changed', 'develops','approximately','primarily',\n",
    "                  'related','care','used', 'use', 'include','serves', 'incorporated', 'holdings',\n",
    "                  'together', 'companys','distributes', 'comprising', 'produces', 'support', 'two',\n",
    "                  'companies','sales', 'operations', 'ltd','involved','industry','subsidiary', 'owns',\n",
    "                  'sale', 'three', 'range', 'holding', 'businesses', 'firm', 'product', 'plc',\n",
    "                  'located', 'names'])"
   ]
  },
  {
   "cell_type": "markdown",
   "id": "talented-trigger",
   "metadata": {},
   "source": [
    "## Language Cleaning"
   ]
  },
  {
   "cell_type": "code",
   "execution_count": 161,
   "id": "hungry-secret",
   "metadata": {},
   "outputs": [],
   "source": [
    "def cleaner(info):\n",
    "    # Remove punctuation\n",
    "    for p in string.punctuation:\n",
    "        info = str(info).replace(p, '')   \n",
    "    # Lower case\n",
    "    info = info.lower()\n",
    "    # Remove numbers\n",
    "    info = ''.join(word for word in info if not word.isdigit())\n",
    "    # Add common and useless words to stop_words\n",
    "    stop_words = set(stopwords.words('english'))\n",
    "    stop_words.update(['company', 'provides', 'offers', 'operates', 'well', 'segment', 'also', 'limited',\n",
    "                      'headquartered','founded', 'inc', 'management', 'sells', 'including', 'united',\n",
    "                      'segments', 'states', 'markets', 'various', 'engages', 'addition',\n",
    "                      'based', 'name', 'business', 'customers', 'formerly', 'known', 'corporation',\n",
    "                      'subsidiaries', 'group', 'changed', 'develops','approximately','primarily',\n",
    "                      'related','care','used', 'use', 'include','serves', 'incorporated', 'holdings',\n",
    "                      'together', 'companys','distributes', 'comprising', 'produces', 'support', 'two',\n",
    "                      'companies','sales', 'operations', 'ltd','involved','industry','subsidiary', 'owns',\n",
    "                      'sale', 'three', 'range', 'holding', 'businesses', 'firm', 'product', 'plc',\n",
    "                      'located', 'names'])\n",
    "    # Remove stop words\n",
    "    word_tokens = word_tokenize(info)\n",
    "    info = [w for w in word_tokens if not w in stop_words]\n",
    "    # Lemmatize\n",
    "    lemmatizer = WordNetLemmatizer()\n",
    "    lemmatized = [lemmatizer.lemmatize(word) for word in info]\n",
    "    info = ' '.join(lemmatized)\n",
    "    return info"
   ]
  },
  {
   "cell_type": "markdown",
   "id": "periodic-charity",
   "metadata": {},
   "source": [
    "## Vectorizing"
   ]
  },
  {
   "cell_type": "code",
   "execution_count": 170,
   "id": "meaning-nevada",
   "metadata": {},
   "outputs": [],
   "source": [
    "def vectorize(df, vectorizer='tfidf', context=2, max_df=0.85, min_df=0.05):\n",
    "    df_copy = df.copy()\n",
    "    # Clean language columns\n",
    "    df_copy['clean_info'] = df_copy['description'].apply(clean_info)\n",
    "    # Vectorize\n",
    "    if vectorizer == 'count':\n",
    "        vectorizer = CountVectorizer(ngram_range=(1,context), max_df=max_df, min_df=min_df)\n",
    "    if vectorizer == 'tfidf':\n",
    "        vectorizer = TfidfVectorizer(ngram_range=(1,context), max_df=max_df, min_df=min_df)\n",
    "    X = vectorizer.fit_transform(df_copy['clean_info'])\n",
    "    # Convert back to df\n",
    "    vect_df = pd.DataFrame(X.toarray(), columns=vectorizer.get_feature_names(), index= df_copy.index)\n",
    "    merged_df = df_copy.merge(vect_df, left_index=True, right_index=True, how='left')\n",
    "    merged_df.drop(columns=['description','clean_info'], inplace=True)\n",
    "    return merged_df"
   ]
  },
  {
   "cell_type": "code",
   "execution_count": 171,
   "id": "established-speaker",
   "metadata": {
    "scrolled": true
   },
   "outputs": [
    {
     "data": {
      "text/html": [
       "<div>\n",
       "<style scoped>\n",
       "    .dataframe tbody tr th:only-of-type {\n",
       "        vertical-align: middle;\n",
       "    }\n",
       "\n",
       "    .dataframe tbody tr th {\n",
       "        vertical-align: top;\n",
       "    }\n",
       "\n",
       "    .dataframe thead th {\n",
       "        text-align: right;\n",
       "    }\n",
       "</style>\n",
       "<table border=\"1\" class=\"dataframe\">\n",
       "  <thead>\n",
       "    <tr style=\"text-align: right;\">\n",
       "      <th></th>\n",
       "      <th>symbol</th>\n",
       "      <th>enterpriseValue</th>\n",
       "      <th>sector_x</th>\n",
       "      <th>country_x</th>\n",
       "      <th>returnOnCapitalEmployed</th>\n",
       "      <th>revenue</th>\n",
       "      <th>grossProfit</th>\n",
       "      <th>ebitda</th>\n",
       "      <th>growth_rate</th>\n",
       "      <th>ebitda_margin</th>\n",
       "      <th>...</th>\n",
       "      <th>transmission</th>\n",
       "      <th>transport</th>\n",
       "      <th>transportation</th>\n",
       "      <th>treatment</th>\n",
       "      <th>unit</th>\n",
       "      <th>utility</th>\n",
       "      <th>vehicle</th>\n",
       "      <th>water</th>\n",
       "      <th>wholesale</th>\n",
       "      <th>worldwide</th>\n",
       "    </tr>\n",
       "  </thead>\n",
       "  <tbody>\n",
       "    <tr>\n",
       "      <th>0</th>\n",
       "      <td>0001.HK</td>\n",
       "      <td>21597.256799</td>\n",
       "      <td>Industrials</td>\n",
       "      <td>HK</td>\n",
       "      <td>0.051154</td>\n",
       "      <td>38402.729002</td>\n",
       "      <td>21451.105507</td>\n",
       "      <td>12705.530323</td>\n",
       "      <td>0.157184</td>\n",
       "      <td>0.330850</td>\n",
       "      <td>...</td>\n",
       "      <td>0.000000</td>\n",
       "      <td>0.0</td>\n",
       "      <td>0.075711</td>\n",
       "      <td>0.000000</td>\n",
       "      <td>0.0</td>\n",
       "      <td>0.000000</td>\n",
       "      <td>0.000000</td>\n",
       "      <td>0.310990</td>\n",
       "      <td>0.0</td>\n",
       "      <td>0.065747</td>\n",
       "    </tr>\n",
       "    <tr>\n",
       "      <th>1</th>\n",
       "      <td>0002.HK</td>\n",
       "      <td>5136.485887</td>\n",
       "      <td>Utilities</td>\n",
       "      <td>HK</td>\n",
       "      <td>0.047146</td>\n",
       "      <td>10908.819796</td>\n",
       "      <td>3330.785385</td>\n",
       "      <td>2378.104992</td>\n",
       "      <td>0.023875</td>\n",
       "      <td>0.217998</td>\n",
       "      <td>...</td>\n",
       "      <td>0.249487</td>\n",
       "      <td>0.0</td>\n",
       "      <td>0.000000</td>\n",
       "      <td>0.000000</td>\n",
       "      <td>0.0</td>\n",
       "      <td>0.000000</td>\n",
       "      <td>0.000000</td>\n",
       "      <td>0.000000</td>\n",
       "      <td>0.0</td>\n",
       "      <td>0.000000</td>\n",
       "    </tr>\n",
       "    <tr>\n",
       "      <th>2</th>\n",
       "      <td>0003.HK</td>\n",
       "      <td>4062.479373</td>\n",
       "      <td>Utilities</td>\n",
       "      <td>HK</td>\n",
       "      <td>0.091021</td>\n",
       "      <td>5217.793781</td>\n",
       "      <td>2417.570978</td>\n",
       "      <td>1608.588899</td>\n",
       "      <td>0.082469</td>\n",
       "      <td>0.308289</td>\n",
       "      <td>...</td>\n",
       "      <td>0.000000</td>\n",
       "      <td>0.0</td>\n",
       "      <td>0.000000</td>\n",
       "      <td>0.149108</td>\n",
       "      <td>0.0</td>\n",
       "      <td>0.075648</td>\n",
       "      <td>0.000000</td>\n",
       "      <td>0.133238</td>\n",
       "      <td>0.0</td>\n",
       "      <td>0.000000</td>\n",
       "    </tr>\n",
       "    <tr>\n",
       "      <th>4</th>\n",
       "      <td>0008.HK</td>\n",
       "      <td>6248.674105</td>\n",
       "      <td>Communication Services</td>\n",
       "      <td>HK</td>\n",
       "      <td>0.046134</td>\n",
       "      <td>4818.754518</td>\n",
       "      <td>2390.562528</td>\n",
       "      <td>1516.223337</td>\n",
       "      <td>-0.011602</td>\n",
       "      <td>0.314650</td>\n",
       "      <td>...</td>\n",
       "      <td>0.000000</td>\n",
       "      <td>0.0</td>\n",
       "      <td>0.000000</td>\n",
       "      <td>0.000000</td>\n",
       "      <td>0.0</td>\n",
       "      <td>0.000000</td>\n",
       "      <td>0.000000</td>\n",
       "      <td>0.000000</td>\n",
       "      <td>0.0</td>\n",
       "      <td>0.000000</td>\n",
       "    </tr>\n",
       "    <tr>\n",
       "      <th>9</th>\n",
       "      <td>0019.HK</td>\n",
       "      <td>4510.269980</td>\n",
       "      <td>Industrials</td>\n",
       "      <td>HK</td>\n",
       "      <td>0.036114</td>\n",
       "      <td>11000.132246</td>\n",
       "      <td>4086.713774</td>\n",
       "      <td>2147.961657</td>\n",
       "      <td>0.089073</td>\n",
       "      <td>0.195267</td>\n",
       "      <td>...</td>\n",
       "      <td>0.000000</td>\n",
       "      <td>0.0</td>\n",
       "      <td>0.000000</td>\n",
       "      <td>0.000000</td>\n",
       "      <td>0.0</td>\n",
       "      <td>0.000000</td>\n",
       "      <td>0.097778</td>\n",
       "      <td>0.000000</td>\n",
       "      <td>0.0</td>\n",
       "      <td>0.000000</td>\n",
       "    </tr>\n",
       "  </tbody>\n",
       "</table>\n",
       "<p>5 rows × 199 columns</p>\n",
       "</div>"
      ],
      "text/plain": [
       "    symbol  enterpriseValue                sector_x country_x  \\\n",
       "0  0001.HK     21597.256799             Industrials        HK   \n",
       "1  0002.HK      5136.485887               Utilities        HK   \n",
       "2  0003.HK      4062.479373               Utilities        HK   \n",
       "4  0008.HK      6248.674105  Communication Services        HK   \n",
       "9  0019.HK      4510.269980             Industrials        HK   \n",
       "\n",
       "   returnOnCapitalEmployed       revenue   grossProfit        ebitda  \\\n",
       "0                 0.051154  38402.729002  21451.105507  12705.530323   \n",
       "1                 0.047146  10908.819796   3330.785385   2378.104992   \n",
       "2                 0.091021   5217.793781   2417.570978   1608.588899   \n",
       "4                 0.046134   4818.754518   2390.562528   1516.223337   \n",
       "9                 0.036114  11000.132246   4086.713774   2147.961657   \n",
       "\n",
       "   growth_rate  ebitda_margin  ...  transmission  transport  transportation  \\\n",
       "0     0.157184       0.330850  ...      0.000000        0.0        0.075711   \n",
       "1     0.023875       0.217998  ...      0.249487        0.0        0.000000   \n",
       "2     0.082469       0.308289  ...      0.000000        0.0        0.000000   \n",
       "4    -0.011602       0.314650  ...      0.000000        0.0        0.000000   \n",
       "9     0.089073       0.195267  ...      0.000000        0.0        0.000000   \n",
       "\n",
       "   treatment  unit   utility   vehicle     water  wholesale  worldwide  \n",
       "0   0.000000   0.0  0.000000  0.000000  0.310990        0.0   0.065747  \n",
       "1   0.000000   0.0  0.000000  0.000000  0.000000        0.0   0.000000  \n",
       "2   0.149108   0.0  0.075648  0.000000  0.133238        0.0   0.000000  \n",
       "4   0.000000   0.0  0.000000  0.000000  0.000000        0.0   0.000000  \n",
       "9   0.000000   0.0  0.000000  0.097778  0.000000        0.0   0.000000  \n",
       "\n",
       "[5 rows x 199 columns]"
      ]
     },
     "execution_count": 171,
     "metadata": {},
     "output_type": "execute_result"
    }
   ],
   "source": [
    "clean_df = nlp_preprocessing(ev_info)\n",
    "clean_df.head()"
   ]
  }
 ],
 "metadata": {
  "kernelspec": {
   "display_name": "Python 3",
   "language": "python",
   "name": "python3"
  },
  "language_info": {
   "codemirror_mode": {
    "name": "ipython",
    "version": 3
   },
   "file_extension": ".py",
   "mimetype": "text/x-python",
   "name": "python",
   "nbconvert_exporter": "python",
   "pygments_lexer": "ipython3",
   "version": "3.8.6"
  },
  "toc": {
   "base_numbering": 1,
   "nav_menu": {},
   "number_sections": true,
   "sideBar": true,
   "skip_h1_title": false,
   "title_cell": "Table of Contents",
   "title_sidebar": "Contents",
   "toc_cell": false,
   "toc_position": {
    "height": "calc(100% - 180px)",
    "left": "10px",
    "top": "150px",
    "width": "256px"
   },
   "toc_section_display": true,
   "toc_window_display": true
  }
 },
 "nbformat": 4,
 "nbformat_minor": 5
}
