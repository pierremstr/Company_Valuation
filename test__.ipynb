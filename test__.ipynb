{
 "cells": [
  {
   "cell_type": "code",
   "execution_count": 1,
   "id": "opposed-removal",
   "metadata": {},
   "outputs": [],
   "source": [
    "import numpy as np\n",
    "import pandas as pd\n",
    "import matplotlib\n",
    "import requests"
   ]
  },
  {
   "cell_type": "code",
   "execution_count": 108,
   "id": "micro-excellence",
   "metadata": {},
   "outputs": [],
   "source": [
    "data = pd.read_csv(\"desktop/clean_data.csv\")"
   ]
  },
  {
   "cell_type": "code",
   "execution_count": 115,
   "id": "successful-baptist",
   "metadata": {},
   "outputs": [
    {
     "data": {
      "text/plain": [
       "27"
      ]
     },
     "execution_count": 115,
     "metadata": {},
     "output_type": "execute_result"
    }
   ],
   "source": [
    "len(data[data['ebitda_margin']>1])"
   ]
  },
  {
   "cell_type": "code",
   "execution_count": 110,
   "id": "laden-hungary",
   "metadata": {},
   "outputs": [
    {
     "data": {
      "text/html": [
       "<div>\n",
       "<style scoped>\n",
       "    .dataframe tbody tr th:only-of-type {\n",
       "        vertical-align: middle;\n",
       "    }\n",
       "\n",
       "    .dataframe tbody tr th {\n",
       "        vertical-align: top;\n",
       "    }\n",
       "\n",
       "    .dataframe thead th {\n",
       "        text-align: right;\n",
       "    }\n",
       "</style>\n",
       "<table border=\"1\" class=\"dataframe\">\n",
       "  <thead>\n",
       "    <tr style=\"text-align: right;\">\n",
       "      <th></th>\n",
       "      <th>Unnamed: 0</th>\n",
       "      <th>symbol</th>\n",
       "      <th>enterpriseValue</th>\n",
       "      <th>sector</th>\n",
       "      <th>country</th>\n",
       "      <th>description</th>\n",
       "      <th>returnOnCapitalEmployed</th>\n",
       "      <th>revenue</th>\n",
       "      <th>grossProfit</th>\n",
       "      <th>ebitda</th>\n",
       "      <th>growth_rate</th>\n",
       "      <th>ebitda_margin</th>\n",
       "    </tr>\n",
       "  </thead>\n",
       "  <tbody>\n",
       "    <tr>\n",
       "      <th>0</th>\n",
       "      <td>0</td>\n",
       "      <td>0001.HK</td>\n",
       "      <td>21597.256799</td>\n",
       "      <td>Industrials</td>\n",
       "      <td>HK</td>\n",
       "      <td>CK Hutchison Holdings Limited, an investment h...</td>\n",
       "      <td>0.051154</td>\n",
       "      <td>38402.729002</td>\n",
       "      <td>21451.105507</td>\n",
       "      <td>12705.530323</td>\n",
       "      <td>0.157184</td>\n",
       "      <td>0.330850</td>\n",
       "    </tr>\n",
       "    <tr>\n",
       "      <th>1</th>\n",
       "      <td>1</td>\n",
       "      <td>0002.HK</td>\n",
       "      <td>5136.485887</td>\n",
       "      <td>Utilities</td>\n",
       "      <td>HK</td>\n",
       "      <td>CLP Holdings Limited, an investment holding co...</td>\n",
       "      <td>0.047146</td>\n",
       "      <td>10908.819796</td>\n",
       "      <td>3330.785385</td>\n",
       "      <td>2378.104992</td>\n",
       "      <td>0.023875</td>\n",
       "      <td>0.217998</td>\n",
       "    </tr>\n",
       "    <tr>\n",
       "      <th>2</th>\n",
       "      <td>2</td>\n",
       "      <td>0003.HK</td>\n",
       "      <td>4062.479373</td>\n",
       "      <td>Utilities</td>\n",
       "      <td>HK</td>\n",
       "      <td>The Hong Kong and China Gas Company Limited, t...</td>\n",
       "      <td>0.091021</td>\n",
       "      <td>5217.793781</td>\n",
       "      <td>2417.570978</td>\n",
       "      <td>1608.588899</td>\n",
       "      <td>0.082469</td>\n",
       "      <td>0.308289</td>\n",
       "    </tr>\n",
       "  </tbody>\n",
       "</table>\n",
       "</div>"
      ],
      "text/plain": [
       "   Unnamed: 0   symbol  enterpriseValue       sector country  \\\n",
       "0           0  0001.HK     21597.256799  Industrials      HK   \n",
       "1           1  0002.HK      5136.485887    Utilities      HK   \n",
       "2           2  0003.HK      4062.479373    Utilities      HK   \n",
       "\n",
       "                                         description  returnOnCapitalEmployed  \\\n",
       "0  CK Hutchison Holdings Limited, an investment h...                 0.051154   \n",
       "1  CLP Holdings Limited, an investment holding co...                 0.047146   \n",
       "2  The Hong Kong and China Gas Company Limited, t...                 0.091021   \n",
       "\n",
       "        revenue   grossProfit        ebitda  growth_rate  ebitda_margin  \n",
       "0  38402.729002  21451.105507  12705.530323     0.157184       0.330850  \n",
       "1  10908.819796   3330.785385   2378.104992     0.023875       0.217998  \n",
       "2   5217.793781   2417.570978   1608.588899     0.082469       0.308289  "
      ]
     },
     "execution_count": 110,
     "metadata": {},
     "output_type": "execute_result"
    }
   ],
   "source": [
    "data.head(3)"
   ]
  },
  {
   "cell_type": "code",
   "execution_count": 111,
   "id": "incorporate-traveler",
   "metadata": {},
   "outputs": [
    {
     "data": {
      "text/plain": [
       "Index(['Unnamed: 0', 'symbol', 'enterpriseValue', 'sector', 'country',\n",
       "       'description', 'returnOnCapitalEmployed', 'revenue', 'grossProfit',\n",
       "       'ebitda', 'growth_rate', 'ebitda_margin'],\n",
       "      dtype='object')"
      ]
     },
     "execution_count": 111,
     "metadata": {},
     "output_type": "execute_result"
    }
   ],
   "source": [
    "data.columns"
   ]
  },
  {
   "cell_type": "code",
   "execution_count": 112,
   "id": "efficient-reviewer",
   "metadata": {},
   "outputs": [
    {
     "data": {
      "text/plain": [
       "77"
      ]
     },
     "execution_count": 112,
     "metadata": {},
     "output_type": "execute_result"
    }
   ],
   "source": [
    "len(data[data['grossProfit']<=0])"
   ]
  },
  {
   "cell_type": "code",
   "execution_count": 124,
   "id": "other-hardware",
   "metadata": {},
   "outputs": [
    {
     "data": {
      "text/plain": [
       "845"
      ]
     },
     "execution_count": 124,
     "metadata": {},
     "output_type": "execute_result"
    }
   ],
   "source": [
    "len(data[data['returnOnCapitalEmployed']<0])"
   ]
  },
  {
   "cell_type": "code",
   "execution_count": 105,
   "id": "sapphire-dress",
   "metadata": {},
   "outputs": [
    {
     "data": {
      "text/plain": [
       "4720"
      ]
     },
     "execution_count": 105,
     "metadata": {},
     "output_type": "execute_result"
    }
   ],
   "source": [
    "len(data)"
   ]
  },
  {
   "cell_type": "code",
   "execution_count": 98,
   "id": "complicated-crawford",
   "metadata": {},
   "outputs": [],
   "source": [
    "data_scaled = data"
   ]
  },
  {
   "cell_type": "code",
   "execution_count": 103,
   "id": "wrapped-amateur",
   "metadata": {},
   "outputs": [
    {
     "data": {
      "text/html": [
       "<div>\n",
       "<style scoped>\n",
       "    .dataframe tbody tr th:only-of-type {\n",
       "        vertical-align: middle;\n",
       "    }\n",
       "\n",
       "    .dataframe tbody tr th {\n",
       "        vertical-align: top;\n",
       "    }\n",
       "\n",
       "    .dataframe thead th {\n",
       "        text-align: right;\n",
       "    }\n",
       "</style>\n",
       "<table border=\"1\" class=\"dataframe\">\n",
       "  <thead>\n",
       "    <tr style=\"text-align: right;\">\n",
       "      <th></th>\n",
       "      <th>Unnamed: 0</th>\n",
       "      <th>symbol</th>\n",
       "      <th>enterpriseValue</th>\n",
       "      <th>sector</th>\n",
       "      <th>country</th>\n",
       "      <th>description</th>\n",
       "      <th>returnOnCapitalEmployed</th>\n",
       "      <th>revenue</th>\n",
       "      <th>grossProfit</th>\n",
       "      <th>ebitda</th>\n",
       "      <th>growth_rate</th>\n",
       "      <th>ebitda_margin</th>\n",
       "    </tr>\n",
       "  </thead>\n",
       "  <tbody>\n",
       "    <tr>\n",
       "      <th>0</th>\n",
       "      <td>0</td>\n",
       "      <td>0001.HK</td>\n",
       "      <td>21597.256799</td>\n",
       "      <td>Industrials</td>\n",
       "      <td>HK</td>\n",
       "      <td>CK Hutchison Holdings Limited, an investment h...</td>\n",
       "      <td>-0.130746</td>\n",
       "      <td>12.224571</td>\n",
       "      <td>20.719361</td>\n",
       "      <td>23.266980</td>\n",
       "      <td>0.811304</td>\n",
       "      <td>1.044539</td>\n",
       "    </tr>\n",
       "    <tr>\n",
       "      <th>1</th>\n",
       "      <td>1</td>\n",
       "      <td>0002.HK</td>\n",
       "      <td>5136.485887</td>\n",
       "      <td>Utilities</td>\n",
       "      <td>HK</td>\n",
       "      <td>CLP Holdings Limited, an investment holding co...</td>\n",
       "      <td>-0.167135</td>\n",
       "      <td>3.307408</td>\n",
       "      <td>3.026069</td>\n",
       "      <td>4.190919</td>\n",
       "      <td>-0.292405</td>\n",
       "      <td>0.384473</td>\n",
       "    </tr>\n",
       "    <tr>\n",
       "      <th>2</th>\n",
       "      <td>2</td>\n",
       "      <td>0003.HK</td>\n",
       "      <td>4062.479373</td>\n",
       "      <td>Utilities</td>\n",
       "      <td>HK</td>\n",
       "      <td>The Hong Kong and China Gas Company Limited, t...</td>\n",
       "      <td>0.231236</td>\n",
       "      <td>1.461624</td>\n",
       "      <td>2.134375</td>\n",
       "      <td>2.769526</td>\n",
       "      <td>0.192715</td>\n",
       "      <td>0.912582</td>\n",
       "    </tr>\n",
       "    <tr>\n",
       "      <th>3</th>\n",
       "      <td>4</td>\n",
       "      <td>0006.HK</td>\n",
       "      <td>10.274256</td>\n",
       "      <td>Utilities</td>\n",
       "      <td>HK</td>\n",
       "      <td>Power Assets Holdings Limited, an investment h...</td>\n",
       "      <td>0.134654</td>\n",
       "      <td>-0.174526</td>\n",
       "      <td>-0.057181</td>\n",
       "      <td>1.523345</td>\n",
       "      <td>-0.427494</td>\n",
       "      <td>30.662680</td>\n",
       "    </tr>\n",
       "    <tr>\n",
       "      <th>4</th>\n",
       "      <td>5</td>\n",
       "      <td>0007.HK</td>\n",
       "      <td>7.441258</td>\n",
       "      <td>Technology</td>\n",
       "      <td>HK</td>\n",
       "      <td>Hong Kong Finance Investment Holding Group Lim...</td>\n",
       "      <td>1.463516</td>\n",
       "      <td>-0.208266</td>\n",
       "      <td>-0.222606</td>\n",
       "      <td>0.032786</td>\n",
       "      <td>2.241234</td>\n",
       "      <td>9.857435</td>\n",
       "    </tr>\n",
       "  </tbody>\n",
       "</table>\n",
       "</div>"
      ],
      "text/plain": [
       "   Unnamed: 0   symbol  enterpriseValue       sector country  \\\n",
       "0           0  0001.HK     21597.256799  Industrials      HK   \n",
       "1           1  0002.HK      5136.485887    Utilities      HK   \n",
       "2           2  0003.HK      4062.479373    Utilities      HK   \n",
       "3           4  0006.HK        10.274256    Utilities      HK   \n",
       "4           5  0007.HK         7.441258   Technology      HK   \n",
       "\n",
       "                                         description  returnOnCapitalEmployed  \\\n",
       "0  CK Hutchison Holdings Limited, an investment h...                -0.130746   \n",
       "1  CLP Holdings Limited, an investment holding co...                -0.167135   \n",
       "2  The Hong Kong and China Gas Company Limited, t...                 0.231236   \n",
       "3  Power Assets Holdings Limited, an investment h...                 0.134654   \n",
       "4  Hong Kong Finance Investment Holding Group Lim...                 1.463516   \n",
       "\n",
       "     revenue  grossProfit     ebitda  growth_rate  ebitda_margin  \n",
       "0  12.224571    20.719361  23.266980     0.811304       1.044539  \n",
       "1   3.307408     3.026069   4.190919    -0.292405       0.384473  \n",
       "2   1.461624     2.134375   2.769526     0.192715       0.912582  \n",
       "3  -0.174526    -0.057181   1.523345    -0.427494      30.662680  \n",
       "4  -0.208266    -0.222606   0.032786     2.241234       9.857435  "
      ]
     },
     "execution_count": 103,
     "metadata": {},
     "output_type": "execute_result"
    }
   ],
   "source": [
    "from sklearn.preprocessing import RobustScaler\n",
    "\n",
    "r_scaler = RobustScaler() # Instanciate Robust Scaler\n",
    "\n",
    "# r_scaler.fit(data_scaled[['revenue']]) # Fit scaler to feature\n",
    "\n",
    "data_scaled[['returnOnCapitalEmployed','revenue','grossProfit','ebitda', 'growth_rate', 'ebitda_margin']] = r_scaler.fit_transform(data_scaled[['returnOnCapitalEmployed','revenue','grossProfit','ebitda', 'growth_rate', 'ebitda_margin']]) #Scale\n",
    "\n",
    "data_scaled.head()"
   ]
  },
  {
   "cell_type": "code",
   "execution_count": 117,
   "id": "civic-monday",
   "metadata": {},
   "outputs": [
    {
     "data": {
      "text/plain": [
       "(4720, 12)"
      ]
     },
     "execution_count": 117,
     "metadata": {},
     "output_type": "execute_result"
    }
   ],
   "source": [
    "# need to remove EBITDA margin >1\n",
    "# need to remove gross profit < 0 \n",
    "# need to change the negative ROCE to the average of the sector\n",
    "data.shape"
   ]
  },
  {
   "cell_type": "code",
   "execution_count": 128,
   "id": "liberal-palmer",
   "metadata": {},
   "outputs": [],
   "source": [
    "from sklearn.pipeline import Pipeline\n",
    "from sklearn.impute import SimpleImputer\n",
    "from sklearn.preprocessing import StandardScaler\n",
    "from sklearn.preprocessing import OneHotEncoder\n",
    "from sklearn.compose import ColumnTransformer\n",
    "from sklearn.linear_model import Ridge\n",
    "from sklearn.preprocessing import FunctionTransformer"
   ]
  },
  {
   "cell_type": "code",
   "execution_count": 142,
   "id": "successful-nitrogen",
   "metadata": {},
   "outputs": [
    {
     "data": {
      "text/html": [
       "<style>div.sk-top-container {color: black;background-color: white;}div.sk-toggleable {background-color: white;}label.sk-toggleable__label {cursor: pointer;display: block;width: 100%;margin-bottom: 0;padding: 0.2em 0.3em;box-sizing: border-box;text-align: center;}div.sk-toggleable__content {max-height: 0;max-width: 0;overflow: hidden;text-align: left;background-color: #f0f8ff;}div.sk-toggleable__content pre {margin: 0.2em;color: black;border-radius: 0.25em;background-color: #f0f8ff;}input.sk-toggleable__control:checked~div.sk-toggleable__content {max-height: 200px;max-width: 100%;overflow: auto;}div.sk-estimator input.sk-toggleable__control:checked~label.sk-toggleable__label {background-color: #d4ebff;}div.sk-label input.sk-toggleable__control:checked~label.sk-toggleable__label {background-color: #d4ebff;}input.sk-hidden--visually {border: 0;clip: rect(1px 1px 1px 1px);clip: rect(1px, 1px, 1px, 1px);height: 1px;margin: -1px;overflow: hidden;padding: 0;position: absolute;width: 1px;}div.sk-estimator {font-family: monospace;background-color: #f0f8ff;margin: 0.25em 0.25em;border: 1px dotted black;border-radius: 0.25em;box-sizing: border-box;}div.sk-estimator:hover {background-color: #d4ebff;}div.sk-parallel-item::after {content: \"\";width: 100%;border-bottom: 1px solid gray;flex-grow: 1;}div.sk-label:hover label.sk-toggleable__label {background-color: #d4ebff;}div.sk-serial::before {content: \"\";position: absolute;border-left: 1px solid gray;box-sizing: border-box;top: 2em;bottom: 0;left: 50%;}div.sk-serial {display: flex;flex-direction: column;align-items: center;background-color: white;}div.sk-item {z-index: 1;}div.sk-parallel {display: flex;align-items: stretch;justify-content: center;background-color: white;}div.sk-parallel-item {display: flex;flex-direction: column;position: relative;background-color: white;}div.sk-parallel-item:first-child::after {align-self: flex-end;width: 50%;}div.sk-parallel-item:last-child::after {align-self: flex-start;width: 50%;}div.sk-parallel-item:only-child::after {width: 0;}div.sk-dashed-wrapped {border: 1px dashed gray;margin: 0.2em;box-sizing: border-box;padding-bottom: 0.1em;background-color: white;position: relative;}div.sk-label label {font-family: monospace;font-weight: bold;background-color: white;display: inline-block;line-height: 1.2em;}div.sk-label-container {position: relative;z-index: 2;text-align: center;}div.sk-container {display: inline-block;position: relative;}</style><div class=\"sk-top-container\"><div class=\"sk-container\"><div class=\"sk-item sk-dashed-wrapped\"><div class=\"sk-label-container\"><div class=\"sk-label sk-toggleable\"><input class=\"sk-toggleable__control sk-hidden--visually\" id=\"858ceeef-1a95-4c32-8aa5-666a668cedab\" type=\"checkbox\" ><label class=\"sk-toggleable__label\" for=\"858ceeef-1a95-4c32-8aa5-666a668cedab\">Pipeline</label><div class=\"sk-toggleable__content\"><pre>Pipeline(steps=[('preprocessing',\n",
       "                 ColumnTransformer(transformers=[('num_transformer',\n",
       "                                                  Pipeline(steps=[('imputer',\n",
       "                                                                   SimpleImputer()),\n",
       "                                                                  ('scaler',\n",
       "                                                                   RobustScaler())]),\n",
       "                                                  ['revenue',\n",
       "                                                   'returnOnCapitalEmployed',\n",
       "                                                   'grossProfit', 'ebitda',\n",
       "                                                   'growth_rate',\n",
       "                                                   'ebitda_margin']),\n",
       "                                                 ('cat_transformer',\n",
       "                                                  OneHotEncoder(),\n",
       "                                                  ['sector', 'country'])])),\n",
       "                ('linear_regression', Ridge())])</pre></div></div></div><div class=\"sk-serial\"><div class=\"sk-item sk-dashed-wrapped\"><div class=\"sk-label-container\"><div class=\"sk-label sk-toggleable\"><input class=\"sk-toggleable__control sk-hidden--visually\" id=\"37519540-1a14-414f-a1a3-ddac0f8098a8\" type=\"checkbox\" ><label class=\"sk-toggleable__label\" for=\"37519540-1a14-414f-a1a3-ddac0f8098a8\">preprocessing: ColumnTransformer</label><div class=\"sk-toggleable__content\"><pre>ColumnTransformer(transformers=[('num_transformer',\n",
       "                                 Pipeline(steps=[('imputer', SimpleImputer()),\n",
       "                                                 ('scaler', RobustScaler())]),\n",
       "                                 ['revenue', 'returnOnCapitalEmployed',\n",
       "                                  'grossProfit', 'ebitda', 'growth_rate',\n",
       "                                  'ebitda_margin']),\n",
       "                                ('cat_transformer', OneHotEncoder(),\n",
       "                                 ['sector', 'country'])])</pre></div></div></div><div class=\"sk-parallel\"><div class=\"sk-parallel-item\"><div class=\"sk-item\"><div class=\"sk-label-container\"><div class=\"sk-label sk-toggleable\"><input class=\"sk-toggleable__control sk-hidden--visually\" id=\"9e2ac755-f0e9-4cf1-b378-60831e8d7977\" type=\"checkbox\" ><label class=\"sk-toggleable__label\" for=\"9e2ac755-f0e9-4cf1-b378-60831e8d7977\">num_transformer</label><div class=\"sk-toggleable__content\"><pre>['revenue', 'returnOnCapitalEmployed', 'grossProfit', 'ebitda', 'growth_rate', 'ebitda_margin']</pre></div></div></div><div class=\"sk-serial\"><div class=\"sk-item\"><div class=\"sk-serial\"><div class=\"sk-item\"><div class=\"sk-estimator sk-toggleable\"><input class=\"sk-toggleable__control sk-hidden--visually\" id=\"7b0764ec-5b88-46a2-a8b8-5d9b1c896e66\" type=\"checkbox\" ><label class=\"sk-toggleable__label\" for=\"7b0764ec-5b88-46a2-a8b8-5d9b1c896e66\">SimpleImputer</label><div class=\"sk-toggleable__content\"><pre>SimpleImputer()</pre></div></div></div><div class=\"sk-item\"><div class=\"sk-estimator sk-toggleable\"><input class=\"sk-toggleable__control sk-hidden--visually\" id=\"25888fef-7d8d-41fe-a75f-05797b6df28e\" type=\"checkbox\" ><label class=\"sk-toggleable__label\" for=\"25888fef-7d8d-41fe-a75f-05797b6df28e\">RobustScaler</label><div class=\"sk-toggleable__content\"><pre>RobustScaler()</pre></div></div></div></div></div></div></div></div><div class=\"sk-parallel-item\"><div class=\"sk-item\"><div class=\"sk-label-container\"><div class=\"sk-label sk-toggleable\"><input class=\"sk-toggleable__control sk-hidden--visually\" id=\"65e2e5c7-44b7-41e9-b998-37722dead89c\" type=\"checkbox\" ><label class=\"sk-toggleable__label\" for=\"65e2e5c7-44b7-41e9-b998-37722dead89c\">cat_transformer</label><div class=\"sk-toggleable__content\"><pre>['sector', 'country']</pre></div></div></div><div class=\"sk-serial\"><div class=\"sk-item\"><div class=\"sk-estimator sk-toggleable\"><input class=\"sk-toggleable__control sk-hidden--visually\" id=\"c8470d37-a074-4fac-a354-608af4815e2a\" type=\"checkbox\" ><label class=\"sk-toggleable__label\" for=\"c8470d37-a074-4fac-a354-608af4815e2a\">OneHotEncoder</label><div class=\"sk-toggleable__content\"><pre>OneHotEncoder()</pre></div></div></div></div></div></div></div></div><div class=\"sk-item\"><div class=\"sk-estimator sk-toggleable\"><input class=\"sk-toggleable__control sk-hidden--visually\" id=\"aa248c16-5a6f-42c2-8584-214be3acb625\" type=\"checkbox\" ><label class=\"sk-toggleable__label\" for=\"aa248c16-5a6f-42c2-8584-214be3acb625\">Ridge</label><div class=\"sk-toggleable__content\"><pre>Ridge()</pre></div></div></div></div></div></div></div>"
      ],
      "text/plain": [
       "Pipeline(steps=[('preprocessing',\n",
       "                 ColumnTransformer(transformers=[('num_transformer',\n",
       "                                                  Pipeline(steps=[('imputer',\n",
       "                                                                   SimpleImputer()),\n",
       "                                                                  ('scaler',\n",
       "                                                                   RobustScaler())]),\n",
       "                                                  ['revenue',\n",
       "                                                   'returnOnCapitalEmployed',\n",
       "                                                   'grossProfit', 'ebitda',\n",
       "                                                   'growth_rate',\n",
       "                                                   'ebitda_margin']),\n",
       "                                                 ('cat_transformer',\n",
       "                                                  OneHotEncoder(),\n",
       "                                                  ['sector', 'country'])])),\n",
       "                ('linear_regression', Ridge())])"
      ]
     },
     "execution_count": 142,
     "metadata": {},
     "output_type": "execute_result"
    }
   ],
   "source": [
    "# rounder = Pipeline([('NoNegative',FunctionTransformer(lambda x: 0 if x<0 else x)),\n",
    "#                     ('scaler', RobustScaler())])\n",
    "    \n",
    "num_transformer = Pipeline([('imputer', SimpleImputer()),\n",
    "                            ('scaler', RobustScaler())])\n",
    "# Preprocessor\n",
    "preprocessor = ColumnTransformer([\n",
    "    ('num_transformer', num_transformer, ['revenue','returnOnCapitalEmployed','grossProfit','ebitda', 'growth_rate', 'ebitda_margin']),\n",
    "    ('cat_transformer', OneHotEncoder(), ['sector', 'country'])])\n",
    "    \n",
    "\n",
    "# Combine preprocessor and linear model in pipeline\n",
    "final_pipe = Pipeline([\n",
    "    ('preprocessing', preprocessor),\n",
    "    ('linear_regression', Ridge())])\n",
    "final_pipe"
   ]
  },
  {
   "cell_type": "code",
   "execution_count": 143,
   "id": "abandoned-connecticut",
   "metadata": {},
   "outputs": [
    {
     "data": {
      "text/html": [
       "<style>div.sk-top-container {color: black;background-color: white;}div.sk-toggleable {background-color: white;}label.sk-toggleable__label {cursor: pointer;display: block;width: 100%;margin-bottom: 0;padding: 0.2em 0.3em;box-sizing: border-box;text-align: center;}div.sk-toggleable__content {max-height: 0;max-width: 0;overflow: hidden;text-align: left;background-color: #f0f8ff;}div.sk-toggleable__content pre {margin: 0.2em;color: black;border-radius: 0.25em;background-color: #f0f8ff;}input.sk-toggleable__control:checked~div.sk-toggleable__content {max-height: 200px;max-width: 100%;overflow: auto;}div.sk-estimator input.sk-toggleable__control:checked~label.sk-toggleable__label {background-color: #d4ebff;}div.sk-label input.sk-toggleable__control:checked~label.sk-toggleable__label {background-color: #d4ebff;}input.sk-hidden--visually {border: 0;clip: rect(1px 1px 1px 1px);clip: rect(1px, 1px, 1px, 1px);height: 1px;margin: -1px;overflow: hidden;padding: 0;position: absolute;width: 1px;}div.sk-estimator {font-family: monospace;background-color: #f0f8ff;margin: 0.25em 0.25em;border: 1px dotted black;border-radius: 0.25em;box-sizing: border-box;}div.sk-estimator:hover {background-color: #d4ebff;}div.sk-parallel-item::after {content: \"\";width: 100%;border-bottom: 1px solid gray;flex-grow: 1;}div.sk-label:hover label.sk-toggleable__label {background-color: #d4ebff;}div.sk-serial::before {content: \"\";position: absolute;border-left: 1px solid gray;box-sizing: border-box;top: 2em;bottom: 0;left: 50%;}div.sk-serial {display: flex;flex-direction: column;align-items: center;background-color: white;}div.sk-item {z-index: 1;}div.sk-parallel {display: flex;align-items: stretch;justify-content: center;background-color: white;}div.sk-parallel-item {display: flex;flex-direction: column;position: relative;background-color: white;}div.sk-parallel-item:first-child::after {align-self: flex-end;width: 50%;}div.sk-parallel-item:last-child::after {align-self: flex-start;width: 50%;}div.sk-parallel-item:only-child::after {width: 0;}div.sk-dashed-wrapped {border: 1px dashed gray;margin: 0.2em;box-sizing: border-box;padding-bottom: 0.1em;background-color: white;position: relative;}div.sk-label label {font-family: monospace;font-weight: bold;background-color: white;display: inline-block;line-height: 1.2em;}div.sk-label-container {position: relative;z-index: 2;text-align: center;}div.sk-container {display: inline-block;position: relative;}</style><div class=\"sk-top-container\"><div class=\"sk-container\"><div class=\"sk-item sk-dashed-wrapped\"><div class=\"sk-label-container\"><div class=\"sk-label sk-toggleable\"><input class=\"sk-toggleable__control sk-hidden--visually\" id=\"8976e6ef-4700-4e98-90f4-75bee5cf9d16\" type=\"checkbox\" ><label class=\"sk-toggleable__label\" for=\"8976e6ef-4700-4e98-90f4-75bee5cf9d16\">ColumnTransformer</label><div class=\"sk-toggleable__content\"><pre>ColumnTransformer(transformers=[('num_transformer',\n",
       "                                 Pipeline(steps=[('imputer', SimpleImputer()),\n",
       "                                                 ('scaler', RobustScaler())]),\n",
       "                                 ['revenue', 'returnOnCapitalEmployed',\n",
       "                                  'grossProfit', 'ebitda', 'growth_rate',\n",
       "                                  'ebitda_margin']),\n",
       "                                ('cat_transformer', OneHotEncoder(),\n",
       "                                 ['sector', 'country'])])</pre></div></div></div><div class=\"sk-parallel\"><div class=\"sk-parallel-item\"><div class=\"sk-item\"><div class=\"sk-label-container\"><div class=\"sk-label sk-toggleable\"><input class=\"sk-toggleable__control sk-hidden--visually\" id=\"00cb2e89-cdf1-4e2d-9285-e7661372e900\" type=\"checkbox\" ><label class=\"sk-toggleable__label\" for=\"00cb2e89-cdf1-4e2d-9285-e7661372e900\">num_transformer</label><div class=\"sk-toggleable__content\"><pre>['revenue', 'returnOnCapitalEmployed', 'grossProfit', 'ebitda', 'growth_rate', 'ebitda_margin']</pre></div></div></div><div class=\"sk-serial\"><div class=\"sk-item\"><div class=\"sk-serial\"><div class=\"sk-item\"><div class=\"sk-estimator sk-toggleable\"><input class=\"sk-toggleable__control sk-hidden--visually\" id=\"193eef75-e0c2-416e-a75f-4aa75c05bf90\" type=\"checkbox\" ><label class=\"sk-toggleable__label\" for=\"193eef75-e0c2-416e-a75f-4aa75c05bf90\">SimpleImputer</label><div class=\"sk-toggleable__content\"><pre>SimpleImputer()</pre></div></div></div><div class=\"sk-item\"><div class=\"sk-estimator sk-toggleable\"><input class=\"sk-toggleable__control sk-hidden--visually\" id=\"26886961-8230-4c50-922b-57a14c0c1b4e\" type=\"checkbox\" ><label class=\"sk-toggleable__label\" for=\"26886961-8230-4c50-922b-57a14c0c1b4e\">RobustScaler</label><div class=\"sk-toggleable__content\"><pre>RobustScaler()</pre></div></div></div></div></div></div></div></div><div class=\"sk-parallel-item\"><div class=\"sk-item\"><div class=\"sk-label-container\"><div class=\"sk-label sk-toggleable\"><input class=\"sk-toggleable__control sk-hidden--visually\" id=\"1dfe872e-11a6-423e-8ef4-f941676d7eac\" type=\"checkbox\" ><label class=\"sk-toggleable__label\" for=\"1dfe872e-11a6-423e-8ef4-f941676d7eac\">cat_transformer</label><div class=\"sk-toggleable__content\"><pre>['sector', 'country']</pre></div></div></div><div class=\"sk-serial\"><div class=\"sk-item\"><div class=\"sk-estimator sk-toggleable\"><input class=\"sk-toggleable__control sk-hidden--visually\" id=\"325a18ed-1dbd-428c-99fc-59ab3f5e7f9c\" type=\"checkbox\" ><label class=\"sk-toggleable__label\" for=\"325a18ed-1dbd-428c-99fc-59ab3f5e7f9c\">OneHotEncoder</label><div class=\"sk-toggleable__content\"><pre>OneHotEncoder()</pre></div></div></div></div></div></div></div></div></div></div>"
      ],
      "text/plain": [
       "ColumnTransformer(transformers=[('num_transformer',\n",
       "                                 Pipeline(steps=[('imputer', SimpleImputer()),\n",
       "                                                 ('scaler', RobustScaler())]),\n",
       "                                 ['revenue', 'returnOnCapitalEmployed',\n",
       "                                  'grossProfit', 'ebitda', 'growth_rate',\n",
       "                                  'ebitda_margin']),\n",
       "                                ('cat_transformer', OneHotEncoder(),\n",
       "                                 ['sector', 'country'])])"
      ]
     },
     "execution_count": 143,
     "metadata": {},
     "output_type": "execute_result"
    }
   ],
   "source": [
    " # visualizing pipelines in HTML\n",
    "from sklearn import set_config; set_config(display='diagram')\n",
    "preprocessor"
   ]
  },
  {
   "cell_type": "code",
   "execution_count": 144,
   "id": "weird-reply",
   "metadata": {},
   "outputs": [
    {
     "data": {
      "text/html": [
       "<style>div.sk-top-container {color: black;background-color: white;}div.sk-toggleable {background-color: white;}label.sk-toggleable__label {cursor: pointer;display: block;width: 100%;margin-bottom: 0;padding: 0.2em 0.3em;box-sizing: border-box;text-align: center;}div.sk-toggleable__content {max-height: 0;max-width: 0;overflow: hidden;text-align: left;background-color: #f0f8ff;}div.sk-toggleable__content pre {margin: 0.2em;color: black;border-radius: 0.25em;background-color: #f0f8ff;}input.sk-toggleable__control:checked~div.sk-toggleable__content {max-height: 200px;max-width: 100%;overflow: auto;}div.sk-estimator input.sk-toggleable__control:checked~label.sk-toggleable__label {background-color: #d4ebff;}div.sk-label input.sk-toggleable__control:checked~label.sk-toggleable__label {background-color: #d4ebff;}input.sk-hidden--visually {border: 0;clip: rect(1px 1px 1px 1px);clip: rect(1px, 1px, 1px, 1px);height: 1px;margin: -1px;overflow: hidden;padding: 0;position: absolute;width: 1px;}div.sk-estimator {font-family: monospace;background-color: #f0f8ff;margin: 0.25em 0.25em;border: 1px dotted black;border-radius: 0.25em;box-sizing: border-box;}div.sk-estimator:hover {background-color: #d4ebff;}div.sk-parallel-item::after {content: \"\";width: 100%;border-bottom: 1px solid gray;flex-grow: 1;}div.sk-label:hover label.sk-toggleable__label {background-color: #d4ebff;}div.sk-serial::before {content: \"\";position: absolute;border-left: 1px solid gray;box-sizing: border-box;top: 2em;bottom: 0;left: 50%;}div.sk-serial {display: flex;flex-direction: column;align-items: center;background-color: white;}div.sk-item {z-index: 1;}div.sk-parallel {display: flex;align-items: stretch;justify-content: center;background-color: white;}div.sk-parallel-item {display: flex;flex-direction: column;position: relative;background-color: white;}div.sk-parallel-item:first-child::after {align-self: flex-end;width: 50%;}div.sk-parallel-item:last-child::after {align-self: flex-start;width: 50%;}div.sk-parallel-item:only-child::after {width: 0;}div.sk-dashed-wrapped {border: 1px dashed gray;margin: 0.2em;box-sizing: border-box;padding-bottom: 0.1em;background-color: white;position: relative;}div.sk-label label {font-family: monospace;font-weight: bold;background-color: white;display: inline-block;line-height: 1.2em;}div.sk-label-container {position: relative;z-index: 2;text-align: center;}div.sk-container {display: inline-block;position: relative;}</style><div class=\"sk-top-container\"><div class=\"sk-container\"><div class=\"sk-item sk-dashed-wrapped\"><div class=\"sk-label-container\"><div class=\"sk-label sk-toggleable\"><input class=\"sk-toggleable__control sk-hidden--visually\" id=\"84ca0cf5-495a-40f9-b392-0468ebb749be\" type=\"checkbox\" ><label class=\"sk-toggleable__label\" for=\"84ca0cf5-495a-40f9-b392-0468ebb749be\">Pipeline</label><div class=\"sk-toggleable__content\"><pre>Pipeline(steps=[('preprocessing',\n",
       "                 ColumnTransformer(transformers=[('num_transformer',\n",
       "                                                  Pipeline(steps=[('imputer',\n",
       "                                                                   SimpleImputer()),\n",
       "                                                                  ('scaler',\n",
       "                                                                   RobustScaler())]),\n",
       "                                                  ['revenue',\n",
       "                                                   'returnOnCapitalEmployed',\n",
       "                                                   'grossProfit', 'ebitda',\n",
       "                                                   'growth_rate',\n",
       "                                                   'ebitda_margin']),\n",
       "                                                 ('cat_transformer',\n",
       "                                                  OneHotEncoder(),\n",
       "                                                  ['sector', 'country'])])),\n",
       "                ('linear_regression', Ridge())])</pre></div></div></div><div class=\"sk-serial\"><div class=\"sk-item sk-dashed-wrapped\"><div class=\"sk-label-container\"><div class=\"sk-label sk-toggleable\"><input class=\"sk-toggleable__control sk-hidden--visually\" id=\"8f68ef38-1378-424c-a58c-ad4decec5cbe\" type=\"checkbox\" ><label class=\"sk-toggleable__label\" for=\"8f68ef38-1378-424c-a58c-ad4decec5cbe\">preprocessing: ColumnTransformer</label><div class=\"sk-toggleable__content\"><pre>ColumnTransformer(transformers=[('num_transformer',\n",
       "                                 Pipeline(steps=[('imputer', SimpleImputer()),\n",
       "                                                 ('scaler', RobustScaler())]),\n",
       "                                 ['revenue', 'returnOnCapitalEmployed',\n",
       "                                  'grossProfit', 'ebitda', 'growth_rate',\n",
       "                                  'ebitda_margin']),\n",
       "                                ('cat_transformer', OneHotEncoder(),\n",
       "                                 ['sector', 'country'])])</pre></div></div></div><div class=\"sk-parallel\"><div class=\"sk-parallel-item\"><div class=\"sk-item\"><div class=\"sk-label-container\"><div class=\"sk-label sk-toggleable\"><input class=\"sk-toggleable__control sk-hidden--visually\" id=\"54521b8c-a419-487d-b2bb-a7250cbf6bd4\" type=\"checkbox\" ><label class=\"sk-toggleable__label\" for=\"54521b8c-a419-487d-b2bb-a7250cbf6bd4\">num_transformer</label><div class=\"sk-toggleable__content\"><pre>['revenue', 'returnOnCapitalEmployed', 'grossProfit', 'ebitda', 'growth_rate', 'ebitda_margin']</pre></div></div></div><div class=\"sk-serial\"><div class=\"sk-item\"><div class=\"sk-serial\"><div class=\"sk-item\"><div class=\"sk-estimator sk-toggleable\"><input class=\"sk-toggleable__control sk-hidden--visually\" id=\"606533eb-40bc-4bab-bee1-0dedcc3a30c4\" type=\"checkbox\" ><label class=\"sk-toggleable__label\" for=\"606533eb-40bc-4bab-bee1-0dedcc3a30c4\">SimpleImputer</label><div class=\"sk-toggleable__content\"><pre>SimpleImputer()</pre></div></div></div><div class=\"sk-item\"><div class=\"sk-estimator sk-toggleable\"><input class=\"sk-toggleable__control sk-hidden--visually\" id=\"077bf481-31fd-45c7-98d8-074f562791fb\" type=\"checkbox\" ><label class=\"sk-toggleable__label\" for=\"077bf481-31fd-45c7-98d8-074f562791fb\">RobustScaler</label><div class=\"sk-toggleable__content\"><pre>RobustScaler()</pre></div></div></div></div></div></div></div></div><div class=\"sk-parallel-item\"><div class=\"sk-item\"><div class=\"sk-label-container\"><div class=\"sk-label sk-toggleable\"><input class=\"sk-toggleable__control sk-hidden--visually\" id=\"0462859a-44f2-49c1-89c9-f13e73715ec1\" type=\"checkbox\" ><label class=\"sk-toggleable__label\" for=\"0462859a-44f2-49c1-89c9-f13e73715ec1\">cat_transformer</label><div class=\"sk-toggleable__content\"><pre>['sector', 'country']</pre></div></div></div><div class=\"sk-serial\"><div class=\"sk-item\"><div class=\"sk-estimator sk-toggleable\"><input class=\"sk-toggleable__control sk-hidden--visually\" id=\"093b984f-154e-4ac4-8cde-fefa76fc16e2\" type=\"checkbox\" ><label class=\"sk-toggleable__label\" for=\"093b984f-154e-4ac4-8cde-fefa76fc16e2\">OneHotEncoder</label><div class=\"sk-toggleable__content\"><pre>OneHotEncoder()</pre></div></div></div></div></div></div></div></div><div class=\"sk-item\"><div class=\"sk-estimator sk-toggleable\"><input class=\"sk-toggleable__control sk-hidden--visually\" id=\"967e65ed-4f0f-4e7f-8c99-e56e18097363\" type=\"checkbox\" ><label class=\"sk-toggleable__label\" for=\"967e65ed-4f0f-4e7f-8c99-e56e18097363\">Ridge</label><div class=\"sk-toggleable__content\"><pre>Ridge()</pre></div></div></div></div></div></div></div>"
      ],
      "text/plain": [
       "Pipeline(steps=[('preprocessing',\n",
       "                 ColumnTransformer(transformers=[('num_transformer',\n",
       "                                                  Pipeline(steps=[('imputer',\n",
       "                                                                   SimpleImputer()),\n",
       "                                                                  ('scaler',\n",
       "                                                                   RobustScaler())]),\n",
       "                                                  ['revenue',\n",
       "                                                   'returnOnCapitalEmployed',\n",
       "                                                   'grossProfit', 'ebitda',\n",
       "                                                   'growth_rate',\n",
       "                                                   'ebitda_margin']),\n",
       "                                                 ('cat_transformer',\n",
       "                                                  OneHotEncoder(),\n",
       "                                                  ['sector', 'country'])])),\n",
       "                ('linear_regression', Ridge())])"
      ]
     },
     "execution_count": 144,
     "metadata": {},
     "output_type": "execute_result"
    }
   ],
   "source": [
    "final_pipe"
   ]
  },
  {
   "cell_type": "code",
   "execution_count": 145,
   "id": "labeled-incentive",
   "metadata": {},
   "outputs": [
    {
     "data": {
      "text/html": [
       "<div>\n",
       "<style scoped>\n",
       "    .dataframe tbody tr th:only-of-type {\n",
       "        vertical-align: middle;\n",
       "    }\n",
       "\n",
       "    .dataframe tbody tr th {\n",
       "        vertical-align: top;\n",
       "    }\n",
       "\n",
       "    .dataframe thead th {\n",
       "        text-align: right;\n",
       "    }\n",
       "</style>\n",
       "<table border=\"1\" class=\"dataframe\">\n",
       "  <thead>\n",
       "    <tr style=\"text-align: right;\">\n",
       "      <th></th>\n",
       "      <th>sector</th>\n",
       "      <th>country</th>\n",
       "      <th>returnOnCapitalEmployed</th>\n",
       "      <th>revenue</th>\n",
       "      <th>grossProfit</th>\n",
       "      <th>ebitda</th>\n",
       "      <th>growth_rate</th>\n",
       "      <th>ebitda_margin</th>\n",
       "    </tr>\n",
       "  </thead>\n",
       "  <tbody>\n",
       "    <tr>\n",
       "      <th>0</th>\n",
       "      <td>Industrials</td>\n",
       "      <td>HK</td>\n",
       "      <td>0.051154</td>\n",
       "      <td>38402.729002</td>\n",
       "      <td>21451.105507</td>\n",
       "      <td>12705.530323</td>\n",
       "      <td>0.157184</td>\n",
       "      <td>0.330850</td>\n",
       "    </tr>\n",
       "    <tr>\n",
       "      <th>1</th>\n",
       "      <td>Utilities</td>\n",
       "      <td>HK</td>\n",
       "      <td>0.047146</td>\n",
       "      <td>10908.819796</td>\n",
       "      <td>3330.785385</td>\n",
       "      <td>2378.104992</td>\n",
       "      <td>0.023875</td>\n",
       "      <td>0.217998</td>\n",
       "    </tr>\n",
       "    <tr>\n",
       "      <th>2</th>\n",
       "      <td>Utilities</td>\n",
       "      <td>HK</td>\n",
       "      <td>0.091021</td>\n",
       "      <td>5217.793781</td>\n",
       "      <td>2417.570978</td>\n",
       "      <td>1608.588899</td>\n",
       "      <td>0.082469</td>\n",
       "      <td>0.308289</td>\n",
       "    </tr>\n",
       "    <tr>\n",
       "      <th>3</th>\n",
       "      <td>Utilities</td>\n",
       "      <td>HK</td>\n",
       "      <td>0.080384</td>\n",
       "      <td>173.121215</td>\n",
       "      <td>173.121215</td>\n",
       "      <td>933.929875</td>\n",
       "      <td>0.007559</td>\n",
       "      <td>5.394659</td>\n",
       "    </tr>\n",
       "    <tr>\n",
       "      <th>4</th>\n",
       "      <td>Technology</td>\n",
       "      <td>HK</td>\n",
       "      <td>0.226738</td>\n",
       "      <td>69.095143</td>\n",
       "      <td>3.704255</td>\n",
       "      <td>126.968486</td>\n",
       "      <td>0.329895</td>\n",
       "      <td>1.837589</td>\n",
       "    </tr>\n",
       "  </tbody>\n",
       "</table>\n",
       "</div>"
      ],
      "text/plain": [
       "        sector country  returnOnCapitalEmployed       revenue   grossProfit  \\\n",
       "0  Industrials      HK                 0.051154  38402.729002  21451.105507   \n",
       "1    Utilities      HK                 0.047146  10908.819796   3330.785385   \n",
       "2    Utilities      HK                 0.091021   5217.793781   2417.570978   \n",
       "3    Utilities      HK                 0.080384    173.121215    173.121215   \n",
       "4   Technology      HK                 0.226738     69.095143      3.704255   \n",
       "\n",
       "         ebitda  growth_rate  ebitda_margin  \n",
       "0  12705.530323     0.157184       0.330850  \n",
       "1   2378.104992     0.023875       0.217998  \n",
       "2   1608.588899     0.082469       0.308289  \n",
       "3    933.929875     0.007559       5.394659  \n",
       "4    126.968486     0.329895       1.837589  "
      ]
     },
     "execution_count": 145,
     "metadata": {},
     "output_type": "execute_result"
    }
   ],
   "source": [
    "data['returnOnCapitalEmployed']=data['returnOnCapitalEmployed'].apply(lambda x: 0 if x<0 else x)\n",
    "X = data.drop(columns=['enterpriseValue','symbol','description','Unnamed: 0'])\n",
    "y = data['enterpriseValue']\n",
    "X.head()"
   ]
  },
  {
   "cell_type": "code",
   "execution_count": 146,
   "id": "conservative-girlfriend",
   "metadata": {},
   "outputs": [
    {
     "data": {
      "text/html": [
       "<style>div.sk-top-container {color: black;background-color: white;}div.sk-toggleable {background-color: white;}label.sk-toggleable__label {cursor: pointer;display: block;width: 100%;margin-bottom: 0;padding: 0.2em 0.3em;box-sizing: border-box;text-align: center;}div.sk-toggleable__content {max-height: 0;max-width: 0;overflow: hidden;text-align: left;background-color: #f0f8ff;}div.sk-toggleable__content pre {margin: 0.2em;color: black;border-radius: 0.25em;background-color: #f0f8ff;}input.sk-toggleable__control:checked~div.sk-toggleable__content {max-height: 200px;max-width: 100%;overflow: auto;}div.sk-estimator input.sk-toggleable__control:checked~label.sk-toggleable__label {background-color: #d4ebff;}div.sk-label input.sk-toggleable__control:checked~label.sk-toggleable__label {background-color: #d4ebff;}input.sk-hidden--visually {border: 0;clip: rect(1px 1px 1px 1px);clip: rect(1px, 1px, 1px, 1px);height: 1px;margin: -1px;overflow: hidden;padding: 0;position: absolute;width: 1px;}div.sk-estimator {font-family: monospace;background-color: #f0f8ff;margin: 0.25em 0.25em;border: 1px dotted black;border-radius: 0.25em;box-sizing: border-box;}div.sk-estimator:hover {background-color: #d4ebff;}div.sk-parallel-item::after {content: \"\";width: 100%;border-bottom: 1px solid gray;flex-grow: 1;}div.sk-label:hover label.sk-toggleable__label {background-color: #d4ebff;}div.sk-serial::before {content: \"\";position: absolute;border-left: 1px solid gray;box-sizing: border-box;top: 2em;bottom: 0;left: 50%;}div.sk-serial {display: flex;flex-direction: column;align-items: center;background-color: white;}div.sk-item {z-index: 1;}div.sk-parallel {display: flex;align-items: stretch;justify-content: center;background-color: white;}div.sk-parallel-item {display: flex;flex-direction: column;position: relative;background-color: white;}div.sk-parallel-item:first-child::after {align-self: flex-end;width: 50%;}div.sk-parallel-item:last-child::after {align-self: flex-start;width: 50%;}div.sk-parallel-item:only-child::after {width: 0;}div.sk-dashed-wrapped {border: 1px dashed gray;margin: 0.2em;box-sizing: border-box;padding-bottom: 0.1em;background-color: white;position: relative;}div.sk-label label {font-family: monospace;font-weight: bold;background-color: white;display: inline-block;line-height: 1.2em;}div.sk-label-container {position: relative;z-index: 2;text-align: center;}div.sk-container {display: inline-block;position: relative;}</style><div class=\"sk-top-container\"><div class=\"sk-container\"><div class=\"sk-item sk-dashed-wrapped\"><div class=\"sk-label-container\"><div class=\"sk-label sk-toggleable\"><input class=\"sk-toggleable__control sk-hidden--visually\" id=\"6efbb3bd-494d-438a-98c4-de0fa8ecd93e\" type=\"checkbox\" ><label class=\"sk-toggleable__label\" for=\"6efbb3bd-494d-438a-98c4-de0fa8ecd93e\">Pipeline</label><div class=\"sk-toggleable__content\"><pre>Pipeline(steps=[('preprocessing',\n",
       "                 ColumnTransformer(transformers=[('num_transformer',\n",
       "                                                  Pipeline(steps=[('imputer',\n",
       "                                                                   SimpleImputer()),\n",
       "                                                                  ('scaler',\n",
       "                                                                   RobustScaler())]),\n",
       "                                                  ['revenue',\n",
       "                                                   'returnOnCapitalEmployed',\n",
       "                                                   'grossProfit', 'ebitda',\n",
       "                                                   'growth_rate',\n",
       "                                                   'ebitda_margin']),\n",
       "                                                 ('cat_transformer',\n",
       "                                                  OneHotEncoder(),\n",
       "                                                  ['sector', 'country'])])),\n",
       "                ('linear_regression', Ridge())])</pre></div></div></div><div class=\"sk-serial\"><div class=\"sk-item sk-dashed-wrapped\"><div class=\"sk-label-container\"><div class=\"sk-label sk-toggleable\"><input class=\"sk-toggleable__control sk-hidden--visually\" id=\"4e41e1c2-346d-47e1-8172-d2ee93052c93\" type=\"checkbox\" ><label class=\"sk-toggleable__label\" for=\"4e41e1c2-346d-47e1-8172-d2ee93052c93\">preprocessing: ColumnTransformer</label><div class=\"sk-toggleable__content\"><pre>ColumnTransformer(transformers=[('num_transformer',\n",
       "                                 Pipeline(steps=[('imputer', SimpleImputer()),\n",
       "                                                 ('scaler', RobustScaler())]),\n",
       "                                 ['revenue', 'returnOnCapitalEmployed',\n",
       "                                  'grossProfit', 'ebitda', 'growth_rate',\n",
       "                                  'ebitda_margin']),\n",
       "                                ('cat_transformer', OneHotEncoder(),\n",
       "                                 ['sector', 'country'])])</pre></div></div></div><div class=\"sk-parallel\"><div class=\"sk-parallel-item\"><div class=\"sk-item\"><div class=\"sk-label-container\"><div class=\"sk-label sk-toggleable\"><input class=\"sk-toggleable__control sk-hidden--visually\" id=\"2f9dc3a1-d802-4aa0-83f2-7ae8818d39c6\" type=\"checkbox\" ><label class=\"sk-toggleable__label\" for=\"2f9dc3a1-d802-4aa0-83f2-7ae8818d39c6\">num_transformer</label><div class=\"sk-toggleable__content\"><pre>['revenue', 'returnOnCapitalEmployed', 'grossProfit', 'ebitda', 'growth_rate', 'ebitda_margin']</pre></div></div></div><div class=\"sk-serial\"><div class=\"sk-item\"><div class=\"sk-serial\"><div class=\"sk-item\"><div class=\"sk-estimator sk-toggleable\"><input class=\"sk-toggleable__control sk-hidden--visually\" id=\"4e3b03fc-ae3d-45e9-bc4d-99623bc5e9ab\" type=\"checkbox\" ><label class=\"sk-toggleable__label\" for=\"4e3b03fc-ae3d-45e9-bc4d-99623bc5e9ab\">SimpleImputer</label><div class=\"sk-toggleable__content\"><pre>SimpleImputer()</pre></div></div></div><div class=\"sk-item\"><div class=\"sk-estimator sk-toggleable\"><input class=\"sk-toggleable__control sk-hidden--visually\" id=\"d1f1b4cd-5a7f-4fd2-a7f1-3ae745897012\" type=\"checkbox\" ><label class=\"sk-toggleable__label\" for=\"d1f1b4cd-5a7f-4fd2-a7f1-3ae745897012\">RobustScaler</label><div class=\"sk-toggleable__content\"><pre>RobustScaler()</pre></div></div></div></div></div></div></div></div><div class=\"sk-parallel-item\"><div class=\"sk-item\"><div class=\"sk-label-container\"><div class=\"sk-label sk-toggleable\"><input class=\"sk-toggleable__control sk-hidden--visually\" id=\"4ff856fd-f94a-4fcb-a2a7-26b6f3226abc\" type=\"checkbox\" ><label class=\"sk-toggleable__label\" for=\"4ff856fd-f94a-4fcb-a2a7-26b6f3226abc\">cat_transformer</label><div class=\"sk-toggleable__content\"><pre>['sector', 'country']</pre></div></div></div><div class=\"sk-serial\"><div class=\"sk-item\"><div class=\"sk-estimator sk-toggleable\"><input class=\"sk-toggleable__control sk-hidden--visually\" id=\"bc22c14b-e8ce-43e0-a7cd-744818cfd502\" type=\"checkbox\" ><label class=\"sk-toggleable__label\" for=\"bc22c14b-e8ce-43e0-a7cd-744818cfd502\">OneHotEncoder</label><div class=\"sk-toggleable__content\"><pre>OneHotEncoder()</pre></div></div></div></div></div></div></div></div><div class=\"sk-item\"><div class=\"sk-estimator sk-toggleable\"><input class=\"sk-toggleable__control sk-hidden--visually\" id=\"08df8ef4-35d2-4962-aa98-8ca3d6976a40\" type=\"checkbox\" ><label class=\"sk-toggleable__label\" for=\"08df8ef4-35d2-4962-aa98-8ca3d6976a40\">Ridge</label><div class=\"sk-toggleable__content\"><pre>Ridge()</pre></div></div></div></div></div></div></div>"
      ],
      "text/plain": [
       "Pipeline(steps=[('preprocessing',\n",
       "                 ColumnTransformer(transformers=[('num_transformer',\n",
       "                                                  Pipeline(steps=[('imputer',\n",
       "                                                                   SimpleImputer()),\n",
       "                                                                  ('scaler',\n",
       "                                                                   RobustScaler())]),\n",
       "                                                  ['revenue',\n",
       "                                                   'returnOnCapitalEmployed',\n",
       "                                                   'grossProfit', 'ebitda',\n",
       "                                                   'growth_rate',\n",
       "                                                   'ebitda_margin']),\n",
       "                                                 ('cat_transformer',\n",
       "                                                  OneHotEncoder(),\n",
       "                                                  ['sector', 'country'])])),\n",
       "                ('linear_regression', Ridge())])"
      ]
     },
     "execution_count": 146,
     "metadata": {},
     "output_type": "execute_result"
    }
   ],
   "source": [
    "final_pipe"
   ]
  },
  {
   "cell_type": "code",
   "execution_count": 147,
   "id": "ordinary-denial",
   "metadata": {},
   "outputs": [
    {
     "data": {
      "text/html": [
       "<style>div.sk-top-container {color: black;background-color: white;}div.sk-toggleable {background-color: white;}label.sk-toggleable__label {cursor: pointer;display: block;width: 100%;margin-bottom: 0;padding: 0.2em 0.3em;box-sizing: border-box;text-align: center;}div.sk-toggleable__content {max-height: 0;max-width: 0;overflow: hidden;text-align: left;background-color: #f0f8ff;}div.sk-toggleable__content pre {margin: 0.2em;color: black;border-radius: 0.25em;background-color: #f0f8ff;}input.sk-toggleable__control:checked~div.sk-toggleable__content {max-height: 200px;max-width: 100%;overflow: auto;}div.sk-estimator input.sk-toggleable__control:checked~label.sk-toggleable__label {background-color: #d4ebff;}div.sk-label input.sk-toggleable__control:checked~label.sk-toggleable__label {background-color: #d4ebff;}input.sk-hidden--visually {border: 0;clip: rect(1px 1px 1px 1px);clip: rect(1px, 1px, 1px, 1px);height: 1px;margin: -1px;overflow: hidden;padding: 0;position: absolute;width: 1px;}div.sk-estimator {font-family: monospace;background-color: #f0f8ff;margin: 0.25em 0.25em;border: 1px dotted black;border-radius: 0.25em;box-sizing: border-box;}div.sk-estimator:hover {background-color: #d4ebff;}div.sk-parallel-item::after {content: \"\";width: 100%;border-bottom: 1px solid gray;flex-grow: 1;}div.sk-label:hover label.sk-toggleable__label {background-color: #d4ebff;}div.sk-serial::before {content: \"\";position: absolute;border-left: 1px solid gray;box-sizing: border-box;top: 2em;bottom: 0;left: 50%;}div.sk-serial {display: flex;flex-direction: column;align-items: center;background-color: white;}div.sk-item {z-index: 1;}div.sk-parallel {display: flex;align-items: stretch;justify-content: center;background-color: white;}div.sk-parallel-item {display: flex;flex-direction: column;position: relative;background-color: white;}div.sk-parallel-item:first-child::after {align-self: flex-end;width: 50%;}div.sk-parallel-item:last-child::after {align-self: flex-start;width: 50%;}div.sk-parallel-item:only-child::after {width: 0;}div.sk-dashed-wrapped {border: 1px dashed gray;margin: 0.2em;box-sizing: border-box;padding-bottom: 0.1em;background-color: white;position: relative;}div.sk-label label {font-family: monospace;font-weight: bold;background-color: white;display: inline-block;line-height: 1.2em;}div.sk-label-container {position: relative;z-index: 2;text-align: center;}div.sk-container {display: inline-block;position: relative;}</style><div class=\"sk-top-container\"><div class=\"sk-container\"><div class=\"sk-item sk-dashed-wrapped\"><div class=\"sk-label-container\"><div class=\"sk-label sk-toggleable\"><input class=\"sk-toggleable__control sk-hidden--visually\" id=\"3514d4e1-8dfe-4ac2-8140-63476fa66575\" type=\"checkbox\" ><label class=\"sk-toggleable__label\" for=\"3514d4e1-8dfe-4ac2-8140-63476fa66575\">Pipeline</label><div class=\"sk-toggleable__content\"><pre>Pipeline(steps=[('preprocessing',\n",
       "                 ColumnTransformer(transformers=[('num_transformer',\n",
       "                                                  Pipeline(steps=[('imputer',\n",
       "                                                                   SimpleImputer()),\n",
       "                                                                  ('scaler',\n",
       "                                                                   RobustScaler())]),\n",
       "                                                  ['revenue',\n",
       "                                                   'returnOnCapitalEmployed',\n",
       "                                                   'grossProfit', 'ebitda',\n",
       "                                                   'growth_rate',\n",
       "                                                   'ebitda_margin']),\n",
       "                                                 ('cat_transformer',\n",
       "                                                  OneHotEncoder(),\n",
       "                                                  ['sector', 'country'])])),\n",
       "                ('linear_regression', Ridge())])</pre></div></div></div><div class=\"sk-serial\"><div class=\"sk-item sk-dashed-wrapped\"><div class=\"sk-label-container\"><div class=\"sk-label sk-toggleable\"><input class=\"sk-toggleable__control sk-hidden--visually\" id=\"9c4fe08e-57c4-4a8b-8bef-553752267ed3\" type=\"checkbox\" ><label class=\"sk-toggleable__label\" for=\"9c4fe08e-57c4-4a8b-8bef-553752267ed3\">preprocessing: ColumnTransformer</label><div class=\"sk-toggleable__content\"><pre>ColumnTransformer(transformers=[('num_transformer',\n",
       "                                 Pipeline(steps=[('imputer', SimpleImputer()),\n",
       "                                                 ('scaler', RobustScaler())]),\n",
       "                                 ['revenue', 'returnOnCapitalEmployed',\n",
       "                                  'grossProfit', 'ebitda', 'growth_rate',\n",
       "                                  'ebitda_margin']),\n",
       "                                ('cat_transformer', OneHotEncoder(),\n",
       "                                 ['sector', 'country'])])</pre></div></div></div><div class=\"sk-parallel\"><div class=\"sk-parallel-item\"><div class=\"sk-item\"><div class=\"sk-label-container\"><div class=\"sk-label sk-toggleable\"><input class=\"sk-toggleable__control sk-hidden--visually\" id=\"02e3522a-6695-4d18-8b6d-98d2e4424c78\" type=\"checkbox\" ><label class=\"sk-toggleable__label\" for=\"02e3522a-6695-4d18-8b6d-98d2e4424c78\">num_transformer</label><div class=\"sk-toggleable__content\"><pre>['revenue', 'returnOnCapitalEmployed', 'grossProfit', 'ebitda', 'growth_rate', 'ebitda_margin']</pre></div></div></div><div class=\"sk-serial\"><div class=\"sk-item\"><div class=\"sk-serial\"><div class=\"sk-item\"><div class=\"sk-estimator sk-toggleable\"><input class=\"sk-toggleable__control sk-hidden--visually\" id=\"c24ebe1f-7216-40c1-928d-456d3de293bc\" type=\"checkbox\" ><label class=\"sk-toggleable__label\" for=\"c24ebe1f-7216-40c1-928d-456d3de293bc\">SimpleImputer</label><div class=\"sk-toggleable__content\"><pre>SimpleImputer()</pre></div></div></div><div class=\"sk-item\"><div class=\"sk-estimator sk-toggleable\"><input class=\"sk-toggleable__control sk-hidden--visually\" id=\"b67ac44b-ec2e-4a55-b7a7-a5b8d4ed12e9\" type=\"checkbox\" ><label class=\"sk-toggleable__label\" for=\"b67ac44b-ec2e-4a55-b7a7-a5b8d4ed12e9\">RobustScaler</label><div class=\"sk-toggleable__content\"><pre>RobustScaler()</pre></div></div></div></div></div></div></div></div><div class=\"sk-parallel-item\"><div class=\"sk-item\"><div class=\"sk-label-container\"><div class=\"sk-label sk-toggleable\"><input class=\"sk-toggleable__control sk-hidden--visually\" id=\"ad833926-a969-4f08-b219-9fdf5a1e304e\" type=\"checkbox\" ><label class=\"sk-toggleable__label\" for=\"ad833926-a969-4f08-b219-9fdf5a1e304e\">cat_transformer</label><div class=\"sk-toggleable__content\"><pre>['sector', 'country']</pre></div></div></div><div class=\"sk-serial\"><div class=\"sk-item\"><div class=\"sk-estimator sk-toggleable\"><input class=\"sk-toggleable__control sk-hidden--visually\" id=\"8daf1e98-cb1f-4581-820d-e9018831bb09\" type=\"checkbox\" ><label class=\"sk-toggleable__label\" for=\"8daf1e98-cb1f-4581-820d-e9018831bb09\">OneHotEncoder</label><div class=\"sk-toggleable__content\"><pre>OneHotEncoder()</pre></div></div></div></div></div></div></div></div><div class=\"sk-item\"><div class=\"sk-estimator sk-toggleable\"><input class=\"sk-toggleable__control sk-hidden--visually\" id=\"5dc0e896-dc07-41b5-9c00-1165cf10745f\" type=\"checkbox\" ><label class=\"sk-toggleable__label\" for=\"5dc0e896-dc07-41b5-9c00-1165cf10745f\">Ridge</label><div class=\"sk-toggleable__content\"><pre>Ridge()</pre></div></div></div></div></div></div></div>"
      ],
      "text/plain": [
       "Pipeline(steps=[('preprocessing',\n",
       "                 ColumnTransformer(transformers=[('num_transformer',\n",
       "                                                  Pipeline(steps=[('imputer',\n",
       "                                                                   SimpleImputer()),\n",
       "                                                                  ('scaler',\n",
       "                                                                   RobustScaler())]),\n",
       "                                                  ['revenue',\n",
       "                                                   'returnOnCapitalEmployed',\n",
       "                                                   'grossProfit', 'ebitda',\n",
       "                                                   'growth_rate',\n",
       "                                                   'ebitda_margin']),\n",
       "                                                 ('cat_transformer',\n",
       "                                                  OneHotEncoder(),\n",
       "                                                  ['sector', 'country'])])),\n",
       "                ('linear_regression', Ridge())])"
      ]
     },
     "execution_count": 147,
     "metadata": {},
     "output_type": "execute_result"
    }
   ],
   "source": [
    "final_pipe.fit(X,y)"
   ]
  },
  {
   "cell_type": "code",
   "execution_count": null,
   "id": "governing-annex",
   "metadata": {},
   "outputs": [],
   "source": [
    "import"
   ]
  }
 ],
 "metadata": {
  "kernelspec": {
   "display_name": "Python 3",
   "language": "python",
   "name": "python3"
  },
  "language_info": {
   "codemirror_mode": {
    "name": "ipython",
    "version": 3
   },
   "file_extension": ".py",
   "mimetype": "text/x-python",
   "name": "python",
   "nbconvert_exporter": "python",
   "pygments_lexer": "ipython3",
   "version": "3.8.6"
  }
 },
 "nbformat": 4,
 "nbformat_minor": 5
}
