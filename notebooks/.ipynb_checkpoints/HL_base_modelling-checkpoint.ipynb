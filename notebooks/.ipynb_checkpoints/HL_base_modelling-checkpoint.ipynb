{
 "cells": [
  {
   "cell_type": "code",
   "execution_count": 100,
   "id": "coastal-dinner",
   "metadata": {},
   "outputs": [],
   "source": [
    "import numpy as np"
   ]
  },
  {
   "cell_type": "code",
   "execution_count": 28,
   "id": "competitive-payroll",
   "metadata": {},
   "outputs": [],
   "source": [
    "from sklearn.model_selection import train_test_split\n",
    "from sklearn.preprocessing import RobustScaler, OneHotEncoder, MinMaxScaler, StandardScaler\n",
    "from sklearn.compose import ColumnTransformer\n",
    "from sklearn.pipeline import Pipeline\n",
    "from sklearn.impute import SimpleImputer"
   ]
  },
  {
   "cell_type": "code",
   "execution_count": 60,
   "id": "alien-central",
   "metadata": {},
   "outputs": [],
   "source": [
    "from sklearn.ensemble import RandomForestRegressor\n",
    "from sklearn.neighbors import KNeighborsRegressor\n",
    "from sklearn.svm import SVR\n",
    "from sklearn.linear_model import Ridge, Lasso, LinearRegression"
   ]
  },
  {
   "cell_type": "code",
   "execution_count": 9,
   "id": "alike-lobby",
   "metadata": {},
   "outputs": [],
   "source": [
    "from Company_Valuation.data import get_data\n",
    "from Company_Valuation.utils import vectorize"
   ]
  },
  {
   "cell_type": "markdown",
   "id": "retired-break",
   "metadata": {},
   "source": [
    "# Prepare Data"
   ]
  },
  {
   "cell_type": "code",
   "execution_count": 2,
   "id": "needed-basis",
   "metadata": {},
   "outputs": [],
   "source": [
    "df = get_data()\n",
    "\n",
    "df_vect = vectorize(df)"
   ]
  },
  {
   "cell_type": "code",
   "execution_count": 80,
   "id": "delayed-warren",
   "metadata": {},
   "outputs": [],
   "source": [
    "X = df_vect[['ebitda','returnOnCapitalEmployed', 'ebitda_margin','growth_rate', 'size']]\n",
    "y = df_vect['enterpriseValue']\n",
    "\n",
    "X_train, X_test, y_train, y_test = train_test_split(X, y, test_size=0.2)"
   ]
  },
  {
   "cell_type": "markdown",
   "id": "later-submission",
   "metadata": {},
   "source": [
    "# Pipeline"
   ]
  },
  {
   "cell_type": "code",
   "execution_count": 93,
   "id": "governmental-indonesian",
   "metadata": {},
   "outputs": [],
   "source": [
    "def pipeline(model):\n",
    "    num_transformer = Pipeline([('imputer', SimpleImputer()),\n",
    "                                    ('scaler', RobustScaler())])\n",
    "    # Preprocessor\n",
    "    preprocessor = ColumnTransformer([\n",
    "        ('num_transformer', num_transformer, ['size','returnOnCapitalEmployed','ebitda', 'growth_rate', 'ebitda_margin']),\n",
    "        ('cat_transformer', OneHotEncoder(), [])],\n",
    "        remainder='passthrough')\n",
    "\n",
    "\n",
    "    # Combine preprocessor and linear model in pipeline\n",
    "    final_pipe = Pipeline([\n",
    "        ('preprocessing', preprocessor),\n",
    "        (f'{model}', model)])\n",
    "    return final_pipe"
   ]
  },
  {
   "cell_type": "markdown",
   "id": "naked-award",
   "metadata": {},
   "source": [
    "# Predict Median/Mean Baseline"
   ]
  },
  {
   "cell_type": "code",
   "execution_count": 110,
   "id": "familiar-catch",
   "metadata": {
    "scrolled": true
   },
   "outputs": [
    {
     "data": {
      "text/plain": [
       "8757.13737242966"
      ]
     },
     "execution_count": 110,
     "metadata": {},
     "output_type": "execute_result"
    }
   ],
   "source": [
    "median = y.median()\n",
    "\n",
    "median_pred = np.full((939,), median)\n",
    "\n",
    "median_score = mean_absolute_error(y_test, median_pred)\n",
    "median_score"
   ]
  },
  {
   "cell_type": "code",
   "execution_count": 111,
   "id": "electrical-drive",
   "metadata": {},
   "outputs": [
    {
     "data": {
      "text/plain": [
       "12141.767957622353"
      ]
     },
     "execution_count": 111,
     "metadata": {},
     "output_type": "execute_result"
    }
   ],
   "source": [
    "mean = y.mean()\n",
    "\n",
    "mean_pred = np.full((939,), mean)\n",
    "\n",
    "mean_score = mean_absolute_error(y_test, mean_pred)\n",
    "mean_score"
   ]
  },
  {
   "cell_type": "markdown",
   "id": "alone-medication",
   "metadata": {},
   "source": [
    "# Base model Scores"
   ]
  },
  {
   "cell_type": "code",
   "execution_count": 84,
   "id": "atlantic-costa",
   "metadata": {},
   "outputs": [
    {
     "name": "stdout",
     "output_type": "stream",
     "text": [
      "Done Ridge(alpha=1.0, copy_X=True, fit_intercept=True, max_iter=None,\n",
      "      normalize=False, random_state=None, solver='auto', tol=0.001)\n",
      "Done Lasso(alpha=1.0, copy_X=True, fit_intercept=True, max_iter=1000,\n",
      "      normalize=False, positive=False, precompute=False, random_state=None,\n",
      "      selection='cyclic', tol=0.0001, warm_start=False)\n",
      "Done LinearRegression(copy_X=True, fit_intercept=True, n_jobs=None, normalize=False)\n",
      "Done SVR(C=1.0, cache_size=200, coef0=0.0, degree=3, epsilon=0.1, gamma='scale',\n",
      "    kernel='rbf', max_iter=-1, shrinking=True, tol=0.001, verbose=False)\n",
      "Done KNeighborsRegressor(algorithm='auto', leaf_size=30, metric='minkowski',\n",
      "                    metric_params=None, n_jobs=None, n_neighbors=5, p=2,\n",
      "                    weights='uniform')\n",
      "Done RandomForestRegressor(bootstrap=True, ccp_alpha=0.0, criterion='mse',\n",
      "                      max_depth=None, max_features='auto', max_leaf_nodes=None,\n",
      "                      max_samples=None, min_impurity_decrease=0.0,\n",
      "                      min_impurity_split=None, min_samples_leaf=1,\n",
      "                      min_samples_split=2, min_weight_fraction_leaf=0.0,\n",
      "                      n_estimators=100, n_jobs=None, oob_score=False,\n",
      "                      random_state=None, verbose=0, warm_start=False)\n"
     ]
    }
   ],
   "source": [
    "results = {}\n",
    "\n",
    "predictions = []\n",
    "\n",
    "models = [Ridge(), Lasso(), LinearRegression(), SVR(), KNeighborsRegressor(), RandomForestRegressor()]\n",
    "\n",
    "for model in models:\n",
    "    pipe = pipeline(model)\n",
    "    pipe.fit(X_train, y_train)\n",
    "    y_pred = pipe.predict(X_test)\n",
    "    predictions.append(y_pred)\n",
    "    mae = mean_absolute_error(y_test, y_pred)\n",
    "    results[model] = mae\n",
    "    print(f'Done {model}')"
   ]
  },
  {
   "cell_type": "code",
   "execution_count": 85,
   "id": "vertical-grain",
   "metadata": {
    "scrolled": true
   },
   "outputs": [
    {
     "data": {
      "text/plain": [
       "{Ridge(alpha=1.0, copy_X=True, fit_intercept=True, max_iter=None,\n",
       "       normalize=False, random_state=None, solver='auto', tol=0.001): 7270.43409002412,\n",
       " Lasso(alpha=1.0, copy_X=True, fit_intercept=True, max_iter=1000,\n",
       "       normalize=False, positive=False, precompute=False, random_state=None,\n",
       "       selection='cyclic', tol=0.0001, warm_start=False): 7270.5397694571175,\n",
       " LinearRegression(copy_X=True, fit_intercept=True, n_jobs=None, normalize=False): 7271.017905924498,\n",
       " SVR(C=1.0, cache_size=200, coef0=0.0, degree=3, epsilon=0.1, gamma='scale',\n",
       "     kernel='rbf', max_iter=-1, shrinking=True, tol=0.001, verbose=False): 8687.177840558552,\n",
       " KNeighborsRegressor(algorithm='auto', leaf_size=30, metric='minkowski',\n",
       "                     metric_params=None, n_jobs=None, n_neighbors=5, p=2,\n",
       "                     weights='uniform'): 5066.276463765571,\n",
       " RandomForestRegressor(bootstrap=True, ccp_alpha=0.0, criterion='mse',\n",
       "                       max_depth=None, max_features='auto', max_leaf_nodes=None,\n",
       "                       max_samples=None, min_impurity_decrease=0.0,\n",
       "                       min_impurity_split=None, min_samples_leaf=1,\n",
       "                       min_samples_split=2, min_weight_fraction_leaf=0.0,\n",
       "                       n_estimators=100, n_jobs=None, oob_score=False,\n",
       "                       random_state=None, verbose=0, warm_start=False): 4131.182765275218}"
      ]
     },
     "execution_count": 85,
     "metadata": {},
     "output_type": "execute_result"
    }
   ],
   "source": [
    "results"
   ]
  },
  {
   "cell_type": "markdown",
   "id": "refined-strain",
   "metadata": {},
   "source": [
    "# Predictions"
   ]
  },
  {
   "cell_type": "code",
   "execution_count": 86,
   "id": "aggregate-addition",
   "metadata": {},
   "outputs": [
    {
     "data": {
      "image/png": "[encoded data removed]",
      "text/plain": [
       "<Figure size 360x2160 with 6 Axes>"
      ]
     },
     "metadata": {
      "needs_background": "light"
     },
     "output_type": "display_data"
    }
   ],
   "source": [
    "fig, axs = plt.subplots(6,1, figsize=(5, 30))\n",
    "counter = 0\n",
    "for pred in predictions:\n",
    "    axs[counter].hist(pred)\n",
    "    counter += 1"
   ]
  }
 ],
 "metadata": {
  "kernelspec": {
   "display_name": "Python 3",
   "language": "python",
   "name": "python3"
  },
  "language_info": {
   "codemirror_mode": {
    "name": "ipython",
    "version": 3
   },
   "file_extension": ".py",
   "mimetype": "text/x-python",
   "name": "python",
   "nbconvert_exporter": "python",
   "pygments_lexer": "ipython3",
   "version": "3.8.6"
  },
  "toc": {
   "base_numbering": 1,
   "nav_menu": {},
   "number_sections": true,
   "sideBar": true,
   "skip_h1_title": false,
   "title_cell": "Table of Contents",
   "title_sidebar": "Contents",
   "toc_cell": false,
   "toc_position": {},
   "toc_section_display": true,
   "toc_window_display": false
  }
 },
 "nbformat": 4,
 "nbformat_minor": 5
}
