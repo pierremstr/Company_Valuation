{
 "cells": [
  {
   "cell_type": "markdown",
   "id": "documentary-fitness",
   "metadata": {},
   "source": [
    "# NLP Initial Set Up"
   ]
  },
  {
   "cell_type": "code",
   "execution_count": 1,
   "id": "viral-engagement",
   "metadata": {},
   "outputs": [],
   "source": [
    "import requests\n",
    "import pandas as pd"
   ]
  },
  {
   "cell_type": "markdown",
   "id": "innocent-tuesday",
   "metadata": {},
   "source": [
    "## Import Test Data"
   ]
  },
  {
   "cell_type": "code",
   "execution_count": 2,
   "id": "approved-velvet",
   "metadata": {},
   "outputs": [],
   "source": [
    "symbols = [\"AAPL\", \"AMZN\", \"FB\"]\n",
    "\n",
    "descriptions = {}\n",
    "\n",
    "for stock in symbols:\n",
    "    url = f\"http://iex.lewagon.com/stable/stock/{stock}/company/\"\n",
    "    response = requests.get(url).json()\n",
    "    # Make a list out of industry and sector \n",
    "    descriptions[stock] = [response['industry'], response['sector']]\n",
    "    # Add each tag to the list\n",
    "    for tag in response['tags']:\n",
    "        descriptions[stock].append(tag)"
   ]
  },
  {
   "cell_type": "code",
   "execution_count": 3,
   "id": "overhead-anatomy",
   "metadata": {},
   "outputs": [
    {
     "data": {
      "text/plain": [
       "{'AAPL': ['Electronic Computer Manufacturing ',\n",
       "  'Manufacturing',\n",
       "  'Electronic Technology',\n",
       "  'Telecommunications Equipment',\n",
       "  'Manufacturing',\n",
       "  'Electronic Computer Manufacturing '],\n",
       " 'AMZN': ['Electronic Shopping and Mail-Order Houses ',\n",
       "  'Retail Trade',\n",
       "  'Retail Trade',\n",
       "  'Internet Retail'],\n",
       " 'FB': ['Data Processing, Hosting, and Related Services',\n",
       "  'Information',\n",
       "  'Technology Services',\n",
       "  'Internet Software/Services',\n",
       "  'Miscellaneous Commercial Services',\n",
       "  'Commercial Services',\n",
       "  'Information',\n",
       "  'Data Processing, Hosting, and Related Services']}"
      ]
     },
     "execution_count": 3,
     "metadata": {},
     "output_type": "execute_result"
    }
   ],
   "source": [
    "descriptions"
   ]
  },
  {
   "cell_type": "markdown",
   "id": "valid-heath",
   "metadata": {},
   "source": [
    "## Cleaning"
   ]
  },
  {
   "cell_type": "code",
   "execution_count": 4,
   "id": "completed-registrar",
   "metadata": {},
   "outputs": [],
   "source": [
    "for stock in descriptions.keys():\n",
    "    # Remove duplicated phrases\n",
    "    descriptions[stock] = list(set(descriptions[stock]))\n",
    "    # Remove additional spaces\n",
    "    for i in range(len(descriptions[stock])):\n",
    "        descriptions[stock][i] = descriptions[stock][i].strip()\n",
    "    # Combine each phrase into single string\n",
    "    descriptions[stock] = ', '.join(descriptions[stock])"
   ]
  },
  {
   "cell_type": "markdown",
   "id": "grand-rescue",
   "metadata": {},
   "source": [
    "## Create DataFrame"
   ]
  },
  {
   "cell_type": "code",
   "execution_count": 5,
   "id": "wrapped-nudist",
   "metadata": {},
   "outputs": [],
   "source": [
    "info_series = pd.Series(descriptions)\n",
    "\n",
    "info_df = pd.DataFrame(info_series).reset_index()\n",
    "\n",
    "info_df.rename(columns={0:'info', 'index': 'company'}, inplace=True)"
   ]
  },
  {
   "cell_type": "markdown",
   "id": "cognitive-legislation",
   "metadata": {},
   "source": [
    "## Vectorize the information"
   ]
  },
  {
   "cell_type": "code",
   "execution_count": 6,
   "id": "printable-threshold",
   "metadata": {},
   "outputs": [
    {
     "data": {
      "text/plain": [
       "array([[0, 0, 0, 0, 0, 0, 0, 0, 0, 1, 1, 0, 0, 0, 2, 1, 1, 0, 0, 1, 1, 1,\n",
       "        1, 1, 0, 0, 0, 0, 0, 0, 0, 0, 0, 0, 0, 0, 0, 0, 0, 0, 0, 2, 1, 1,\n",
       "        0, 0, 0, 0, 0, 0, 0, 0, 0, 0, 0, 0, 0, 0, 0, 0, 0, 0, 0, 0, 0, 0,\n",
       "        0, 0, 0, 0, 0, 0, 0, 0, 1, 0, 0, 1, 1, 1, 1, 1, 0],\n",
       "       [1, 1, 1, 0, 0, 0, 0, 0, 0, 0, 0, 0, 0, 0, 1, 0, 0, 1, 1, 0, 0, 0,\n",
       "        0, 0, 0, 0, 0, 1, 1, 1, 0, 0, 0, 1, 1, 1, 0, 0, 1, 1, 1, 0, 0, 0,\n",
       "        0, 0, 0, 1, 1, 1, 0, 0, 0, 0, 0, 2, 1, 1, 1, 0, 0, 0, 0, 0, 0, 0,\n",
       "        0, 0, 1, 1, 1, 0, 0, 0, 0, 0, 0, 0, 0, 0, 0, 0, 1],\n",
       "       [1, 0, 0, 1, 1, 2, 2, 1, 1, 0, 0, 1, 1, 1, 0, 0, 0, 0, 0, 0, 0, 0,\n",
       "        0, 0, 1, 1, 1, 0, 0, 0, 1, 1, 1, 1, 0, 0, 1, 1, 0, 0, 0, 0, 0, 0,\n",
       "        1, 1, 1, 0, 0, 0, 1, 1, 1, 1, 1, 0, 0, 0, 0, 5, 1, 1, 1, 1, 1, 1,\n",
       "        1, 1, 0, 0, 0, 1, 1, 1, 1, 1, 1, 0, 0, 0, 0, 0, 0]])"
      ]
     },
     "execution_count": 6,
     "metadata": {},
     "output_type": "execute_result"
    }
   ],
   "source": [
    "from sklearn.feature_extraction.text import CountVectorizer\n",
    "\n",
    "vectorizer = CountVectorizer(ngram_range=(1,3), max_df=0.95, min_df=0.05)\n",
    "\n",
    "X = vectorizer.fit_transform(info_df['info'])\n",
    "\n",
    "X.toarray()"
   ]
  },
  {
   "cell_type": "markdown",
   "id": "broken-function",
   "metadata": {},
   "source": [
    "## Merge vectorization into DataFrame"
   ]
  },
  {
   "cell_type": "code",
   "execution_count": 7,
   "id": "united-morning",
   "metadata": {
    "scrolled": true
   },
   "outputs": [],
   "source": [
    "vect_df = pd.DataFrame(X.toarray(), columns=vectorizer.get_feature_names(), index= info_df.index)\n",
    "\n",
    "merged_df = info_df.merge(vect_df, left_index=True, right_index=True, how='left')\n",
    "\n",
    "merged_df.drop(columns=['info'], inplace=True)"
   ]
  },
  {
   "cell_type": "code",
   "execution_count": 8,
   "id": "exact-porcelain",
   "metadata": {},
   "outputs": [
    {
     "data": {
      "text/html": [
       "<div>\n",
       "<style scoped>\n",
       "    .dataframe tbody tr th:only-of-type {\n",
       "        vertical-align: middle;\n",
       "    }\n",
       "\n",
       "    .dataframe tbody tr th {\n",
       "        vertical-align: top;\n",
       "    }\n",
       "\n",
       "    .dataframe thead th {\n",
       "        text-align: right;\n",
       "    }\n",
       "</style>\n",
       "<table border=\"1\" class=\"dataframe\">\n",
       "  <thead>\n",
       "    <tr style=\"text-align: right;\">\n",
       "      <th></th>\n",
       "      <th>company</th>\n",
       "      <th>and</th>\n",
       "      <th>and mail</th>\n",
       "      <th>and mail order</th>\n",
       "      <th>and related</th>\n",
       "      <th>and related services</th>\n",
       "      <th>commercial</th>\n",
       "      <th>commercial services</th>\n",
       "      <th>commercial services commercial</th>\n",
       "      <th>commercial services data</th>\n",
       "      <th>...</th>\n",
       "      <th>software services technology</th>\n",
       "      <th>technology</th>\n",
       "      <th>technology services</th>\n",
       "      <th>technology services information</th>\n",
       "      <th>technology telecommunications</th>\n",
       "      <th>technology telecommunications equipment</th>\n",
       "      <th>telecommunications</th>\n",
       "      <th>telecommunications equipment</th>\n",
       "      <th>telecommunications equipment electronic</th>\n",
       "      <th>trade</th>\n",
       "    </tr>\n",
       "  </thead>\n",
       "  <tbody>\n",
       "    <tr>\n",
       "      <th>0</th>\n",
       "      <td>AAPL</td>\n",
       "      <td>0</td>\n",
       "      <td>0</td>\n",
       "      <td>0</td>\n",
       "      <td>0</td>\n",
       "      <td>0</td>\n",
       "      <td>0</td>\n",
       "      <td>0</td>\n",
       "      <td>0</td>\n",
       "      <td>0</td>\n",
       "      <td>...</td>\n",
       "      <td>0</td>\n",
       "      <td>1</td>\n",
       "      <td>0</td>\n",
       "      <td>0</td>\n",
       "      <td>1</td>\n",
       "      <td>1</td>\n",
       "      <td>1</td>\n",
       "      <td>1</td>\n",
       "      <td>1</td>\n",
       "      <td>0</td>\n",
       "    </tr>\n",
       "    <tr>\n",
       "      <th>1</th>\n",
       "      <td>AMZN</td>\n",
       "      <td>1</td>\n",
       "      <td>1</td>\n",
       "      <td>1</td>\n",
       "      <td>0</td>\n",
       "      <td>0</td>\n",
       "      <td>0</td>\n",
       "      <td>0</td>\n",
       "      <td>0</td>\n",
       "      <td>0</td>\n",
       "      <td>...</td>\n",
       "      <td>0</td>\n",
       "      <td>0</td>\n",
       "      <td>0</td>\n",
       "      <td>0</td>\n",
       "      <td>0</td>\n",
       "      <td>0</td>\n",
       "      <td>0</td>\n",
       "      <td>0</td>\n",
       "      <td>0</td>\n",
       "      <td>1</td>\n",
       "    </tr>\n",
       "    <tr>\n",
       "      <th>2</th>\n",
       "      <td>FB</td>\n",
       "      <td>1</td>\n",
       "      <td>0</td>\n",
       "      <td>0</td>\n",
       "      <td>1</td>\n",
       "      <td>1</td>\n",
       "      <td>2</td>\n",
       "      <td>2</td>\n",
       "      <td>1</td>\n",
       "      <td>1</td>\n",
       "      <td>...</td>\n",
       "      <td>1</td>\n",
       "      <td>1</td>\n",
       "      <td>1</td>\n",
       "      <td>1</td>\n",
       "      <td>0</td>\n",
       "      <td>0</td>\n",
       "      <td>0</td>\n",
       "      <td>0</td>\n",
       "      <td>0</td>\n",
       "      <td>0</td>\n",
       "    </tr>\n",
       "  </tbody>\n",
       "</table>\n",
       "<p>3 rows × 84 columns</p>\n",
       "</div>"
      ],
      "text/plain": [
       "  company  and  and mail  and mail order  and related  and related services  \\\n",
       "0    AAPL    0         0               0            0                     0   \n",
       "1    AMZN    1         1               1            0                     0   \n",
       "2      FB    1         0               0            1                     1   \n",
       "\n",
       "   commercial  commercial services  commercial services commercial  \\\n",
       "0           0                    0                               0   \n",
       "1           0                    0                               0   \n",
       "2           2                    2                               1   \n",
       "\n",
       "   commercial services data  ...  software services technology  technology  \\\n",
       "0                         0  ...                             0           1   \n",
       "1                         0  ...                             0           0   \n",
       "2                         1  ...                             1           1   \n",
       "\n",
       "   technology services  technology services information  \\\n",
       "0                    0                                0   \n",
       "1                    0                                0   \n",
       "2                    1                                1   \n",
       "\n",
       "   technology telecommunications  technology telecommunications equipment  \\\n",
       "0                              1                                        1   \n",
       "1                              0                                        0   \n",
       "2                              0                                        0   \n",
       "\n",
       "   telecommunications  telecommunications equipment  \\\n",
       "0                   1                             1   \n",
       "1                   0                             0   \n",
       "2                   0                             0   \n",
       "\n",
       "   telecommunications equipment electronic  trade  \n",
       "0                                        1      0  \n",
       "1                                        0      1  \n",
       "2                                        0      0  \n",
       "\n",
       "[3 rows x 84 columns]"
      ]
     },
     "execution_count": 8,
     "metadata": {},
     "output_type": "execute_result"
    }
   ],
   "source": [
    "merged_df"
   ]
  }
 ],
 "metadata": {
  "kernelspec": {
   "display_name": "Python 3",
   "language": "python",
   "name": "python3"
  },
  "language_info": {
   "codemirror_mode": {
    "name": "ipython",
    "version": 3
   },
   "file_extension": ".py",
   "mimetype": "text/x-python",
   "name": "python",
   "nbconvert_exporter": "python",
   "pygments_lexer": "ipython3",
   "version": "3.8.6"
  },
  "toc": {
   "base_numbering": 1,
   "nav_menu": {},
   "number_sections": true,
   "sideBar": true,
   "skip_h1_title": false,
   "title_cell": "Table of Contents",
   "title_sidebar": "Contents",
   "toc_cell": false,
   "toc_position": {},
   "toc_section_display": true,
   "toc_window_display": true
  }
 },
 "nbformat": 4,
 "nbformat_minor": 5
}
